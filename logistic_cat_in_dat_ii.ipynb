{
  "nbformat": 4,
  "nbformat_minor": 0,
  "metadata": {
    "kernelspec": {
      "name": "python3",
      "display_name": "Python 3"
    },
    "language_info": {
      "codemirror_mode": {
        "name": "ipython",
        "version": 3
      },
      "file_extension": ".py",
      "mimetype": "text/x-python",
      "name": "python",
      "nbconvert_exporter": "python",
      "pygments_lexer": "ipython3",
      "version": "3.6.8"
    },
    "colab": {
      "name": "Copy of logistic_cat_in_dat_ii.ipynb",
      "provenance": [],
      "collapsed_sections": [
        "bbtF7uaxjE7d"
      ],
      "machine_shape": "hm",
      "include_colab_link": true
    },
    "accelerator": "GPU"
  },
  "cells": [
    {
      "cell_type": "markdown",
      "metadata": {
        "id": "view-in-github",
        "colab_type": "text"
      },
      "source": [
        "<a href=\"https://colab.research.google.com/github/merles/Deep-Learning/blob/master/logistic_cat_in_dat_ii.ipynb\" target=\"_parent\"><img src=\"https://colab.research.google.com/assets/colab-badge.svg\" alt=\"Open In Colab\"/></a>"
      ]
    },
    {
      "cell_type": "code",
      "metadata": {
        "_cell_guid": "b1076dfc-b9ad-4769-8c92-a6c4dae69d19",
        "_uuid": "8f2839f25d086af736a60e9eeb907d3b93b6e0e5",
        "id": "mfzjAQPljE5k",
        "colab_type": "code",
        "colab": {}
      },
      "source": [
        "# This Python 3 environment comes with many helpful analytics libraries installed\n",
        "# It is defined by the kaggle/python docker image: https://github.com/kaggle/docker-python\n",
        "# For example, here's several helpful packages to load in \n",
        "\n",
        "import numpy as np # linear algebra\n",
        "import pandas as pd # data processing, CSV file I/O (e.g. pd.read_csv)\n",
        "from math import sin, cos, pi\n",
        "# Input data files are available in the \"../input/\" directory.\n",
        "# For example, running this (by clicking run or pressing Shift+Enter) will list all files under the input directory\n",
        "import string\n",
        "from sklearn.metrics import roc_auc_score, confusion_matrix\n",
        "from sklearn.model_selection import StratifiedKFold, train_test_split\n",
        "from sklearn.impute import SimpleImputer"
      ],
      "execution_count": 0,
      "outputs": []
    },
    {
      "cell_type": "code",
      "metadata": {
        "id": "wtdMyXJYlfIc",
        "colab_type": "code",
        "outputId": "7e799cb4-c259-441c-b862-7b01aad367b9",
        "colab": {
          "base_uri": "https://localhost:8080/",
          "height": 34
        }
      },
      "source": [
        "from google.colab import drive\n",
        "drive.mount('/content/drive')\n",
        "path = './drive/My\\ Drive/Colab\\ Notebooks/cat_in_dat_ii/input/'"
      ],
      "execution_count": 0,
      "outputs": [
        {
          "output_type": "stream",
          "text": [
            "Drive already mounted at /content/drive; to attempt to forcibly remount, call drive.mount(\"/content/drive\", force_remount=True).\n"
          ],
          "name": "stdout"
        }
      ]
    },
    {
      "cell_type": "code",
      "metadata": {
        "id": "eullENKQnZRA",
        "colab_type": "code",
        "outputId": "638a3da5-30ad-4a86-c596-7a5614fc9407",
        "colab": {
          "base_uri": "https://localhost:8080/",
          "height": 34
        }
      },
      "source": [
        "path = './drive/My Drive/Colab Notebooks/cat_in_dat_ii/input/'\n",
        "!ls ./drive/My\\ Drive/Colab\\ Notebooks/cat_in_dat_ii/input/"
      ],
      "execution_count": 0,
      "outputs": [
        {
          "output_type": "stream",
          "text": [
            "sample_submission.csv  test.csv  train.csv\n"
          ],
          "name": "stdout"
        }
      ]
    },
    {
      "cell_type": "code",
      "metadata": {
        "_cell_guid": "79c7e3d0-c299-4dcb-8224-4455121ee9b0",
        "_uuid": "d629ff2d2480ee46fbb7e2d37f6b5fab8052498a",
        "id": "Q-UPZRVSjE5v",
        "colab_type": "code",
        "colab": {}
      },
      "source": [
        "train = pd.read_csv(path + 'train.csv')\n",
        "test = pd.read_csv(path + 'test.csv')\n",
        "train_idx = train['id']\n",
        "test_idx = test['id']\n",
        "df = train.append(test)"
      ],
      "execution_count": 0,
      "outputs": []
    },
    {
      "cell_type": "markdown",
      "metadata": {
        "id": "9t-67Vyt1QkK",
        "colab_type": "text"
      },
      "source": [
        "First lets get rid of the missing values NaN, the most frequent value will be used as the filler. "
      ]
    },
    {
      "cell_type": "markdown",
      "metadata": {
        "id": "cFEKN30SqFhZ",
        "colab_type": "text"
      },
      "source": [
        "Let's create a function that will fill the na in the tabular data. We will impute missing values with the median/most frequent value and create a new column indicating the na was missing. Also a function to create one hot encoding vectors for the multiclass cateogries. Finally a helper funciton to transform all the strings to ints so we can apply the categorify function."
      ]
    },
    {
      "cell_type": "code",
      "metadata": {
        "id": "kRwQId_yqCI4",
        "colab_type": "code",
        "colab": {}
      },
      "source": [
        "def fill_na(df, fillna_names):\n",
        "  for col in fillna_names:\n",
        "    if df[col].isna().sum():\n",
        "      filler = df[col].mode()[0]\n",
        "      print(f'in column: {col} filler is {filler}')\n",
        "      df[col+'_was_na'] = df[col].isna().astype(int)\n",
        "      df[col]= df[col].fillna(filler)\n",
        "\n"
      ],
      "execution_count": 0,
      "outputs": []
    },
    {
      "cell_type": "code",
      "metadata": {
        "id": "_mwq36vnqYmJ",
        "colab_type": "code",
        "outputId": "e4476e8d-05bc-49c1-968c-10a9afe7998f",
        "colab": {
          "base_uri": "https://localhost:8080/",
          "height": 816
        }
      },
      "source": [
        "fill_na(train, train.columns)\n",
        "fill_na(test, test.columns)\n"
      ],
      "execution_count": 0,
      "outputs": [
        {
          "output_type": "stream",
          "text": [
            "in column: bin_0 filler is 0.0\n",
            "in column: bin_1 filler is 0.0\n",
            "in column: bin_2 filler is 0.0\n",
            "in column: bin_3 filler is F\n",
            "in column: bin_4 filler is N\n",
            "in column: nom_0 filler is Red\n",
            "in column: nom_1 filler is Triangle\n",
            "in column: nom_2 filler is Hamster\n",
            "in column: nom_3 filler is India\n",
            "in column: nom_4 filler is Theremin\n",
            "in column: nom_5 filler is fc8fc7e56\n",
            "in column: nom_6 filler is ea8c5e181\n",
            "in column: nom_7 filler is 4ae48e857\n",
            "in column: nom_8 filler is 7d7c02c57\n",
            "in column: nom_9 filler is 8f3276a6e\n",
            "in column: ord_0 filler is 1.0\n",
            "in column: ord_1 filler is Novice\n",
            "in column: ord_2 filler is Freezing\n",
            "in column: ord_3 filler is n\n",
            "in column: ord_4 filler is N\n",
            "in column: ord_5 filler is Fl\n",
            "in column: day filler is 3.0\n",
            "in column: month filler is 8.0\n",
            "in column: bin_0 filler is 0.0\n",
            "in column: bin_1 filler is 0.0\n",
            "in column: bin_2 filler is 0.0\n",
            "in column: bin_3 filler is F\n",
            "in column: bin_4 filler is N\n",
            "in column: nom_0 filler is Red\n",
            "in column: nom_1 filler is Triangle\n",
            "in column: nom_2 filler is Hamster\n",
            "in column: nom_3 filler is India\n",
            "in column: nom_4 filler is Theremin\n",
            "in column: nom_5 filler is e32171484\n",
            "in column: nom_6 filler is 4e161a54d\n",
            "in column: nom_7 filler is 1dddb8473\n",
            "in column: nom_8 filler is d7e75499d\n",
            "in column: nom_9 filler is 3820773ae\n",
            "in column: ord_0 filler is 1.0\n",
            "in column: ord_1 filler is Novice\n",
            "in column: ord_2 filler is Freezing\n",
            "in column: ord_3 filler is n\n",
            "in column: ord_4 filler is N\n",
            "in column: ord_5 filler is Fl\n",
            "in column: day filler is 3.0\n",
            "in column: month filler is 8.0\n"
          ],
          "name": "stdout"
        }
      ]
    },
    {
      "cell_type": "code",
      "metadata": {
        "id": "JfeJJm32G7gg",
        "colab_type": "code",
        "outputId": "f73aac8d-d1f8-4efc-ba6f-0887809f958b",
        "colab": {
          "base_uri": "https://localhost:8080/",
          "height": 52
        }
      },
      "source": [
        "print(f'number of Nan elements in train:{train.isna().sum().sum()}')\n",
        "print(f'number of Nan elements in test:{test.isna().sum().sum()}')"
      ],
      "execution_count": 0,
      "outputs": [
        {
          "output_type": "stream",
          "text": [
            "number of Nan elements in train:0\n",
            "number of Nan elements in test:0\n"
          ],
          "name": "stdout"
        }
      ]
    },
    {
      "cell_type": "markdown",
      "metadata": {
        "id": "ZtbOazMB7uOg",
        "colab_type": "text"
      },
      "source": [
        "There are no missing values, next step is convert all nominal features to int values so we can convert to one-hot-encoding vectors.\n",
        "Let's create a dictionary to convert all strings to ints."
      ]
    },
    {
      "cell_type": "code",
      "metadata": {
        "id": "nxa1kf_prR3h",
        "colab_type": "code",
        "colab": {}
      },
      "source": [
        "cat_names = ['bin_3', 'bin_4','nom_0','nom_1', 'nom_2', 'nom_3', 'nom_4', 'nom_5', 'nom_6', 'nom_7', 'nom_8', 'nom_9']\n",
        "d_nom ={name: {item : i for i,item in enumerate(set(list(train[name].unique())+list(test[name].unique())))} for name in cat_names}"
      ],
      "execution_count": 0,
      "outputs": []
    },
    {
      "cell_type": "markdown",
      "metadata": {
        "id": "3Bud2x0M_jhB",
        "colab_type": "text"
      },
      "source": [
        "in the var d_nom there are all the dictionaries for the columns cat_names. Now we map this dictionaries to get the int values"
      ]
    },
    {
      "cell_type": "code",
      "metadata": {
        "id": "cQQ_ttaT_JW_",
        "colab_type": "code",
        "colab": {}
      },
      "source": [
        "for c in cat_names: train[c] = train[c].map(d_nom[c])\n",
        "for c in cat_names: test[c] = test[c].map(d_nom[c])"
      ],
      "execution_count": 0,
      "outputs": []
    },
    {
      "cell_type": "code",
      "metadata": {
        "id": "szpwRc-7BFYF",
        "colab_type": "code",
        "outputId": "904ca2a8-731d-4a69-b199-803d293d5a82",
        "colab": {
          "base_uri": "https://localhost:8080/",
          "height": 52
        }
      },
      "source": [
        "print(f'number of Nan elements in train:{train.isna().sum().sum()}')\n",
        "print(f'number of Nan elements in test:{test.isna().sum().sum()}')"
      ],
      "execution_count": 0,
      "outputs": [
        {
          "output_type": "stream",
          "text": [
            "number of Nan elements in train:0\n",
            "number of Nan elements in test:0\n"
          ],
          "name": "stdout"
        }
      ]
    },
    {
      "cell_type": "code",
      "metadata": {
        "id": "a3zyy1PmLkNg",
        "colab_type": "code",
        "outputId": "44378d24-12ab-4ec5-cc2e-1e39f4a7494f",
        "colab": {
          "base_uri": "https://localhost:8080/",
          "height": 244
        }
      },
      "source": [
        "train.head()"
      ],
      "execution_count": 0,
      "outputs": [
        {
          "output_type": "execute_result",
          "data": {
            "text/html": [
              "<div>\n",
              "<style scoped>\n",
              "    .dataframe tbody tr th:only-of-type {\n",
              "        vertical-align: middle;\n",
              "    }\n",
              "\n",
              "    .dataframe tbody tr th {\n",
              "        vertical-align: top;\n",
              "    }\n",
              "\n",
              "    .dataframe thead th {\n",
              "        text-align: right;\n",
              "    }\n",
              "</style>\n",
              "<table border=\"1\" class=\"dataframe\">\n",
              "  <thead>\n",
              "    <tr style=\"text-align: right;\">\n",
              "      <th></th>\n",
              "      <th>id</th>\n",
              "      <th>bin_0</th>\n",
              "      <th>bin_1</th>\n",
              "      <th>bin_2</th>\n",
              "      <th>bin_3</th>\n",
              "      <th>bin_4</th>\n",
              "      <th>nom_0</th>\n",
              "      <th>nom_1</th>\n",
              "      <th>nom_2</th>\n",
              "      <th>nom_3</th>\n",
              "      <th>nom_4</th>\n",
              "      <th>nom_5</th>\n",
              "      <th>nom_6</th>\n",
              "      <th>nom_7</th>\n",
              "      <th>nom_8</th>\n",
              "      <th>nom_9</th>\n",
              "      <th>ord_0</th>\n",
              "      <th>ord_1</th>\n",
              "      <th>ord_2</th>\n",
              "      <th>ord_3</th>\n",
              "      <th>ord_4</th>\n",
              "      <th>ord_5</th>\n",
              "      <th>day</th>\n",
              "      <th>month</th>\n",
              "      <th>target</th>\n",
              "      <th>bin_0_was_na</th>\n",
              "      <th>bin_1_was_na</th>\n",
              "      <th>bin_2_was_na</th>\n",
              "      <th>bin_3_was_na</th>\n",
              "      <th>bin_4_was_na</th>\n",
              "      <th>nom_0_was_na</th>\n",
              "      <th>nom_1_was_na</th>\n",
              "      <th>nom_2_was_na</th>\n",
              "      <th>nom_3_was_na</th>\n",
              "      <th>nom_4_was_na</th>\n",
              "      <th>nom_5_was_na</th>\n",
              "      <th>nom_6_was_na</th>\n",
              "      <th>nom_7_was_na</th>\n",
              "      <th>nom_8_was_na</th>\n",
              "      <th>nom_9_was_na</th>\n",
              "      <th>ord_0_was_na</th>\n",
              "      <th>ord_1_was_na</th>\n",
              "      <th>ord_2_was_na</th>\n",
              "      <th>ord_3_was_na</th>\n",
              "      <th>ord_4_was_na</th>\n",
              "      <th>ord_5_was_na</th>\n",
              "      <th>day_was_na</th>\n",
              "      <th>month_was_na</th>\n",
              "    </tr>\n",
              "  </thead>\n",
              "  <tbody>\n",
              "    <tr>\n",
              "      <th>0</th>\n",
              "      <td>0</td>\n",
              "      <td>0.0</td>\n",
              "      <td>0.0</td>\n",
              "      <td>0.0</td>\n",
              "      <td>0</td>\n",
              "      <td>1</td>\n",
              "      <td>2</td>\n",
              "      <td>1</td>\n",
              "      <td>5</td>\n",
              "      <td>1</td>\n",
              "      <td>1</td>\n",
              "      <td>231</td>\n",
              "      <td>1497</td>\n",
              "      <td>140</td>\n",
              "      <td>36</td>\n",
              "      <td>412</td>\n",
              "      <td>3.0</td>\n",
              "      <td>Contributor</td>\n",
              "      <td>Hot</td>\n",
              "      <td>c</td>\n",
              "      <td>U</td>\n",
              "      <td>Pw</td>\n",
              "      <td>6.0</td>\n",
              "      <td>3.0</td>\n",
              "      <td>0</td>\n",
              "      <td>0</td>\n",
              "      <td>0</td>\n",
              "      <td>0</td>\n",
              "      <td>0</td>\n",
              "      <td>0</td>\n",
              "      <td>0</td>\n",
              "      <td>0</td>\n",
              "      <td>0</td>\n",
              "      <td>0</td>\n",
              "      <td>0</td>\n",
              "      <td>0</td>\n",
              "      <td>0</td>\n",
              "      <td>0</td>\n",
              "      <td>0</td>\n",
              "      <td>0</td>\n",
              "      <td>0</td>\n",
              "      <td>0</td>\n",
              "      <td>0</td>\n",
              "      <td>0</td>\n",
              "      <td>0</td>\n",
              "      <td>0</td>\n",
              "      <td>0</td>\n",
              "      <td>0</td>\n",
              "    </tr>\n",
              "    <tr>\n",
              "      <th>1</th>\n",
              "      <td>1</td>\n",
              "      <td>1.0</td>\n",
              "      <td>1.0</td>\n",
              "      <td>0.0</td>\n",
              "      <td>0</td>\n",
              "      <td>0</td>\n",
              "      <td>2</td>\n",
              "      <td>3</td>\n",
              "      <td>1</td>\n",
              "      <td>2</td>\n",
              "      <td>3</td>\n",
              "      <td>199</td>\n",
              "      <td>174</td>\n",
              "      <td>80</td>\n",
              "      <td>105</td>\n",
              "      <td>1774</td>\n",
              "      <td>3.0</td>\n",
              "      <td>Grandmaster</td>\n",
              "      <td>Warm</td>\n",
              "      <td>e</td>\n",
              "      <td>X</td>\n",
              "      <td>pE</td>\n",
              "      <td>7.0</td>\n",
              "      <td>7.0</td>\n",
              "      <td>0</td>\n",
              "      <td>0</td>\n",
              "      <td>0</td>\n",
              "      <td>0</td>\n",
              "      <td>0</td>\n",
              "      <td>0</td>\n",
              "      <td>0</td>\n",
              "      <td>0</td>\n",
              "      <td>0</td>\n",
              "      <td>1</td>\n",
              "      <td>0</td>\n",
              "      <td>0</td>\n",
              "      <td>0</td>\n",
              "      <td>0</td>\n",
              "      <td>0</td>\n",
              "      <td>0</td>\n",
              "      <td>0</td>\n",
              "      <td>0</td>\n",
              "      <td>0</td>\n",
              "      <td>0</td>\n",
              "      <td>0</td>\n",
              "      <td>0</td>\n",
              "      <td>0</td>\n",
              "      <td>0</td>\n",
              "    </tr>\n",
              "    <tr>\n",
              "      <th>2</th>\n",
              "      <td>2</td>\n",
              "      <td>0.0</td>\n",
              "      <td>1.0</td>\n",
              "      <td>0.0</td>\n",
              "      <td>0</td>\n",
              "      <td>1</td>\n",
              "      <td>2</td>\n",
              "      <td>2</td>\n",
              "      <td>5</td>\n",
              "      <td>5</td>\n",
              "      <td>1</td>\n",
              "      <td>429</td>\n",
              "      <td>1433</td>\n",
              "      <td>180</td>\n",
              "      <td>152</td>\n",
              "      <td>1142</td>\n",
              "      <td>3.0</td>\n",
              "      <td>Novice</td>\n",
              "      <td>Freezing</td>\n",
              "      <td>n</td>\n",
              "      <td>P</td>\n",
              "      <td>eN</td>\n",
              "      <td>5.0</td>\n",
              "      <td>9.0</td>\n",
              "      <td>0</td>\n",
              "      <td>0</td>\n",
              "      <td>0</td>\n",
              "      <td>0</td>\n",
              "      <td>0</td>\n",
              "      <td>0</td>\n",
              "      <td>0</td>\n",
              "      <td>1</td>\n",
              "      <td>0</td>\n",
              "      <td>0</td>\n",
              "      <td>0</td>\n",
              "      <td>0</td>\n",
              "      <td>0</td>\n",
              "      <td>0</td>\n",
              "      <td>0</td>\n",
              "      <td>1</td>\n",
              "      <td>0</td>\n",
              "      <td>1</td>\n",
              "      <td>0</td>\n",
              "      <td>0</td>\n",
              "      <td>0</td>\n",
              "      <td>0</td>\n",
              "      <td>0</td>\n",
              "      <td>0</td>\n",
              "    </tr>\n",
              "    <tr>\n",
              "      <th>3</th>\n",
              "      <td>3</td>\n",
              "      <td>0.0</td>\n",
              "      <td>0.0</td>\n",
              "      <td>0.0</td>\n",
              "      <td>0</td>\n",
              "      <td>1</td>\n",
              "      <td>2</td>\n",
              "      <td>5</td>\n",
              "      <td>5</td>\n",
              "      <td>4</td>\n",
              "      <td>3</td>\n",
              "      <td>434</td>\n",
              "      <td>1244</td>\n",
              "      <td>167</td>\n",
              "      <td>151</td>\n",
              "      <td>246</td>\n",
              "      <td>1.0</td>\n",
              "      <td>Novice</td>\n",
              "      <td>Lava Hot</td>\n",
              "      <td>a</td>\n",
              "      <td>C</td>\n",
              "      <td>Fl</td>\n",
              "      <td>3.0</td>\n",
              "      <td>3.0</td>\n",
              "      <td>0</td>\n",
              "      <td>1</td>\n",
              "      <td>0</td>\n",
              "      <td>0</td>\n",
              "      <td>0</td>\n",
              "      <td>0</td>\n",
              "      <td>0</td>\n",
              "      <td>0</td>\n",
              "      <td>0</td>\n",
              "      <td>0</td>\n",
              "      <td>0</td>\n",
              "      <td>0</td>\n",
              "      <td>0</td>\n",
              "      <td>0</td>\n",
              "      <td>0</td>\n",
              "      <td>0</td>\n",
              "      <td>0</td>\n",
              "      <td>0</td>\n",
              "      <td>0</td>\n",
              "      <td>0</td>\n",
              "      <td>0</td>\n",
              "      <td>1</td>\n",
              "      <td>0</td>\n",
              "      <td>0</td>\n",
              "    </tr>\n",
              "    <tr>\n",
              "      <th>4</th>\n",
              "      <td>4</td>\n",
              "      <td>0.0</td>\n",
              "      <td>0.0</td>\n",
              "      <td>0.0</td>\n",
              "      <td>1</td>\n",
              "      <td>1</td>\n",
              "      <td>2</td>\n",
              "      <td>2</td>\n",
              "      <td>5</td>\n",
              "      <td>3</td>\n",
              "      <td>3</td>\n",
              "      <td>257</td>\n",
              "      <td>1100</td>\n",
              "      <td>163</td>\n",
              "      <td>139</td>\n",
              "      <td>1456</td>\n",
              "      <td>3.0</td>\n",
              "      <td>Grandmaster</td>\n",
              "      <td>Cold</td>\n",
              "      <td>h</td>\n",
              "      <td>C</td>\n",
              "      <td>OZ</td>\n",
              "      <td>5.0</td>\n",
              "      <td>12.0</td>\n",
              "      <td>0</td>\n",
              "      <td>0</td>\n",
              "      <td>1</td>\n",
              "      <td>0</td>\n",
              "      <td>0</td>\n",
              "      <td>0</td>\n",
              "      <td>0</td>\n",
              "      <td>0</td>\n",
              "      <td>0</td>\n",
              "      <td>0</td>\n",
              "      <td>1</td>\n",
              "      <td>0</td>\n",
              "      <td>0</td>\n",
              "      <td>0</td>\n",
              "      <td>1</td>\n",
              "      <td>0</td>\n",
              "      <td>0</td>\n",
              "      <td>0</td>\n",
              "      <td>0</td>\n",
              "      <td>0</td>\n",
              "      <td>0</td>\n",
              "      <td>0</td>\n",
              "      <td>0</td>\n",
              "      <td>0</td>\n",
              "    </tr>\n",
              "  </tbody>\n",
              "</table>\n",
              "</div>"
            ],
            "text/plain": [
              "   id  bin_0  bin_1  ...  ord_5_was_na  day_was_na  month_was_na\n",
              "0   0    0.0    0.0  ...             0           0             0\n",
              "1   1    1.0    1.0  ...             0           0             0\n",
              "2   2    0.0    1.0  ...             0           0             0\n",
              "3   3    0.0    0.0  ...             1           0             0\n",
              "4   4    0.0    0.0  ...             0           0             0\n",
              "\n",
              "[5 rows x 48 columns]"
            ]
          },
          "metadata": {
            "tags": []
          },
          "execution_count": 11
        }
      ]
    },
    {
      "cell_type": "markdown",
      "metadata": {
        "id": "9OT32SIQjE6A",
        "colab_type": "text"
      },
      "source": [
        "Next step is to tackle the oridnals, we will define a dictionary for each of them except for ord_5\n"
      ]
    },
    {
      "cell_type": "code",
      "metadata": {
        "id": "90nD9XnzjE6O",
        "colab_type": "code",
        "outputId": "ff7aa182-50e1-406f-da9e-424ae6c4dbdc",
        "colab": {
          "base_uri": "https://localhost:8080/",
          "height": 52
        }
      },
      "source": [
        "print(train['ord_1'].unique())\n",
        "print(train['ord_2'].unique())"
      ],
      "execution_count": 0,
      "outputs": [
        {
          "output_type": "stream",
          "text": [
            "['Contributor' 'Grandmaster' 'Novice' 'Expert' 'Master']\n",
            "['Hot' 'Warm' 'Freezing' 'Lava Hot' 'Cold' 'Boiling Hot']\n"
          ],
          "name": "stdout"
        }
      ]
    },
    {
      "cell_type": "code",
      "metadata": {
        "id": "E0vP8PtsMe4C",
        "colab_type": "code",
        "colab": {}
      },
      "source": [
        "d_ord_1 = {'Contributor':0, 'Grandmaster':4, 'Novice':1, 'Expert':2, 'Master':3}\n",
        "d_ord_2 = {'Hot':3, 'Warm':2, 'Freezing':0, 'Lava Hot':5, 'Cold':1, 'Boiling Hot':4}\n"
      ],
      "execution_count": 0,
      "outputs": []
    },
    {
      "cell_type": "code",
      "metadata": {
        "id": "s8LLID4nNI6k",
        "colab_type": "code",
        "colab": {}
      },
      "source": [
        "dict_letters = {char:n for n,char in enumerate(string.ascii_letters)}\n",
        "d_ord_3 = dict_letters\n",
        "d_ord_4 = dict_letters"
      ],
      "execution_count": 0,
      "outputs": []
    },
    {
      "cell_type": "code",
      "metadata": {
        "id": "N4L_BjUyOaPe",
        "colab_type": "code",
        "outputId": "bf444403-99ce-471a-e61a-aa9bd09de2a1",
        "colab": {
          "base_uri": "https://localhost:8080/",
          "height": 54
        }
      },
      "source": [
        "print(dict_letters)"
      ],
      "execution_count": 0,
      "outputs": [
        {
          "output_type": "stream",
          "text": [
            "{'a': 0, 'b': 1, 'c': 2, 'd': 3, 'e': 4, 'f': 5, 'g': 6, 'h': 7, 'i': 8, 'j': 9, 'k': 10, 'l': 11, 'm': 12, 'n': 13, 'o': 14, 'p': 15, 'q': 16, 'r': 17, 's': 18, 't': 19, 'u': 20, 'v': 21, 'w': 22, 'x': 23, 'y': 24, 'z': 25, 'A': 26, 'B': 27, 'C': 28, 'D': 29, 'E': 30, 'F': 31, 'G': 32, 'H': 33, 'I': 34, 'J': 35, 'K': 36, 'L': 37, 'M': 38, 'N': 39, 'O': 40, 'P': 41, 'Q': 42, 'R': 43, 'S': 44, 'T': 45, 'U': 46, 'V': 47, 'W': 48, 'X': 49, 'Y': 50, 'Z': 51}\n"
          ],
          "name": "stdout"
        }
      ]
    },
    {
      "cell_type": "code",
      "metadata": {
        "id": "bTZWU_fZQ2qq",
        "colab_type": "code",
        "outputId": "d482e7ce-89e3-453e-cddb-32e90b7994ed",
        "colab": {
          "base_uri": "https://localhost:8080/",
          "height": 34
        }
      },
      "source": [
        "len(dict_letters)"
      ],
      "execution_count": 0,
      "outputs": [
        {
          "output_type": "execute_result",
          "data": {
            "text/plain": [
              "52"
            ]
          },
          "metadata": {
            "tags": []
          },
          "execution_count": 16
        }
      ]
    },
    {
      "cell_type": "code",
      "metadata": {
        "id": "gleP1a3JN_hS",
        "colab_type": "code",
        "colab": {}
      },
      "source": [
        "def str_to_ord(ord_5):\n",
        "  return dict_letters[ord_5[0]]*len(dict_letters) + dict_letters[ord_5[1]]\n"
      ],
      "execution_count": 0,
      "outputs": []
    },
    {
      "cell_type": "code",
      "metadata": {
        "id": "SuF50ytcOOh_",
        "colab_type": "code",
        "colab": {}
      },
      "source": [
        "d_ord = [d_ord_1, d_ord_2, d_ord_3, d_ord_4]\n",
        "ord = ['ord_1', 'ord_2', 'ord_3', 'ord_4']\n",
        "for c, d in zip(ord,d_ord): train[c] = train[c].map(d)\n",
        "for c, d in zip(ord,d_ord): test[c] = test[c].map(d)\n"
      ],
      "execution_count": 0,
      "outputs": []
    },
    {
      "cell_type": "code",
      "metadata": {
        "id": "X7gIQ0NLjCTp",
        "colab_type": "code",
        "colab": {}
      },
      "source": [
        "train['ord_5'] = train['ord_5'].apply(str_to_ord)"
      ],
      "execution_count": 0,
      "outputs": []
    },
    {
      "cell_type": "code",
      "metadata": {
        "id": "STZI4zvXjIQi",
        "colab_type": "code",
        "colab": {}
      },
      "source": [
        "test['ord_5'] = test['ord_5'].apply(str_to_ord)"
      ],
      "execution_count": 0,
      "outputs": []
    },
    {
      "cell_type": "code",
      "metadata": {
        "id": "jyLB28eXjE6V",
        "colab_type": "code",
        "outputId": "430f2eed-eede-44e1-8f0a-09bce5c9f266",
        "colab": {
          "base_uri": "https://localhost:8080/",
          "height": 52
        }
      },
      "source": [
        "print(f'number of Nan elements in train:{train.isna().sum().sum()}')\n",
        "print(f'number of Nan elements in test:{test.isna().sum().sum()}')"
      ],
      "execution_count": 0,
      "outputs": [
        {
          "output_type": "stream",
          "text": [
            "number of Nan elements in train:0\n",
            "number of Nan elements in test:0\n"
          ],
          "name": "stdout"
        }
      ]
    },
    {
      "cell_type": "markdown",
      "metadata": {
        "id": "vBvh1qALja5r",
        "colab_type": "text"
      },
      "source": [
        "Day and Month represent cyclic features, in order to represent this behaviour we will add 2 columns for each one, sin and cos as if the values where placed around a cirlce"
      ]
    },
    {
      "cell_type": "code",
      "metadata": {
        "id": "j5H4WDcMjE6a",
        "colab_type": "code",
        "colab": {}
      },
      "source": [
        "train['sin_day'] = train['day'].apply(lambda x : sin(x*2*pi/7))\n",
        "test['sin_day'] = test['day'].apply(lambda x : sin(x*2*pi/7))\n",
        "train['cos_day'] = train['day'].apply(lambda x : cos(x*2*pi/7))\n",
        "test['cos_day'] = test['day'].apply(lambda x : cos(x*2*pi/7))\n",
        "\n",
        "train['sin_month'] = train['month'].apply(lambda x : sin(x*2*pi/12))\n",
        "test['sin_month'] = test['month'].apply(lambda x : sin(x*2*pi/12))\n",
        "train['cos_month'] = train['month'].apply(lambda x : cos(x*2*pi/12))\n",
        "test['cos_month'] = test['month'].apply(lambda x : cos(x*2*pi/12))"
      ],
      "execution_count": 0,
      "outputs": []
    },
    {
      "cell_type": "markdown",
      "metadata": {
        "id": "KHcUBWwZnbbS",
        "colab_type": "text"
      },
      "source": [
        "Let's get rid of the columns that are not going to be used: id, day and month. Notice month_was_na and day_was_na to keep information about imputed values"
      ]
    },
    {
      "cell_type": "code",
      "metadata": {
        "colab_type": "code",
        "id": "WeykhEYxTLn9",
        "colab": {}
      },
      "source": [
        "train.drop(columns=['day','month','id'],inplace=True)\n",
        "test.drop(columns=['day','month','id'],inplace=True)"
      ],
      "execution_count": 0,
      "outputs": []
    },
    {
      "cell_type": "code",
      "metadata": {
        "colab_type": "code",
        "id": "EabytaIhTLFO",
        "colab": {}
      },
      "source": [
        "def df_to_dataset(dataframe, shuffle=True, batch_size=32):\n",
        "  dataframe = dataframe.copy()\n",
        "  labels = dataframe.pop('target')\n",
        "  ds = tf.data.Dataset.from_tensor_slices((dict(dataframe), labels))\n",
        "  if shuffle:\n",
        "    ds = ds.shuffle(buffer_size=len(dataframe))\n",
        "  ds = ds.batch(batch_size)\n",
        "  return ds"
      ],
      "execution_count": 0,
      "outputs": []
    },
    {
      "cell_type": "code",
      "metadata": {
        "id": "0vwVulBxz11v",
        "colab_type": "code",
        "outputId": "0a288172-6095-4930-f512-73fb74173470",
        "colab": {
          "base_uri": "https://localhost:8080/",
          "height": 208
        }
      },
      "source": [
        "train.columns"
      ],
      "execution_count": 0,
      "outputs": [
        {
          "output_type": "execute_result",
          "data": {
            "text/plain": [
              "Index(['bin_0', 'bin_1', 'bin_2', 'bin_3', 'bin_4', 'nom_0', 'nom_1', 'nom_2',\n",
              "       'nom_3', 'nom_4', 'nom_5', 'nom_6', 'nom_7', 'nom_8', 'nom_9', 'ord_0',\n",
              "       'ord_1', 'ord_2', 'ord_3', 'ord_4', 'ord_5', 'target', 'bin_0_was_na',\n",
              "       'bin_1_was_na', 'bin_2_was_na', 'bin_3_was_na', 'bin_4_was_na',\n",
              "       'nom_0_was_na', 'nom_1_was_na', 'nom_2_was_na', 'nom_3_was_na',\n",
              "       'nom_4_was_na', 'nom_5_was_na', 'nom_6_was_na', 'nom_7_was_na',\n",
              "       'nom_8_was_na', 'nom_9_was_na', 'ord_0_was_na', 'ord_1_was_na',\n",
              "       'ord_2_was_na', 'ord_3_was_na', 'ord_4_was_na', 'ord_5_was_na',\n",
              "       'day_was_na', 'month_was_na', 'sin_day', 'cos_day', 'sin_month',\n",
              "       'cos_month'],\n",
              "      dtype='object')"
            ]
          },
          "metadata": {
            "tags": []
          },
          "execution_count": 25
        }
      ]
    },
    {
      "cell_type": "markdown",
      "metadata": {
        "id": "DMSqSteGy8Yt",
        "colab_type": "text"
      },
      "source": [
        "## MODEL\n",
        "\n",
        "Let's create a keras model "
      ]
    },
    {
      "cell_type": "code",
      "metadata": {
        "id": "9lcT650Y0Aii",
        "colab_type": "code",
        "colab": {}
      },
      "source": [
        "import tensorflow as tf\n",
        "from tensorflow import keras\n",
        "from tensorflow.keras import layers\n",
        "tf.keras.backend.clear_session()\n",
        "from sklearn.preprocessing import StandardScaler\n",
        "\n",
        "from tensorflow import feature_column"
      ],
      "execution_count": 0,
      "outputs": []
    },
    {
      "cell_type": "code",
      "metadata": {
        "id": "NDP7dBv9zpjY",
        "colab_type": "code",
        "colab": {}
      },
      "source": [
        "train_ds = df_to_dataset(train[:-5000],shuffle=True,batch_size=10000)\n",
        "val_ds = df_to_dataset(train[-5000:],shuffle=False,batch_size=10000)"
      ],
      "execution_count": 0,
      "outputs": []
    },
    {
      "cell_type": "code",
      "metadata": {
        "id": "hZ5fZ1rXsPBm",
        "colab_type": "code",
        "outputId": "2a2d5ee3-b30b-495e-9b87-5bf4bf207590",
        "colab": {
          "base_uri": "https://localhost:8080/",
          "height": 54
        }
      },
      "source": [
        "print(train_ds)"
      ],
      "execution_count": 0,
      "outputs": [
        {
          "output_type": "stream",
          "text": [
            "<BatchDataset shapes: ({bin_0: (None,), bin_1: (None,), bin_2: (None,), bin_3: (None,), bin_4: (None,), nom_0: (None,), nom_1: (None,), nom_2: (None,), nom_3: (None,), nom_4: (None,), nom_5: (None,), nom_6: (None,), nom_7: (None,), nom_8: (None,), nom_9: (None,), ord_0: (None,), ord_1: (None,), ord_2: (None,), ord_3: (None,), ord_4: (None,), ord_5: (None,), bin_0_was_na: (None,), bin_1_was_na: (None,), bin_2_was_na: (None,), bin_3_was_na: (None,), bin_4_was_na: (None,), nom_0_was_na: (None,), nom_1_was_na: (None,), nom_2_was_na: (None,), nom_3_was_na: (None,), nom_4_was_na: (None,), nom_5_was_na: (None,), nom_6_was_na: (None,), nom_7_was_na: (None,), nom_8_was_na: (None,), nom_9_was_na: (None,), ord_0_was_na: (None,), ord_1_was_na: (None,), ord_2_was_na: (None,), ord_3_was_na: (None,), ord_4_was_na: (None,), ord_5_was_na: (None,), day_was_na: (None,), month_was_na: (None,), sin_day: (None,), cos_day: (None,), sin_month: (None,), cos_month: (None,)}, (None,)), types: ({bin_0: tf.float64, bin_1: tf.float64, bin_2: tf.float64, bin_3: tf.int64, bin_4: tf.int64, nom_0: tf.int64, nom_1: tf.int64, nom_2: tf.int64, nom_3: tf.int64, nom_4: tf.int64, nom_5: tf.int64, nom_6: tf.int64, nom_7: tf.int64, nom_8: tf.int64, nom_9: tf.int64, ord_0: tf.float64, ord_1: tf.int64, ord_2: tf.int64, ord_3: tf.int64, ord_4: tf.int64, ord_5: tf.int64, bin_0_was_na: tf.int64, bin_1_was_na: tf.int64, bin_2_was_na: tf.int64, bin_3_was_na: tf.int64, bin_4_was_na: tf.int64, nom_0_was_na: tf.int64, nom_1_was_na: tf.int64, nom_2_was_na: tf.int64, nom_3_was_na: tf.int64, nom_4_was_na: tf.int64, nom_5_was_na: tf.int64, nom_6_was_na: tf.int64, nom_7_was_na: tf.int64, nom_8_was_na: tf.int64, nom_9_was_na: tf.int64, ord_0_was_na: tf.int64, ord_1_was_na: tf.int64, ord_2_was_na: tf.int64, ord_3_was_na: tf.int64, ord_4_was_na: tf.int64, ord_5_was_na: tf.int64, day_was_na: tf.int64, month_was_na: tf.int64, sin_day: tf.float64, cos_day: tf.float64, sin_month: tf.float64, cos_month: tf.float64}, tf.int64)>\n"
          ],
          "name": "stdout"
        }
      ]
    },
    {
      "cell_type": "code",
      "metadata": {
        "id": "98Xk4dGRzHAz",
        "colab_type": "code",
        "colab": {}
      },
      "source": [
        ""
      ],
      "execution_count": 0,
      "outputs": []
    },
    {
      "cell_type": "code",
      "metadata": {
        "id": "sBCijAiRrWAh",
        "colab_type": "code",
        "colab": {}
      },
      "source": [
        "feature_columns = []\n",
        "\n",
        "for c in ['bin_0', 'bin_1', 'bin_2', 'bin_3', 'bin_4', \n",
        "       'ord_0', 'ord_1', 'ord_2', 'ord_3', 'ord_4', 'ord_5',\n",
        "       'bin_0_was_na', 'bin_1_was_na', 'bin_2_was_na', 'bin_3_was_na',\n",
        "       'bin_4_was_na', 'nom_0_was_na', 'nom_1_was_na', 'nom_2_was_na',\n",
        "       'nom_3_was_na', 'nom_4_was_na', 'nom_5_was_na', 'nom_6_was_na',\n",
        "       'nom_7_was_na', 'nom_8_was_na', 'nom_9_was_na', 'ord_0_was_na',\n",
        "       'ord_1_was_na', 'ord_2_was_na', 'ord_3_was_na', 'ord_4_was_na',\n",
        "       'ord_5_was_na', 'day_was_na', 'month_was_na', 'sin_day', 'cos_day',\n",
        "       'sin_month', 'cos_month']:\n",
        "  feature_columns.append(feature_column.numeric_column(c))\n",
        "for c in ['nom_0','nom_1','nom_2','nom_3', 'nom_4']:\n",
        "  col = feature_column.categorical_column_with_identity(c,train[c].nunique(),)\n",
        "  col_oh = feature_column.indicator_column(col)\n",
        "  feature_columns.append(col_oh)\n",
        "\n",
        "for c in 'nom_5','nom_6','nom_7','nom_8','nom_9':\n",
        "  column = feature_column.categorical_column_with_identity(c,train[c].nunique())\n",
        "  feature_columns.append(feature_column.embedding_column(column,25))"
      ],
      "execution_count": 0,
      "outputs": []
    },
    {
      "cell_type": "code",
      "metadata": {
        "id": "W8Bc8oMLuNgI",
        "colab_type": "code",
        "outputId": "af605f83-9ca5-4e81-d5bf-68b77d2107ea",
        "colab": {
          "base_uri": "https://localhost:8080/",
          "height": 54
        }
      },
      "source": [
        "feature_layer = layers.DenseFeatures(feature_columns,)\n",
        "train_ds\n"
      ],
      "execution_count": 0,
      "outputs": [
        {
          "output_type": "execute_result",
          "data": {
            "text/plain": [
              "<BatchDataset shapes: ({bin_0: (None,), bin_1: (None,), bin_2: (None,), bin_3: (None,), bin_4: (None,), nom_0: (None,), nom_1: (None,), nom_2: (None,), nom_3: (None,), nom_4: (None,), nom_5: (None,), nom_6: (None,), nom_7: (None,), nom_8: (None,), nom_9: (None,), ord_0: (None,), ord_1: (None,), ord_2: (None,), ord_3: (None,), ord_4: (None,), ord_5: (None,), bin_0_was_na: (None,), bin_1_was_na: (None,), bin_2_was_na: (None,), bin_3_was_na: (None,), bin_4_was_na: (None,), nom_0_was_na: (None,), nom_1_was_na: (None,), nom_2_was_na: (None,), nom_3_was_na: (None,), nom_4_was_na: (None,), nom_5_was_na: (None,), nom_6_was_na: (None,), nom_7_was_na: (None,), nom_8_was_na: (None,), nom_9_was_na: (None,), ord_0_was_na: (None,), ord_1_was_na: (None,), ord_2_was_na: (None,), ord_3_was_na: (None,), ord_4_was_na: (None,), ord_5_was_na: (None,), day_was_na: (None,), month_was_na: (None,), sin_day: (None,), cos_day: (None,), sin_month: (None,), cos_month: (None,)}, (None,)), types: ({bin_0: tf.float64, bin_1: tf.float64, bin_2: tf.float64, bin_3: tf.int64, bin_4: tf.int64, nom_0: tf.int64, nom_1: tf.int64, nom_2: tf.int64, nom_3: tf.int64, nom_4: tf.int64, nom_5: tf.int64, nom_6: tf.int64, nom_7: tf.int64, nom_8: tf.int64, nom_9: tf.int64, ord_0: tf.float64, ord_1: tf.int64, ord_2: tf.int64, ord_3: tf.int64, ord_4: tf.int64, ord_5: tf.int64, bin_0_was_na: tf.int64, bin_1_was_na: tf.int64, bin_2_was_na: tf.int64, bin_3_was_na: tf.int64, bin_4_was_na: tf.int64, nom_0_was_na: tf.int64, nom_1_was_na: tf.int64, nom_2_was_na: tf.int64, nom_3_was_na: tf.int64, nom_4_was_na: tf.int64, nom_5_was_na: tf.int64, nom_6_was_na: tf.int64, nom_7_was_na: tf.int64, nom_8_was_na: tf.int64, nom_9_was_na: tf.int64, ord_0_was_na: tf.int64, ord_1_was_na: tf.int64, ord_2_was_na: tf.int64, ord_3_was_na: tf.int64, ord_4_was_na: tf.int64, ord_5_was_na: tf.int64, day_was_na: tf.int64, month_was_na: tf.int64, sin_day: tf.float64, cos_day: tf.float64, sin_month: tf.float64, cos_month: tf.float64}, tf.int64)>"
            ]
          },
          "metadata": {
            "tags": []
          },
          "execution_count": 30
        }
      ]
    },
    {
      "cell_type": "code",
      "metadata": {
        "id": "1ebN_YiwOaoO",
        "colab_type": "code",
        "outputId": "3820b36d-fc95-4e82-d87f-5ce78d288785",
        "colab": {
          "base_uri": "https://localhost:8080/",
          "height": 34
        }
      },
      "source": [
        "positives = train['target'].sum()\n",
        "negatives = len(train['target'])- positives\n",
        "bias_final = np.log(positives/negatives)\n",
        "print(bias_final)\n",
        "total = positives + negatives\n",
        "weight_for_0 = (1 / negatives)*(total)/2.0 \n",
        "weight_for_1 = (1 / positives)*(total)/2.0\n",
        "\n",
        "class_weight = {0: weight_for_0, 1: weight_for_1}\n"
      ],
      "execution_count": 0,
      "outputs": [
        {
          "output_type": "stream",
          "text": [
            "-1.468274652141982\n"
          ],
          "name": "stdout"
        }
      ]
    },
    {
      "cell_type": "code",
      "metadata": {
        "id": "IcBEcZLoQ9i_",
        "colab_type": "code",
        "colab": {}
      },
      "source": [
        ""
      ],
      "execution_count": 0,
      "outputs": []
    },
    {
      "cell_type": "code",
      "metadata": {
        "id": "MH5Jodx1ymme",
        "colab_type": "code",
        "colab": {}
      },
      "source": [
        "model = tf.keras.Sequential([\n",
        "  feature_layer,\n",
        "  layers.BatchNormalization(),\n",
        "  layers.Dropout(0.04),\n",
        "  layers.Dense(512),\n",
        "  layers.BatchNormalization(),\n",
        "  layers.Activation('relu'),\n",
        "  layers.Dropout(0.2),\n",
        "  layers.Dense(256),\n",
        "  layers.Activation('relu'),\n",
        "  layers.BatchNormalization(),\n",
        "  layers.Dropout(0.2),\n",
        "  layers.Dense(1,activation = 'sigmoid')\n",
        "])\n",
        "METRICS = [\n",
        "      keras.metrics.AUC(name='auc'),\n",
        "      keras.metrics.FalsePositives(name='fp'),\n",
        "      keras.metrics.FalseNegatives(name='fn'), \n",
        "      keras.metrics.BinaryAccuracy(name='accuracy'),\n",
        "      keras.metrics.Precision(name='precision'),\n",
        "      keras.metrics.Recall(name='recall'),\n",
        "      \n",
        "]\n",
        "\n",
        "\n"
      ],
      "execution_count": 0,
      "outputs": []
    },
    {
      "cell_type": "code",
      "metadata": {
        "id": "-yQ_XPUXQ-PP",
        "colab_type": "code",
        "colab": {}
      },
      "source": [
        "model.compile(optimizer=keras.optimizers.Adam(0.0003),\n",
        "              loss=tf.keras.losses.BinaryCrossentropy(from_logits=True),\n",
        "              metrics=METRICS)\n"
      ],
      "execution_count": 0,
      "outputs": []
    },
    {
      "cell_type": "code",
      "metadata": {
        "id": "U3H0r0IyWbmb",
        "colab_type": "code",
        "colab": {}
      },
      "source": [
        "EPOCHS = 100\n",
        "BATCH_SIZE = 2048\n",
        "\n",
        "early_stopping = tf.keras.callbacks.EarlyStopping(\n",
        "    monitor='val_auc', \n",
        "    verbose=2,\n",
        "    patience=3,\n",
        "    mode='max',\n",
        "    restore_best_weights=True)\n"
      ],
      "execution_count": 0,
      "outputs": []
    },
    {
      "cell_type": "code",
      "metadata": {
        "id": "_KA0JGCh4-Un",
        "colab_type": "code",
        "outputId": "38a345fc-00ed-41d5-e3da-cae38958998e",
        "colab": {
          "base_uri": "https://localhost:8080/",
          "height": 454
        }
      },
      "source": [
        "\n",
        "history = model.fit(train_ds,\n",
        "            validation_data = val_ds,\n",
        "            epochs = EPOCHS,\n",
        "            batch_size = BATCH_SIZE, \n",
        "            class_weight=class_weight,\n",
        "            callbacks=[early_stopping])"
      ],
      "execution_count": 0,
      "outputs": [
        {
          "output_type": "stream",
          "text": [
            "Epoch 1/100\n",
            "60/60 [==============================] - 24s 398ms/step - loss: 0.6869 - auc: 0.6923 - fp: 201436.0000 - fn: 34636.0000 - accuracy: 0.6032 - precision: 0.2760 - recall: 0.6892 - val_loss: 1.0653 - val_auc: 0.7144 - val_fp: 3820.0000 - val_fn: 10.0000 - val_accuracy: 0.2340 - val_precision: 0.1884 - val_recall: 0.9889\n",
            "Epoch 2/100\n",
            "60/60 [==============================] - 23s 375ms/step - loss: 0.6647 - auc: 0.7391 - fp: 167475.0000 - fn: 33161.0000 - accuracy: 0.6628 - precision: 0.3185 - recall: 0.7024 - val_loss: 0.9438 - val_auc: 0.7280 - val_fp: 2551.0000 - val_fn: 94.0000 - val_accuracy: 0.4710 - val_precision: 0.2394 - val_recall: 0.8952\n",
            "Epoch 3/100\n",
            "60/60 [==============================] - 23s 375ms/step - loss: 0.6547 - auc: 0.7450 - fp: 128648.0000 - fn: 41449.0000 - accuracy: 0.7141 - precision: 0.3523 - recall: 0.6280 - val_loss: 0.8538 - val_auc: 0.7361 - val_fp: 1614.0000 - val_fn: 237.0000 - val_accuracy: 0.6298 - val_precision: 0.2902 - val_recall: 0.7358\n",
            "Epoch 4/100\n",
            "60/60 [==============================] - 23s 376ms/step - loss: 0.6499 - auc: 0.7461 - fp: 103110.0000 - fn: 48422.0000 - accuracy: 0.7453 - precision: 0.3793 - recall: 0.5654 - val_loss: 0.8108 - val_auc: 0.7390 - val_fp: 1196.0000 - val_fn: 314.0000 - val_accuracy: 0.6980 - val_precision: 0.3277 - val_recall: 0.6499\n",
            "Epoch 5/100\n",
            "60/60 [==============================] - 22s 375ms/step - loss: 0.6476 - auc: 0.7471 - fp: 94291.0000 - fn: 50407.0000 - accuracy: 0.7568 - precision: 0.3929 - recall: 0.5476 - val_loss: 0.7814 - val_auc: 0.7425 - val_fp: 957.0000 - val_fn: 363.0000 - val_accuracy: 0.7360 - val_precision: 0.3581 - val_recall: 0.5953\n",
            "Epoch 6/100\n",
            "60/60 [==============================] - 23s 378ms/step - loss: 0.6463 - auc: 0.7480 - fp: 91052.0000 - fn: 50998.0000 - accuracy: 0.7613 - precision: 0.3989 - recall: 0.5423 - val_loss: 0.7607 - val_auc: 0.7470 - val_fp: 788.0000 - val_fn: 416.0000 - val_accuracy: 0.7592 - val_precision: 0.3790 - val_recall: 0.5362\n",
            "Epoch 7/100\n",
            "60/60 [==============================] - 22s 374ms/step - loss: 0.6451 - auc: 0.7496 - fp: 89305.0000 - fn: 50840.0000 - accuracy: 0.7645 - precision: 0.4042 - recall: 0.5437 - val_loss: 0.7506 - val_auc: 0.7494 - val_fp: 709.0000 - val_fn: 429.0000 - val_accuracy: 0.7724 - val_precision: 0.3976 - val_recall: 0.5217\n",
            "Epoch 8/100\n",
            "60/60 [==============================] - 23s 377ms/step - loss: 0.6441 - auc: 0.7508 - fp: 87512.0000 - fn: 51055.0000 - accuracy: 0.7671 - precision: 0.4082 - recall: 0.5418 - val_loss: 0.7447 - val_auc: 0.7517 - val_fp: 663.0000 - val_fn: 451.0000 - val_accuracy: 0.7772 - val_precision: 0.4022 - val_recall: 0.4972\n",
            "Epoch 9/100\n",
            "60/60 [==============================] - 23s 377ms/step - loss: 0.6435 - auc: 0.7511 - fp: 86116.0000 - fn: 51065.0000 - accuracy: 0.7694 - precision: 0.4121 - recall: 0.5417 - val_loss: 0.7405 - val_auc: 0.7500 - val_fp: 636.0000 - val_fn: 463.0000 - val_accuracy: 0.7802 - val_precision: 0.4056 - val_recall: 0.4838\n",
            "Epoch 10/100\n",
            "60/60 [==============================] - 23s 380ms/step - loss: 0.6423 - auc: 0.7528 - fp: 85439.0000 - fn: 50610.0000 - accuracy: 0.7713 - precision: 0.4158 - recall: 0.5458 - val_loss: 0.7400 - val_auc: 0.7476 - val_fp: 627.0000 - val_fn: 457.0000 - val_accuracy: 0.7832 - val_precision: 0.4124 - val_recall: 0.4905\n",
            "Epoch 11/100\n",
            "60/60 [==============================] - ETA: 0s - loss: 0.6415 - auc: 0.7534 - fp: 85600.0000 - fn: 49961.0000 - accuracy: 0.7722 - precision: 0.4179 - recall: 0.5516Restoring model weights from the end of the best epoch.\n",
            "60/60 [==============================] - 23s 381ms/step - loss: 0.6415 - auc: 0.7534 - fp: 85600.0000 - fn: 49961.0000 - accuracy: 0.7722 - precision: 0.4179 - recall: 0.5516 - val_loss: 0.7344 - val_auc: 0.7443 - val_fp: 567.0000 - val_fn: 486.0000 - val_accuracy: 0.7894 - val_precision: 0.4202 - val_recall: 0.4582\n",
            "Epoch 00011: early stopping\n"
          ],
          "name": "stdout"
        }
      ]
    },
    {
      "cell_type": "code",
      "metadata": {
        "id": "gHJlck2Co4Gl",
        "colab_type": "code",
        "colab": {}
      },
      "source": [
        "submission = pd.read_csv(path + 'sample_submission.csv')"
      ],
      "execution_count": 0,
      "outputs": []
    },
    {
      "cell_type": "code",
      "metadata": {
        "id": "CMrJMmKloQ_Z",
        "colab_type": "code",
        "colab": {}
      },
      "source": [
        "y = model.predict(dict(test),batch_size=2048)"
      ],
      "execution_count": 0,
      "outputs": []
    },
    {
      "cell_type": "code",
      "metadata": {
        "id": "paOTGV8npUV1",
        "colab_type": "code",
        "colab": {}
      },
      "source": [
        "submission['target'] = y\n",
        "submission.to_csv('submission.csv',index = False)"
      ],
      "execution_count": 0,
      "outputs": []
    },
    {
      "cell_type": "code",
      "metadata": {
        "id": "dZiGu82ejE6s",
        "colab_type": "code",
        "outputId": "a30938b5-8693-4d67-cdc4-0c76cf5e1393",
        "colab": {
          "base_uri": "https://localhost:8080/",
          "height": 141
        }
      },
      "source": [
        " emb_input = tf.keras.Input(shape=(10,),dtype='int32', name='emb_input')\n",
        "X = layers.Embedding(2218,64)(emb_input)\n",
        "X = layers.BatchNormalization()(X)\n",
        "X = layers.Dropout(rate = 0.2)(X)\n",
        "X = layers.Reshape((640,))(X)\n",
        "num_input = tf.keras.Input(shape = (39,), dtype='float64', name = 'num_input')\n",
        "concat_layer = layers.concatenate([X,num_input])\n",
        "X = layers.Dense(600,activation='relu')(concat_layer)\n",
        "X = layers.BatchNormalization()(X)\n",
        "X = layers.Dropout(0.2)(X)\n",
        "X = layers.Dense(100,activation='relu')(X)\n",
        "X = layers.BatchNormalization()(X)\n",
        "X = layers.Dropout(0.2)(X)\n",
        "output = layers.Dense(1,activation='sigmoid')(X)\n",
        "model = keras.Model(inputs= [emb_input,num_input], outputs= output)"
      ],
      "execution_count": 0,
      "outputs": [
        {
          "output_type": "stream",
          "text": [
            "WARNING:tensorflow:Layer concatenate is casting an input tensor from dtype float64 to the layer's dtype of float32, which is new behavior in TensorFlow 2.  The layer has dtype float32 because it's dtype defaults to floatx.\n",
            "\n",
            "If you intended to run this layer in float32, you can safely ignore this warning. If in doubt, this warning is likely only an issue if you are porting a TensorFlow 1.X model to TensorFlow 2.\n",
            "\n",
            "To change all layers to have dtype float64 by default, call `tf.keras.backend.set_floatx('float64')`. To change just this layer, pass dtype='float64' to the layer constructor. If you are the author of this layer, you can disable autocasting by passing autocast=False to the base Layer constructor.\n",
            "\n"
          ],
          "name": "stdout"
        }
      ]
    },
    {
      "cell_type": "code",
      "metadata": {
        "id": "H3TUWKe549tT",
        "colab_type": "code",
        "colab": {}
      },
      "source": [
        ""
      ],
      "execution_count": 0,
      "outputs": []
    },
    {
      "cell_type": "code",
      "metadata": {
        "id": "IUaZhE1XDlPa",
        "colab_type": "code",
        "outputId": "04abd982-6f80-4dec-e3ad-a539ed2ecde5",
        "colab": {
          "base_uri": "https://localhost:8080/",
          "height": 1000
        }
      },
      "source": [
        "keras.utils.plot_model(model,show_layer_names=True, show_shapes=True)"
      ],
      "execution_count": 0,
      "outputs": [
        {
          "output_type": "execute_result",
          "data": {
            "image/png": "[encoded data removed]",
            "text/plain": [
              "<IPython.core.display.Image object>"
            ]
          },
          "metadata": {
            "tags": []
          },
          "execution_count": 303
        }
      ]
    },
    {
      "cell_type": "code",
      "metadata": {
        "id": "ZxcHQFD2D2Wt",
        "colab_type": "code",
        "outputId": "c89345a5-40ab-4c5b-f30e-4dc7742d836f",
        "colab": {
          "base_uri": "https://localhost:8080/",
          "height": 660
        }
      },
      "source": [
        "model.summary()"
      ],
      "execution_count": 0,
      "outputs": [
        {
          "output_type": "stream",
          "text": [
            "Model: \"model_7\"\n",
            "__________________________________________________________________________________________________\n",
            "Layer (type)                    Output Shape         Param #     Connected to                     \n",
            "==================================================================================================\n",
            "emb_input (InputLayer)          [(None, 10)]         0                                            \n",
            "__________________________________________________________________________________________________\n",
            "embedding (Embedding)           (None, 10, 64)       141952      emb_input[0][0]                  \n",
            "__________________________________________________________________________________________________\n",
            "batch_normalization (BatchNorma (None, 10, 64)       256         embedding[0][0]                  \n",
            "__________________________________________________________________________________________________\n",
            "dropout (Dropout)               (None, 10, 64)       0           batch_normalization[0][0]        \n",
            "__________________________________________________________________________________________________\n",
            "reshape (Reshape)               (None, 640)          0           dropout[0][0]                    \n",
            "__________________________________________________________________________________________________\n",
            "num_input (InputLayer)          [(None, 39)]         0                                            \n",
            "__________________________________________________________________________________________________\n",
            "concatenate (Concatenate)       (None, 679)          0           reshape[0][0]                    \n",
            "                                                                 num_input[0][0]                  \n",
            "__________________________________________________________________________________________________\n",
            "dense_8 (Dense)                 (None, 200)          136000      concatenate[0][0]                \n",
            "__________________________________________________________________________________________________\n",
            "batch_normalization_1 (BatchNor (None, 200)          800         dense_8[0][0]                    \n",
            "__________________________________________________________________________________________________\n",
            "dropout_1 (Dropout)             (None, 200)          0           batch_normalization_1[0][0]      \n",
            "__________________________________________________________________________________________________\n",
            "dense_9 (Dense)                 (None, 100)          20100       dropout_1[0][0]                  \n",
            "__________________________________________________________________________________________________\n",
            "batch_normalization_2 (BatchNor (None, 100)          400         dense_9[0][0]                    \n",
            "__________________________________________________________________________________________________\n",
            "dropout_2 (Dropout)             (None, 100)          0           batch_normalization_2[0][0]      \n",
            "__________________________________________________________________________________________________\n",
            "dense_10 (Dense)                (None, 1)            101         dropout_2[0][0]                  \n",
            "==================================================================================================\n",
            "Total params: 299,609\n",
            "Trainable params: 298,881\n",
            "Non-trainable params: 728\n",
            "__________________________________________________________________________________________________\n"
          ],
          "name": "stdout"
        }
      ]
    },
    {
      "cell_type": "markdown",
      "metadata": {
        "id": "EBMdS6OFEV2f",
        "colab_type": "text"
      },
      "source": [
        "let's compile de model"
      ]
    },
    {
      "cell_type": "code",
      "metadata": {
        "id": "HU5f8uECEZOC",
        "colab_type": "code",
        "colab": {}
      },
      "source": [
        "model.compile(optimizer = 'rmsprop',\n",
        "              loss = 'binary_crossentropy',\n",
        "              metrics = [keras.metrics.BinaryAccuracy(name='accuracy'), keras.metrics.AUC(name='auc')])"
      ],
      "execution_count": 0,
      "outputs": []
    },
    {
      "cell_type": "code",
      "metadata": {
        "id": "7oHd24ZcgP7c",
        "colab_type": "code",
        "colab": {}
      },
      "source": [
        "scaler = StandardScaler()\n"
      ],
      "execution_count": 0,
      "outputs": []
    },
    {
      "cell_type": "code",
      "metadata": {
        "id": "DImEwOjDGfgU",
        "colab_type": "code",
        "colab": {}
      },
      "source": [
        "X_embed = train[['nom_0','nom_1','nom_2','nom_3', 'nom_4','nom_5','nom_6','nom_7','nom_8', 'nom_9']].to_numpy()\n",
        "X_num = train.drop(columns=['nom_0','nom_1','nom_2','nom_3', 'nom_4','nom_5','nom_6','nom_7','nom_8', 'nom_9', 'target']).to_numpy()"
      ],
      "execution_count": 0,
      "outputs": []
    },
    {
      "cell_type": "code",
      "metadata": {
        "id": "7FaECaZOgaAH",
        "colab_type": "code",
        "colab": {}
      },
      "source": [
        ""
      ],
      "execution_count": 0,
      "outputs": []
    },
    {
      "cell_type": "code",
      "metadata": {
        "id": "Bci0AU5GRgSU",
        "colab_type": "code",
        "colab": {}
      },
      "source": [
        "target = train['target'].to_numpy()"
      ],
      "execution_count": 0,
      "outputs": []
    },
    {
      "cell_type": "code",
      "metadata": {
        "id": "p-eWgr1bSmgg",
        "colab_type": "code",
        "outputId": "22e5a70d-c4a9-4f32-daff-e6844b118101",
        "colab": {
          "base_uri": "https://localhost:8080/",
          "height": 34
        }
      },
      "source": [
        "X_embed.shape, X_num.shape"
      ],
      "execution_count": 0,
      "outputs": [
        {
          "output_type": "execute_result",
          "data": {
            "text/plain": [
              "((600000, 10), (600000, 39))"
            ]
          },
          "metadata": {
            "tags": []
          },
          "execution_count": 309
        }
      ]
    },
    {
      "cell_type": "code",
      "metadata": {
        "id": "pNthR3KnFtEN",
        "colab_type": "code",
        "outputId": "34a2067f-585b-4c6f-ff25-59b341b37caf",
        "colab": {
          "base_uri": "https://localhost:8080/",
          "height": 1000
        }
      },
      "source": [
        "history = model.fit({'emb_input': X_embed, 'num_input': X_num, },target,\n",
        "          epochs=50,\n",
        "          batch_size=50000,\n",
        "          validation_split = 0.02)\n",
        "print('\\nhistory dict:', history.history)\n"
      ],
      "execution_count": 0,
      "outputs": [
        {
          "output_type": "stream",
          "text": [
            "Epoch 1/50\n",
            "12/12 [==============================] - 2s 155ms/step - loss: 0.5322 - accuracy: 0.7941 - auc: 0.5098 - val_loss: 0.4950 - val_accuracy: 0.8158 - val_auc: 0.5459\n",
            "Epoch 2/50\n",
            "12/12 [==============================] - 2s 152ms/step - loss: 0.5150 - accuracy: 0.8034 - auc: 0.5139 - val_loss: 0.4770 - val_accuracy: 0.8158 - val_auc: 0.5487\n",
            "Epoch 3/50\n",
            "12/12 [==============================] - 2s 151ms/step - loss: 0.5042 - accuracy: 0.8081 - auc: 0.5130 - val_loss: 0.4866 - val_accuracy: 0.8158 - val_auc: 0.5447\n",
            "Epoch 4/50\n",
            "12/12 [==============================] - 2s 152ms/step - loss: 0.4983 - accuracy: 0.8103 - auc: 0.5161 - val_loss: 0.4772 - val_accuracy: 0.8158 - val_auc: 0.5494\n",
            "Epoch 5/50\n",
            "12/12 [==============================] - 2s 154ms/step - loss: 0.4951 - accuracy: 0.8113 - auc: 0.5190 - val_loss: 0.4787 - val_accuracy: 0.8158 - val_auc: 0.5385\n",
            "Epoch 6/50\n",
            "12/12 [==============================] - 2s 150ms/step - loss: 0.4937 - accuracy: 0.8118 - auc: 0.5168 - val_loss: 0.5389 - val_accuracy: 0.8158 - val_auc: 0.5460\n",
            "Epoch 7/50\n",
            "12/12 [==============================] - 2s 152ms/step - loss: 0.4923 - accuracy: 0.8121 - auc: 0.5199 - val_loss: 0.5151 - val_accuracy: 0.8158 - val_auc: 0.5485\n",
            "Epoch 8/50\n",
            "12/12 [==============================] - 2s 152ms/step - loss: 0.4909 - accuracy: 0.8124 - auc: 0.5201 - val_loss: 0.5201 - val_accuracy: 0.8158 - val_auc: 0.5465\n",
            "Epoch 9/50\n",
            "12/12 [==============================] - 2s 152ms/step - loss: 0.4903 - accuracy: 0.8124 - auc: 0.5228 - val_loss: 1.8591 - val_accuracy: 0.1842 - val_auc: 0.5211\n",
            "Epoch 10/50\n",
            "12/12 [==============================] - 2s 154ms/step - loss: 0.4873 - accuracy: 0.8125 - auc: 0.5272 - val_loss: 0.5595 - val_accuracy: 0.8158 - val_auc: 0.5487\n",
            "Epoch 11/50\n",
            "12/12 [==============================] - 2s 155ms/step - loss: 0.4884 - accuracy: 0.8126 - auc: 0.5249 - val_loss: 0.4888 - val_accuracy: 0.8158 - val_auc: 0.5481\n",
            "Epoch 12/50\n",
            "12/12 [==============================] - 2s 153ms/step - loss: 0.4860 - accuracy: 0.8127 - auc: 0.5291 - val_loss: 0.5156 - val_accuracy: 0.8158 - val_auc: 0.5505\n",
            "Epoch 13/50\n",
            "12/12 [==============================] - 2s 153ms/step - loss: 0.4850 - accuracy: 0.8127 - auc: 0.5337 - val_loss: 0.5159 - val_accuracy: 0.8158 - val_auc: 0.5470\n",
            "Epoch 14/50\n",
            "12/12 [==============================] - 2s 153ms/step - loss: 0.4847 - accuracy: 0.8127 - auc: 0.5339 - val_loss: 0.5283 - val_accuracy: 0.8158 - val_auc: 0.5471\n",
            "Epoch 15/50\n",
            "12/12 [==============================] - 2s 155ms/step - loss: 0.4841 - accuracy: 0.8127 - auc: 0.5357 - val_loss: 0.5939 - val_accuracy: 0.8158 - val_auc: 0.4617\n",
            "Epoch 16/50\n",
            "12/12 [==============================] - 2s 153ms/step - loss: 0.4838 - accuracy: 0.8127 - auc: 0.5391 - val_loss: 0.4774 - val_accuracy: 0.8158 - val_auc: 0.5572\n",
            "Epoch 17/50\n",
            "12/12 [==============================] - 2s 152ms/step - loss: 0.4824 - accuracy: 0.8128 - auc: 0.5404 - val_loss: 0.4853 - val_accuracy: 0.8158 - val_auc: 0.5572\n",
            "Epoch 18/50\n",
            "12/12 [==============================] - 2s 153ms/step - loss: 0.4821 - accuracy: 0.8128 - auc: 0.5472 - val_loss: 0.4769 - val_accuracy: 0.8158 - val_auc: 0.5537\n",
            "Epoch 19/50\n",
            "12/12 [==============================] - 2s 152ms/step - loss: 0.4816 - accuracy: 0.8128 - auc: 0.5477 - val_loss: 0.4781 - val_accuracy: 0.8158 - val_auc: 0.5599\n",
            "Epoch 20/50\n",
            "12/12 [==============================] - 2s 151ms/step - loss: 0.4804 - accuracy: 0.8129 - auc: 0.5506 - val_loss: 0.4821 - val_accuracy: 0.8158 - val_auc: 0.5221\n",
            "Epoch 21/50\n",
            "12/12 [==============================] - 2s 153ms/step - loss: 0.4803 - accuracy: 0.8129 - auc: 0.5511 - val_loss: 0.5180 - val_accuracy: 0.8158 - val_auc: 0.5475\n",
            "Epoch 22/50\n",
            "12/12 [==============================] - 2s 149ms/step - loss: 0.4793 - accuracy: 0.8129 - auc: 0.5595 - val_loss: 0.4804 - val_accuracy: 0.8158 - val_auc: 0.5553\n",
            "Epoch 23/50\n",
            "12/12 [==============================] - 2s 150ms/step - loss: 0.4790 - accuracy: 0.8129 - auc: 0.5616 - val_loss: 0.5024 - val_accuracy: 0.8158 - val_auc: 0.5151\n",
            "Epoch 24/50\n",
            "12/12 [==============================] - 2s 154ms/step - loss: 0.4795 - accuracy: 0.8129 - auc: 0.5533 - val_loss: 0.4872 - val_accuracy: 0.8158 - val_auc: 0.5459\n",
            "Epoch 25/50\n",
            "12/12 [==============================] - 2s 154ms/step - loss: 0.4783 - accuracy: 0.8131 - auc: 0.5637 - val_loss: 4.3150 - val_accuracy: 0.1842 - val_auc: 0.5437\n",
            "Epoch 26/50\n",
            "12/12 [==============================] - 2s 153ms/step - loss: 0.4774 - accuracy: 0.8128 - auc: 0.5713 - val_loss: 0.4778 - val_accuracy: 0.8158 - val_auc: 0.5636\n",
            "Epoch 27/50\n",
            "12/12 [==============================] - 2s 153ms/step - loss: 0.4768 - accuracy: 0.8129 - auc: 0.5757 - val_loss: 0.8666 - val_accuracy: 0.1842 - val_auc: 0.5886\n",
            "Epoch 28/50\n",
            "12/12 [==============================] - 2s 152ms/step - loss: 0.4768 - accuracy: 0.8129 - auc: 0.5748 - val_loss: 1.0734 - val_accuracy: 0.1842 - val_auc: 0.5553\n",
            "Epoch 29/50\n",
            "12/12 [==============================] - 2s 155ms/step - loss: 0.4770 - accuracy: 0.8129 - auc: 0.5707 - val_loss: 0.5286 - val_accuracy: 0.8158 - val_auc: 0.5827\n",
            "Epoch 30/50\n",
            "12/12 [==============================] - 2s 152ms/step - loss: 0.4762 - accuracy: 0.8130 - auc: 0.5770 - val_loss: 0.4770 - val_accuracy: 0.8158 - val_auc: 0.5652\n",
            "Epoch 31/50\n",
            "12/12 [==============================] - 2s 152ms/step - loss: 0.4743 - accuracy: 0.8131 - auc: 0.5871 - val_loss: 0.4768 - val_accuracy: 0.8158 - val_auc: 0.5722\n",
            "Epoch 32/50\n",
            "12/12 [==============================] - 2s 151ms/step - loss: 0.4748 - accuracy: 0.8132 - auc: 0.5835 - val_loss: 0.5272 - val_accuracy: 0.8158 - val_auc: 0.5616\n",
            "Epoch 33/50\n",
            "12/12 [==============================] - 2s 152ms/step - loss: 0.4743 - accuracy: 0.8131 - auc: 0.5857 - val_loss: 0.4770 - val_accuracy: 0.8158 - val_auc: 0.5949\n",
            "Epoch 34/50\n",
            "12/12 [==============================] - 2s 153ms/step - loss: 0.4710 - accuracy: 0.8132 - auc: 0.6040 - val_loss: 0.4848 - val_accuracy: 0.8158 - val_auc: 0.6086\n",
            "Epoch 35/50\n",
            "12/12 [==============================] - 2s 152ms/step - loss: 0.4720 - accuracy: 0.8131 - auc: 0.6021 - val_loss: 0.4772 - val_accuracy: 0.8158 - val_auc: 0.5299\n",
            "Epoch 36/50\n",
            "12/12 [==============================] - 2s 155ms/step - loss: 0.4725 - accuracy: 0.8133 - auc: 0.5976 - val_loss: 0.6545 - val_accuracy: 0.8158 - val_auc: 0.5000\n",
            "Epoch 37/50\n",
            "12/12 [==============================] - 2s 151ms/step - loss: 0.4733 - accuracy: 0.8133 - auc: 0.5884 - val_loss: 0.4881 - val_accuracy: 0.8158 - val_auc: 0.5313\n",
            "Epoch 38/50\n",
            "12/12 [==============================] - 2s 154ms/step - loss: 0.4691 - accuracy: 0.8134 - auc: 0.6141 - val_loss: 0.4808 - val_accuracy: 0.8158 - val_auc: 0.5370\n",
            "Epoch 39/50\n",
            "12/12 [==============================] - 2s 152ms/step - loss: 0.4719 - accuracy: 0.8130 - auc: 0.6011 - val_loss: 0.4935 - val_accuracy: 0.8158 - val_auc: 0.6100\n",
            "Epoch 40/50\n",
            "12/12 [==============================] - 2s 152ms/step - loss: 0.4735 - accuracy: 0.8129 - auc: 0.5931 - val_loss: 0.5282 - val_accuracy: 0.8158 - val_auc: 0.6303\n",
            "Epoch 41/50\n",
            "12/12 [==============================] - 2s 155ms/step - loss: 0.4706 - accuracy: 0.8129 - auc: 0.6100 - val_loss: 1.5849 - val_accuracy: 0.8158 - val_auc: 0.5000\n",
            "Epoch 42/50\n",
            "12/12 [==============================] - 2s 152ms/step - loss: 0.4666 - accuracy: 0.8133 - auc: 0.6256 - val_loss: 0.6500 - val_accuracy: 0.8158 - val_auc: 0.5307\n",
            "Epoch 43/50\n",
            "12/12 [==============================] - 2s 153ms/step - loss: 0.4680 - accuracy: 0.8132 - auc: 0.6178 - val_loss: 0.5745 - val_accuracy: 0.8158 - val_auc: 0.6028\n",
            "Epoch 44/50\n",
            "12/12 [==============================] - 2s 153ms/step - loss: 0.4687 - accuracy: 0.8132 - auc: 0.6166 - val_loss: 0.5006 - val_accuracy: 0.8158 - val_auc: 0.5345\n",
            "Epoch 45/50\n",
            "12/12 [==============================] - 2s 154ms/step - loss: 0.4683 - accuracy: 0.8133 - auc: 0.6177 - val_loss: 0.4792 - val_accuracy: 0.8158 - val_auc: 0.5960\n",
            "Epoch 46/50\n",
            "12/12 [==============================] - 2s 154ms/step - loss: 0.4654 - accuracy: 0.8131 - auc: 0.6300 - val_loss: 0.7998 - val_accuracy: 0.8158 - val_auc: 0.5104\n",
            "Epoch 47/50\n",
            "12/12 [==============================] - 2s 153ms/step - loss: 0.4675 - accuracy: 0.8132 - auc: 0.6215 - val_loss: 0.4778 - val_accuracy: 0.8158 - val_auc: 0.6661\n",
            "Epoch 48/50\n",
            "12/12 [==============================] - 2s 153ms/step - loss: 0.4656 - accuracy: 0.8132 - auc: 0.6296 - val_loss: 0.8339 - val_accuracy: 0.8158 - val_auc: 0.5438\n",
            "Epoch 49/50\n",
            "12/12 [==============================] - 2s 154ms/step - loss: 0.4653 - accuracy: 0.8132 - auc: 0.6314 - val_loss: 0.9505 - val_accuracy: 0.8158 - val_auc: 0.5000\n",
            "Epoch 50/50\n",
            "12/12 [==============================] - 2s 148ms/step - loss: 0.4639 - accuracy: 0.8127 - auc: 0.6375 - val_loss: 8.4133 - val_accuracy: 0.8158 - val_auc: 0.5000\n",
            "\n",
            "history dict: {'loss': [0.5321864485740662, 0.5150091648101807, 0.5041748285293579, 0.498312383890152, 0.4951162338256836, 0.4937259256839752, 0.49225911498069763, 0.49090775847435, 0.4902566373348236, 0.48731887340545654, 0.48836350440979004, 0.4859999120235443, 0.48504313826560974, 0.4847317934036255, 0.4840894043445587, 0.4837886393070221, 0.4824220836162567, 0.4820576012134552, 0.4815695285797119, 0.4803585708141327, 0.48028692603111267, 0.4793088436126709, 0.4789501428604126, 0.4794952869415283, 0.47825273871421814, 0.47742000222206116, 0.4768061339855194, 0.4767509400844574, 0.47701242566108704, 0.47624197602272034, 0.47431695461273193, 0.47477206587791443, 0.4742773771286011, 0.47103944420814514, 0.47202610969543457, 0.472481369972229, 0.4733477830886841, 0.4690980017185211, 0.4718933403491974, 0.4735257625579834, 0.47058477997779846, 0.4665931761264801, 0.4680403769016266, 0.4686739444732666, 0.4683403968811035, 0.46543169021606445, 0.4675169885158539, 0.4656233489513397, 0.4653451442718506, 0.46388328075408936], 'accuracy': [0.7940816283226013, 0.8033673763275146, 0.8080833554267883, 0.8103146553039551, 0.8112941980361938, 0.8117874264717102, 0.8121139407157898, 0.8123826384544373, 0.812433660030365, 0.8125476241111755, 0.8125731348991394, 0.8126581907272339, 0.8127228021621704, 0.8126802444458008, 0.8127347230911255, 0.8127465844154358, 0.8128010034561157, 0.8127925395965576, 0.8128129243850708, 0.8129064440727234, 0.8128520250320435, 0.8128622174263, 0.8129370808601379, 0.8128979802131653, 0.8130527138710022, 0.8127772212028503, 0.8128843307495117, 0.8128537535667419, 0.8129268884658813, 0.8129676580429077, 0.8131343722343445, 0.8131887912750244, 0.813066303730011, 0.8132398128509521, 0.8130969405174255, 0.8132516741752625, 0.8133095502853394, 0.8133979439735413, 0.8130136132240295, 0.8129438757896423, 0.8129098415374756, 0.8132601976394653, 0.8132466077804565, 0.8131887912750244, 0.8133248090744019, 0.8131207227706909, 0.8132143020629883, 0.8132448792457581, 0.8131598830223083, 0.8127312660217285], 'auc': [0.5098193287849426, 0.5138561129570007, 0.5129525661468506, 0.5160893797874451, 0.5190258622169495, 0.5167568922042847, 0.5199127197265625, 0.5200923085212708, 0.522759735584259, 0.5272064208984375, 0.5248662829399109, 0.5291125178337097, 0.5337483286857605, 0.5338560342788696, 0.5357095003128052, 0.5390765070915222, 0.5404253602027893, 0.5471632480621338, 0.547723650932312, 0.5506187081336975, 0.5511454939842224, 0.5594817399978638, 0.5616329908370972, 0.5532622933387756, 0.5636775493621826, 0.5712504386901855, 0.5756691694259644, 0.5747886896133423, 0.5707167983055115, 0.5770185589790344, 0.5870919227600098, 0.5834544897079468, 0.585722029209137, 0.6040061712265015, 0.6021052002906799, 0.5975885987281799, 0.5883865356445312, 0.6140795946121216, 0.6011452078819275, 0.5930995345115662, 0.6099643111228943, 0.6255645155906677, 0.6178165674209595, 0.6166101098060608, 0.6176847219467163, 0.6300411224365234, 0.6215161085128784, 0.6296490430831909, 0.631435751914978, 0.6375465989112854], 'val_loss': [0.4950108528137207, 0.4770157039165497, 0.48663249611854553, 0.47723257541656494, 0.47872936725616455, 0.5389029383659363, 0.5150859355926514, 0.5201441049575806, 1.859116554260254, 0.559496283531189, 0.4887692928314209, 0.5155693888664246, 0.5158597230911255, 0.5282788276672363, 0.593862771987915, 0.47739338874816895, 0.48529595136642456, 0.47693580389022827, 0.4780712127685547, 0.48210200667381287, 0.5179829001426697, 0.48041269183158875, 0.5024246573448181, 0.48718899488449097, 4.314995288848877, 0.4778493344783783, 0.8665848970413208, 1.0733692646026611, 0.5285862684249878, 0.47703656554222107, 0.4767827093601227, 0.5271698236465454, 0.4770244061946869, 0.48480167984962463, 0.47724658250808716, 0.6545243859291077, 0.488059937953949, 0.48077091574668884, 0.49345868825912476, 0.5281804203987122, 1.5849217176437378, 0.6500321626663208, 0.5744878053665161, 0.5006445050239563, 0.47924405336380005, 0.7997550368309021, 0.4777907431125641, 0.8338738679885864, 0.950497567653656, 8.41327953338623], 'val_accuracy': [0.815750002861023, 0.815750002861023, 0.815750002861023, 0.815750002861023, 0.815750002861023, 0.815750002861023, 0.815750002861023, 0.815750002861023, 0.18424999713897705, 0.815750002861023, 0.815750002861023, 0.815750002861023, 0.815750002861023, 0.815750002861023, 0.815750002861023, 0.815750002861023, 0.815750002861023, 0.815750002861023, 0.815750002861023, 0.815750002861023, 0.815750002861023, 0.815750002861023, 0.815750002861023, 0.815750002861023, 0.18424999713897705, 0.815750002861023, 0.18424999713897705, 0.18424999713897705, 0.815750002861023, 0.815750002861023, 0.815750002861023, 0.815750002861023, 0.815750002861023, 0.815750002861023, 0.815750002861023, 0.815750002861023, 0.815750002861023, 0.815750002861023, 0.815750002861023, 0.815750002861023, 0.815750002861023, 0.815750002861023, 0.815750002861023, 0.815750002861023, 0.815750002861023, 0.815750002861023, 0.815750002861023, 0.815750002861023, 0.815750002861023, 0.815750002861023], 'val_auc': [0.5458720922470093, 0.5486927628517151, 0.5447332859039307, 0.5493663549423218, 0.5384706258773804, 0.5459539890289307, 0.5484679937362671, 0.5465185046195984, 0.5210914611816406, 0.5487484335899353, 0.5480543375015259, 0.5505208969116211, 0.5469802021980286, 0.5471107959747314, 0.4617193043231964, 0.5572310090065002, 0.5572293400764465, 0.5537307262420654, 0.5599033236503601, 0.5220530033111572, 0.5475233793258667, 0.5553237199783325, 0.5150903463363647, 0.5458799600601196, 0.5437012910842896, 0.5636463165283203, 0.5886468887329102, 0.5552758574485779, 0.5826977491378784, 0.5651895403862, 0.5722326040267944, 0.5616288781166077, 0.5948653817176819, 0.608585774898529, 0.5298877954483032, 0.5, 0.5313186645507812, 0.5370478630065918, 0.6099661588668823, 0.6303048133850098, 0.5, 0.5306671261787415, 0.6028423309326172, 0.5344835519790649, 0.5959671139717102, 0.5103868246078491, 0.6660555005073547, 0.5437741875648499, 0.5, 0.5]}\n"
          ],
          "name": "stdout"
        }
      ]
    },
    {
      "cell_type": "code",
      "metadata": {
        "id": "NysA9afXgfKh",
        "colab_type": "code",
        "colab": {}
      },
      "source": [
        "entrada = scaler.fit_transform(X_num)"
      ],
      "execution_count": 0,
      "outputs": []
    },
    {
      "cell_type": "code",
      "metadata": {
        "id": "zGnSqvvWQbU2",
        "colab_type": "code",
        "colab": {}
      },
      "source": [
        "input_simple = keras.Input(shape=(39,))\n",
        "X = layers.Dense(39,activation='relu')(input_simple)\n",
        "X = layers.Dense(1,activation='sigmoid',)(X)\n"
      ],
      "execution_count": 0,
      "outputs": []
    },
    {
      "cell_type": "code",
      "metadata": {
        "id": "4qtIaO9JW6hm",
        "colab_type": "code",
        "outputId": "33b93a84-9b2d-4fa3-a85a-9b1eb908b368",
        "colab": {
          "base_uri": "https://localhost:8080/",
          "height": 260
        }
      },
      "source": [
        "model_simple = keras.Model(inputs= [input_simple], outputs= [X])\n",
        "model_simple.summary()"
      ],
      "execution_count": 0,
      "outputs": [
        {
          "output_type": "stream",
          "text": [
            "Model: \"model_6\"\n",
            "_________________________________________________________________\n",
            "Layer (type)                 Output Shape              Param #   \n",
            "=================================================================\n",
            "input_6 (InputLayer)         [(None, 39)]              0         \n",
            "_________________________________________________________________\n",
            "dense_6 (Dense)              (None, 39)                1560      \n",
            "_________________________________________________________________\n",
            "dense_7 (Dense)              (None, 1)                 40        \n",
            "=================================================================\n",
            "Total params: 1,600\n",
            "Trainable params: 1,600\n",
            "Non-trainable params: 0\n",
            "_________________________________________________________________\n"
          ],
          "name": "stdout"
        }
      ]
    },
    {
      "cell_type": "code",
      "metadata": {
        "id": "YehmQT33bghg",
        "colab_type": "code",
        "colab": {}
      },
      "source": [
        "model_simple.compile(loss=keras.losses.BinaryCrossentropy(),metrics='accuracy',optimizer='adam')"
      ],
      "execution_count": 0,
      "outputs": []
    },
    {
      "cell_type": "code",
      "metadata": {
        "id": "wxVfSHmNZcvr",
        "colab_type": "code",
        "outputId": "9f43b97e-a36c-4402-a88d-98437cfcc62f",
        "colab": {
          "base_uri": "https://localhost:8080/",
          "height": 1000
        }
      },
      "source": [
        "model_simple.weights"
      ],
      "execution_count": 0,
      "outputs": [
        {
          "output_type": "execute_result",
          "data": {
            "text/plain": [
              "[<tf.Variable 'dense_6/kernel:0' shape=(39, 39) dtype=float32, numpy=\n",
              " array([[ 0.10800958, -0.2597097 ,  0.1695463 , ...,  0.07235232,\n",
              "         -0.26752108,  0.20100644],\n",
              "        [ 0.1320889 , -0.13726948, -0.21089795, ...,  0.06840733,\n",
              "          0.12292728,  0.0459401 ],\n",
              "        [ 0.15996987,  0.03357837, -0.16630344, ...,  0.2668685 ,\n",
              "         -0.18863294, -0.25562286],\n",
              "        ...,\n",
              "        [ 0.25542423,  0.25575474,  0.08241245, ...,  0.08022177,\n",
              "          0.04836968,  0.16416547],\n",
              "        [-0.2210236 ,  0.07426605,  0.19958389, ...,  0.08276951,\n",
              "          0.02796125,  0.09701458],\n",
              "        [ 0.24322656, -0.05255423,  0.21351653, ..., -0.14125784,\n",
              "         -0.06005511,  0.18356422]], dtype=float32)>,\n",
              " <tf.Variable 'dense_6/bias:0' shape=(39,) dtype=float32, numpy=\n",
              " array([0., 0., 0., 0., 0., 0., 0., 0., 0., 0., 0., 0., 0., 0., 0., 0., 0.,\n",
              "        0., 0., 0., 0., 0., 0., 0., 0., 0., 0., 0., 0., 0., 0., 0., 0., 0.,\n",
              "        0., 0., 0., 0., 0.], dtype=float32)>,\n",
              " <tf.Variable 'dense_7/kernel:0' shape=(39, 1) dtype=float32, numpy=\n",
              " array([[ 0.19424862],\n",
              "        [-0.32476416],\n",
              "        [-0.00059429],\n",
              "        [-0.09035456],\n",
              "        [-0.3219036 ],\n",
              "        [ 0.32379997],\n",
              "        [ 0.31745046],\n",
              "        [ 0.13764685],\n",
              "        [ 0.01204628],\n",
              "        [-0.33970806],\n",
              "        [-0.10129011],\n",
              "        [-0.18546958],\n",
              "        [-0.3793667 ],\n",
              "        [ 0.18319345],\n",
              "        [-0.1934836 ],\n",
              "        [-0.07830855],\n",
              "        [-0.11948285],\n",
              "        [-0.18232304],\n",
              "        [-0.07421046],\n",
              "        [ 0.16269839],\n",
              "        [ 0.00733939],\n",
              "        [-0.0786432 ],\n",
              "        [-0.03447545],\n",
              "        [ 0.10773131],\n",
              "        [-0.07251623],\n",
              "        [-0.37339014],\n",
              "        [-0.05905226],\n",
              "        [ 0.00288033],\n",
              "        [-0.3259608 ],\n",
              "        [ 0.2260074 ],\n",
              "        [-0.13340712],\n",
              "        [ 0.31237864],\n",
              "        [ 0.06082192],\n",
              "        [-0.3222834 ],\n",
              "        [ 0.30675483],\n",
              "        [ 0.28512383],\n",
              "        [-0.29835987],\n",
              "        [-0.09862694],\n",
              "        [-0.32723838]], dtype=float32)>,\n",
              " <tf.Variable 'dense_7/bias:0' shape=(1,) dtype=float32, numpy=array([0.], dtype=float32)>]"
            ]
          },
          "metadata": {
            "tags": []
          },
          "execution_count": 299
        }
      ]
    },
    {
      "cell_type": "code",
      "metadata": {
        "id": "R3vHnMKTaBxI",
        "colab_type": "code",
        "colab": {}
      },
      "source": [
        "X_ran = np.random.rand(600000,39).astype('float32')"
      ],
      "execution_count": 0,
      "outputs": []
    },
    {
      "cell_type": "code",
      "metadata": {
        "id": "sDr4CE1RVm5c",
        "colab_type": "code",
        "outputId": "e9502914-09a3-40a9-cee7-8caae86111bb",
        "colab": {
          "base_uri": "https://localhost:8080/",
          "height": 382
        }
      },
      "source": [
        "model_simple.fit(X_num,target.astype('float32'),batch_size=1000,epochs=10)"
      ],
      "execution_count": 0,
      "outputs": [
        {
          "output_type": "stream",
          "text": [
            "Epoch 1/10\n",
            "600/600 [==============================] - 1s 2ms/step - loss: 655.5564 - accuracy: 0.6935\n",
            "Epoch 2/10\n",
            "600/600 [==============================] - 1s 2ms/step - loss: 153.9363 - accuracy: 0.7002\n",
            "Epoch 3/10\n",
            "600/600 [==============================] - 1s 2ms/step - loss: 121.6592 - accuracy: 0.6980\n",
            "Epoch 4/10\n",
            "600/600 [==============================] - 1s 2ms/step - loss: 116.2231 - accuracy: 0.6982\n",
            "Epoch 5/10\n",
            "600/600 [==============================] - 1s 2ms/step - loss: 123.4917 - accuracy: 0.6990\n",
            "Epoch 6/10\n",
            "600/600 [==============================] - 1s 2ms/step - loss: 126.2526 - accuracy: 0.6986\n",
            "Epoch 7/10\n",
            "600/600 [==============================] - 1s 2ms/step - loss: 111.7658 - accuracy: 0.6974\n",
            "Epoch 8/10\n",
            "600/600 [==============================] - 1s 2ms/step - loss: 129.9923 - accuracy: 0.6983\n",
            "Epoch 9/10\n",
            "600/600 [==============================] - 1s 2ms/step - loss: 86.5749 - accuracy: 0.6978\n",
            "Epoch 10/10\n",
            "600/600 [==============================] - 1s 2ms/step - loss: 110.5703 - accuracy: 0.7000\n"
          ],
          "name": "stdout"
        },
        {
          "output_type": "execute_result",
          "data": {
            "text/plain": [
              "<tensorflow.python.keras.callbacks.History at 0x7f5bb3c7aba8>"
            ]
          },
          "metadata": {
            "tags": []
          },
          "execution_count": 301
        }
      ]
    },
    {
      "cell_type": "code",
      "metadata": {
        "id": "nfFQHF5WjE6y",
        "colab_type": "code",
        "colab": {}
      },
      "source": [
        "num_tags = 12  # Number of unique issue tags\n",
        "num_words = 10000  # Size of vocabulary obtained when preprocessing text data\n",
        "num_departments = 4  # Number of departments for predictions\n",
        "\n",
        "title_input = keras.Input(shape=(None,), name='title')  # Variable-length sequence of ints\n",
        "body_input = keras.Input(shape=(None,), name='body')  # Variable-length sequence of ints\n",
        "tags_input = keras.Input(shape=(num_tags,), name='tags')  # Binary vectors of size `num_tags`\n",
        "\n",
        "# Embed each word in the title into a 64-dimensional vector\n",
        "title_features = layers.Embedding(num_words, 64)(title_input)\n",
        "# Embed each word in the text into a 64-dimensional vector\n",
        "body_features = layers.Embedding(num_words, 64)(body_input)\n",
        "\n",
        "# Reduce sequence of embedded words in the title into a single 128-dimensional vector\n",
        "title_features = layers.LSTM(128)(title_features)\n",
        "# Reduce sequence of embedded words in the body into a single 32-dimensional vector\n",
        "body_features = layers.LSTM(32)(body_features)\n",
        "\n",
        "# Merge all available features into a single large vector via concatenation\n",
        "x = layers.concatenate([title_features, body_features, tags_input])\n"
      ],
      "execution_count": 0,
      "outputs": []
    },
    {
      "cell_type": "code",
      "metadata": {
        "id": "OB7IlrsJjE62",
        "colab_type": "code",
        "outputId": "82353a5c-11e3-48d4-f4f0-c4acd6987f5e",
        "colab": {
          "base_uri": "https://localhost:8080/",
          "height": 173
        }
      },
      "source": [
        ""
      ],
      "execution_count": 0,
      "outputs": [
        {
          "output_type": "execute_result",
          "data": {
            "text/plain": [
              "count    600000.000000\n",
              "mean          0.773872\n",
              "std           0.928008\n",
              "min           0.000000\n",
              "25%           0.000000\n",
              "50%           0.000000\n",
              "75%           2.000000\n",
              "max           2.000000\n",
              "Name: nom_0, dtype: float64"
            ]
          },
          "metadata": {
            "tags": []
          },
          "execution_count": 348
        }
      ]
    },
    {
      "cell_type": "code",
      "metadata": {
        "id": "U9iNiOLPjE66",
        "colab_type": "code",
        "colab": {}
      },
      "source": [
        "learn.show_results"
      ],
      "execution_count": 0,
      "outputs": []
    },
    {
      "cell_type": "code",
      "metadata": {
        "id": "Vm-KFCMYjE6-",
        "colab_type": "code",
        "colab": {}
      },
      "source": [
        "learn.save('model-fastai-350-100')"
      ],
      "execution_count": 0,
      "outputs": []
    },
    {
      "cell_type": "code",
      "metadata": {
        "id": "URRhe3DBjE7C",
        "colab_type": "code",
        "colab": {}
      },
      "source": [
        ""
      ],
      "execution_count": 0,
      "outputs": []
    },
    {
      "cell_type": "code",
      "metadata": {
        "id": "-Z8x4vU5jE7F",
        "colab_type": "code",
        "colab": {}
      },
      "source": [
        "learn_big = tabular_learner(data, layers=[1000,500], emb_szs=dict_emb, metrics=accuracy,ps=[0.001,0.01], emb_drop=0.04)"
      ],
      "execution_count": 0,
      "outputs": []
    },
    {
      "cell_type": "code",
      "metadata": {
        "id": "2gA2z_GzjE7I",
        "colab_type": "code",
        "colab": {}
      },
      "source": [
        "learn_big.lr_find()\n",
        "learn_big.recorder.plot()"
      ],
      "execution_count": 0,
      "outputs": []
    },
    {
      "cell_type": "code",
      "metadata": {
        "id": "vfAOxKhxjE7M",
        "colab_type": "code",
        "colab": {}
      },
      "source": [
        "learn_big.fit_one_cycle(5, max_lr = 1e-3, wd=0.2)"
      ],
      "execution_count": 0,
      "outputs": []
    },
    {
      "cell_type": "code",
      "metadata": {
        "id": "aayuFwuHjE7P",
        "colab_type": "code",
        "colab": {}
      },
      "source": [
        "learn_big.fit_one_cycle(1, max_lr = 6e-1)"
      ],
      "execution_count": 0,
      "outputs": []
    },
    {
      "cell_type": "code",
      "metadata": {
        "id": "j4pYM5U1jE7W",
        "colab_type": "code",
        "colab": {}
      },
      "source": [
        "learn_big.save('big-4000-2000-100')"
      ],
      "execution_count": 0,
      "outputs": []
    },
    {
      "cell_type": "code",
      "metadata": {
        "id": "5nKYL9udjE7Z",
        "colab_type": "code",
        "colab": {}
      },
      "source": [
        "learn_big.recorder.plot_losses(skip_start=500)"
      ],
      "execution_count": 0,
      "outputs": []
    },
    {
      "cell_type": "markdown",
      "metadata": {
        "id": "bbtF7uaxjE7d",
        "colab_type": "text"
      },
      "source": [
        "# Continous features\n",
        "\n",
        "Let's do a little feature engineering to check if we can improve our model"
      ]
    },
    {
      "cell_type": "code",
      "metadata": {
        "id": "8X6glshRjE7e",
        "colab_type": "code",
        "colab": {}
      },
      "source": [
        "X_train = pd.read_csv('./input/train.csv')\n",
        "X_test = pd.read_csv('./input/test.csv')\n",
        "idxs = X_test['id'].copy()\n",
        "path = \"./input/\""
      ],
      "execution_count": 0,
      "outputs": []
    },
    {
      "cell_type": "code",
      "metadata": {
        "id": "1vAO8o6NjE7h",
        "colab_type": "code",
        "colab": {}
      },
      "source": [
        "X_train['sin_day'] = (X_train['day'].map(lambda x: sin(x*360/7)))\n",
        "X_train['cos_day'] = (X_train['day'].map(lambda x: cos(x*360/7)))\n",
        "X_train['sin_month'] = (X_train['month']).map(lambda x: sin(x*360/12))\n",
        "X_train['cos_month'] = (X_train['month']).map(lambda x: cos(x*360/12))\n",
        "X_test['sin_day'] = (X_test['day'].map(lambda x: sin(x*360/7)))\n",
        "X_test['cos_day'] = (X_test['day'].map(lambda x: cos(x*360/7)))\n",
        "X_test['sin_month'] = (X_test['month']).map(lambda x: sin(x*360/12))\n",
        "X_test['cos_month'] = (X_test['month']).map(lambda x: cos(x*360/12))"
      ],
      "execution_count": 0,
      "outputs": []
    },
    {
      "cell_type": "code",
      "metadata": {
        "id": "p0_NaamAjE7k",
        "colab_type": "code",
        "outputId": "10429d25-7e3d-44ea-925d-cedd279b9d52",
        "colab": {}
      },
      "source": [
        "X_train['sin_month'].unique()"
      ],
      "execution_count": 0,
      "outputs": [
        {
          "output_type": "execute_result",
          "data": {
            "text/plain": [
              "array([ 0.893997,  0.467719, -0.176046,  0.958916,  0.580611, -0.801153, -0.988032,  0.945445, -0.714876, -0.132382,\n",
              "             nan, -0.999756, -0.304811])"
            ]
          },
          "metadata": {
            "tags": []
          },
          "execution_count": 5
        }
      ]
    },
    {
      "cell_type": "code",
      "metadata": {
        "id": "poOrzWEQjE7p",
        "colab_type": "code",
        "colab": {}
      },
      "source": [
        "X_train.drop(columns=['id','day','month'],inplace= True)\n",
        "X_test.drop(columns=['id','day','month'],inplace= True)\n",
        "X_train.dropna(subset = ['target'], inplace = True)\n"
      ],
      "execution_count": 0,
      "outputs": []
    },
    {
      "cell_type": "code",
      "metadata": {
        "id": "UnqHS5fpjE7r",
        "colab_type": "code",
        "outputId": "3614cd55-b0d0-4f25-8c51-a5a98aad145c",
        "colab": {}
      },
      "source": [
        "X_train.describe()"
      ],
      "execution_count": 0,
      "outputs": [
        {
          "output_type": "execute_result",
          "data": {
            "text/html": [
              "<div>\n",
              "<style scoped>\n",
              "    .dataframe tbody tr th:only-of-type {\n",
              "        vertical-align: middle;\n",
              "    }\n",
              "\n",
              "    .dataframe tbody tr th {\n",
              "        vertical-align: top;\n",
              "    }\n",
              "\n",
              "    .dataframe thead th {\n",
              "        text-align: right;\n",
              "    }\n",
              "</style>\n",
              "<table border=\"1\" class=\"dataframe\">\n",
              "  <thead>\n",
              "    <tr style=\"text-align: right;\">\n",
              "      <th></th>\n",
              "      <th>bin_0</th>\n",
              "      <th>bin_1</th>\n",
              "      <th>bin_2</th>\n",
              "      <th>ord_0</th>\n",
              "      <th>target</th>\n",
              "      <th>sin_day</th>\n",
              "      <th>cos_day</th>\n",
              "      <th>sin_month</th>\n",
              "      <th>cos_month</th>\n",
              "    </tr>\n",
              "  </thead>\n",
              "  <tbody>\n",
              "    <tr>\n",
              "      <th>count</th>\n",
              "      <td>582106.000000</td>\n",
              "      <td>581997.000000</td>\n",
              "      <td>582070.000000</td>\n",
              "      <td>581712.000000</td>\n",
              "      <td>600000.000000</td>\n",
              "      <td>582048.000000</td>\n",
              "      <td>582048.000000</td>\n",
              "      <td>582012.000000</td>\n",
              "      <td>582012.000000</td>\n",
              "    </tr>\n",
              "    <tr>\n",
              "      <th>mean</th>\n",
              "      <td>0.092301</td>\n",
              "      <td>0.185532</td>\n",
              "      <td>0.278704</td>\n",
              "      <td>1.948224</td>\n",
              "      <td>0.187205</td>\n",
              "      <td>0.272407</td>\n",
              "      <td>0.050061</td>\n",
              "      <td>0.107344</td>\n",
              "      <td>-0.188266</td>\n",
              "    </tr>\n",
              "    <tr>\n",
              "      <th>std</th>\n",
              "      <td>0.289451</td>\n",
              "      <td>0.388729</td>\n",
              "      <td>0.448362</td>\n",
              "      <td>0.853904</td>\n",
              "      <td>0.390076</td>\n",
              "      <td>0.644327</td>\n",
              "      <td>0.712834</td>\n",
              "      <td>0.755362</td>\n",
              "      <td>0.618436</td>\n",
              "    </tr>\n",
              "    <tr>\n",
              "      <th>min</th>\n",
              "      <td>0.000000</td>\n",
              "      <td>0.000000</td>\n",
              "      <td>0.000000</td>\n",
              "      <td>1.000000</td>\n",
              "      <td>0.000000</td>\n",
              "      <td>-0.998199</td>\n",
              "      <td>-0.940168</td>\n",
              "      <td>-0.999756</td>\n",
              "      <td>-0.991199</td>\n",
              "    </tr>\n",
              "    <tr>\n",
              "      <th>25%</th>\n",
              "      <td>0.000000</td>\n",
              "      <td>0.000000</td>\n",
              "      <td>0.000000</td>\n",
              "      <td>1.000000</td>\n",
              "      <td>0.000000</td>\n",
              "      <td>-0.340712</td>\n",
              "      <td>-0.685567</td>\n",
              "      <td>-0.714876</td>\n",
              "      <td>-0.598460</td>\n",
              "    </tr>\n",
              "    <tr>\n",
              "      <th>50%</th>\n",
              "      <td>0.000000</td>\n",
              "      <td>0.000000</td>\n",
              "      <td>0.000000</td>\n",
              "      <td>2.000000</td>\n",
              "      <td>0.000000</td>\n",
              "      <td>0.640653</td>\n",
              "      <td>0.396506</td>\n",
              "      <td>-0.132382</td>\n",
              "      <td>-0.283691</td>\n",
              "    </tr>\n",
              "    <tr>\n",
              "      <th>75%</th>\n",
              "      <td>0.000000</td>\n",
              "      <td>0.000000</td>\n",
              "      <td>1.000000</td>\n",
              "      <td>3.000000</td>\n",
              "      <td>0.000000</td>\n",
              "      <td>0.918032</td>\n",
              "      <td>0.767830</td>\n",
              "      <td>0.945445</td>\n",
              "      <td>0.325781</td>\n",
              "    </tr>\n",
              "    <tr>\n",
              "      <th>max</th>\n",
              "      <td>1.000000</td>\n",
              "      <td>1.000000</td>\n",
              "      <td>1.000000</td>\n",
              "      <td>3.000000</td>\n",
              "      <td>1.000000</td>\n",
              "      <td>0.958916</td>\n",
              "      <td>0.892589</td>\n",
              "      <td>0.958916</td>\n",
              "      <td>0.984382</td>\n",
              "    </tr>\n",
              "  </tbody>\n",
              "</table>\n",
              "</div>"
            ],
            "text/plain": [
              "               bin_0          bin_1          bin_2          ord_0  \\\n",
              "count  582106.000000  581997.000000  582070.000000  581712.000000   \n",
              "mean        0.092301       0.185532       0.278704       1.948224   \n",
              "std         0.289451       0.388729       0.448362       0.853904   \n",
              "min         0.000000       0.000000       0.000000       1.000000   \n",
              "25%         0.000000       0.000000       0.000000       1.000000   \n",
              "50%         0.000000       0.000000       0.000000       2.000000   \n",
              "75%         0.000000       0.000000       1.000000       3.000000   \n",
              "max         1.000000       1.000000       1.000000       3.000000   \n",
              "\n",
              "              target        sin_day        cos_day      sin_month  \\\n",
              "count  600000.000000  582048.000000  582048.000000  582012.000000   \n",
              "mean        0.187205       0.272407       0.050061       0.107344   \n",
              "std         0.390076       0.644327       0.712834       0.755362   \n",
              "min         0.000000      -0.998199      -0.940168      -0.999756   \n",
              "25%         0.000000      -0.340712      -0.685567      -0.714876   \n",
              "50%         0.000000       0.640653       0.396506      -0.132382   \n",
              "75%         0.000000       0.918032       0.767830       0.945445   \n",
              "max         1.000000       0.958916       0.892589       0.958916   \n",
              "\n",
              "           cos_month  \n",
              "count  582012.000000  \n",
              "mean       -0.188266  \n",
              "std         0.618436  \n",
              "min        -0.991199  \n",
              "25%        -0.598460  \n",
              "50%        -0.283691  \n",
              "75%         0.325781  \n",
              "max         0.984382  "
            ]
          },
          "metadata": {
            "tags": []
          },
          "execution_count": 7
        }
      ]
    },
    {
      "cell_type": "markdown",
      "metadata": {
        "id": "niJyzI7jjE7v",
        "colab_type": "text"
      },
      "source": [
        "Now we will rearrange the ordinal features to continous to check if performance improves"
      ]
    },
    {
      "cell_type": "code",
      "metadata": {
        "id": "5gbRj93BjE7v",
        "colab_type": "code",
        "outputId": "6ada4c3a-6175-405f-8a6d-cb43b98d796e",
        "colab": {}
      },
      "source": [
        "X_train['ord_1'].unique()"
      ],
      "execution_count": 0,
      "outputs": [
        {
          "output_type": "execute_result",
          "data": {
            "text/plain": [
              "array(['Contributor', 'Grandmaster', nan, 'Novice', 'Expert', 'Master'], dtype=object)"
            ]
          },
          "metadata": {
            "tags": []
          },
          "execution_count": 8
        }
      ]
    },
    {
      "cell_type": "code",
      "metadata": {
        "id": "UoA7KgaijE7y",
        "colab_type": "code",
        "colab": {}
      },
      "source": [
        "dep_var = 'target'\n",
        "cat_names = ['bin_0','bin_1','bin_2','bin_3','bin_4','nom_0', 'nom_1', 'nom_2', 'nom_3', 'nom_4'\n",
        "             ,'nom_5', 'nom_6', 'nom_7', 'nom_8', 'nom_9','ord_0', 'ord_1',\n",
        "       'ord_2', 'ord_3', 'ord_4', 'ord_5']\n",
        "cont_names = ['sin_day', 'cos_day', 'sin_month', 'cos_month']\n",
        "procs = [FillMissing, Categorify,Normalize]"
      ],
      "execution_count": 0,
      "outputs": []
    },
    {
      "cell_type": "code",
      "metadata": {
        "id": "UfSCUT6vjE70",
        "colab_type": "code",
        "outputId": "2e39f62b-fa6f-4c7d-cc23-82f2650a9629",
        "colab": {}
      },
      "source": [
        "for c in cat_names:\n",
        "    X_train[c]=X_train[c].astype('category', inplace= True)\n",
        "    print(X_train[c].cat.categories)\n",
        "    \n",
        "cat_sz = [(c, len(X_train[c].cat.categories)+1) \n",
        "             for c in cat_names]\n",
        "emb_szs = [(c, min(50, (c+1)//2)) for _,c in cat_sz]\n",
        "dict_emb = {col: min(50, (c+1)//2) for col,c in cat_sz }\n"
      ],
      "execution_count": 0,
      "outputs": [
        {
          "output_type": "stream",
          "text": [
            "Float64Index([0.0, 1.0], dtype='float64')\n",
            "Float64Index([0.0, 1.0], dtype='float64')\n",
            "Float64Index([0.0, 1.0], dtype='float64')\n",
            "Index(['F', 'T'], dtype='object')\n",
            "Index(['N', 'Y'], dtype='object')\n",
            "Index(['Blue', 'Green', 'Red'], dtype='object')\n",
            "Index(['Circle', 'Polygon', 'Square', 'Star', 'Trapezoid', 'Triangle'], dtype='object')\n",
            "Index(['Axolotl', 'Cat', 'Dog', 'Hamster', 'Lion', 'Snake'], dtype='object')\n",
            "Index(['Canada', 'China', 'Costa Rica', 'Finland', 'India', 'Russia'], dtype='object')\n",
            "Index(['Bassoon', 'Oboe', 'Piano', 'Theremin'], dtype='object')\n",
            "Index(['000b3c20a', '0054c0c3a', '00a731d2e', '014770cf0', '0165aa0c3',\n",
            "       '023ed7074', '024efa364', '0276cf712', '0286dc1e1', '0289ab250',\n",
            "       ...\n",
            "       'fced7f9d1', 'fd943bc67', 'fde0ee528', 'fe2d7e137', 'fe8c04829',\n",
            "       'feaf3a39e', 'febb8819e', 'ff20ed762', 'ffac417f9', 'ffd9a460b'],\n",
            "      dtype='object', length=1220)\n",
            "Index(['001fa96ad', '003b53013', '003d0e1d2', '007c05fbd', '0092cddd7',\n",
            "       '00a1ea17b', '00bbcfe3e', '00cd56f7e', '0137900c0', '0147cbb6a',\n",
            "       ...\n",
            "       'fde576c8b', 'fe14b7d7f', 'fee4e3007', 'feea951a9', 'fef019413',\n",
            "       'ff6da8268', 'ff8d3215a', 'ffaf07664', 'ffe6f54c2', 'fff06aa8f'],\n",
            "      dtype='object', length=1519)\n",
            "Index(['00a7f9a05', '01103c3e4', '018382adf', '0304a1b60', '057ab40ea',\n",
            "       '0764632bc', '082e2b9ae', '088aace2d', '0c208bfa0', '0da2378c8',\n",
            "       ...\n",
            "       'ece4087ec', 'f12d5e8c0', 'f14f5e4a5', 'f313d1e52', 'f74f0b894',\n",
            "       'f94d9babd', 'fba315672', 'fdebf0648', 'ffe61f9f6', 'fff8dea99'],\n",
            "      dtype='object', length=222)\n",
            "Index(['007bff22a', '0256c7a4b', '0279391c5', '0602256df', '060a21580',\n",
            "       '0e5249dbe', '0f269cbc8', '0f94eb834', '10fd52d10', '115d9fd8b',\n",
            "       ...\n",
            "       'f635e7f7f', 'f7b3f1d13', 'f81a5366b', 'f8510b161', 'fa49d4e04',\n",
            "       'fbbafaadc', 'fbea9bb4a', 'fca8ae0cf', 'fe070240a', 'ff3ba3bbc'],\n",
            "      dtype='object', length=222)\n",
            "Index(['000394a94', '0006161e6', '001159504', '0030bf272', '003e7fac9',\n",
            "       '004b4670d', '00602766e', '00616c066', '0092bc804', '00935d970',\n",
            "       ...\n",
            "       'fe7e11d45', 'fe7fa8831', 'fe9bdeef3', 'fecb6bcc3', 'fee724acc',\n",
            "       'ff1288133', 'ff12eee03', 'ff412d38f', 'ff4a11902', 'ff4a11ad3'],\n",
            "      dtype='object', length=2218)\n",
            "Float64Index([1.0, 2.0, 3.0], dtype='float64')\n",
            "Index(['Contributor', 'Expert', 'Grandmaster', 'Master', 'Novice'], dtype='object')\n",
            "Index(['Boiling Hot', 'Cold', 'Freezing', 'Hot', 'Lava Hot', 'Warm'], dtype='object')\n",
            "Index(['a', 'b', 'c', 'd', 'e', 'f', 'g', 'h', 'i', 'j', 'k', 'l', 'm', 'n',\n",
            "       'o'],\n",
            "      dtype='object')\n",
            "Index(['A', 'B', 'C', 'D', 'E', 'F', 'G', 'H', 'I', 'J', 'K', 'L', 'M', 'N',\n",
            "       'O', 'P', 'Q', 'R', 'S', 'T', 'U', 'V', 'W', 'X', 'Y', 'Z'],\n",
            "      dtype='object')\n",
            "Index(['AG', 'AI', 'AU', 'AW', 'Ay', 'BL', 'BX', 'Bx', 'CN', 'CU',\n",
            "       ...\n",
            "       'wa', 'xB', 'xF', 'xG', 'yE', 'yK', 'zc', 'ze', 'zf', 'zp'],\n",
            "      dtype='object', length=190)\n"
          ],
          "name": "stdout"
        },
        {
          "output_type": "error",
          "ename": "KeyError",
          "evalue": "'sin_day_na'",
          "traceback": [
            "\u001b[0;31m---------------------------------------------------------------------------\u001b[0m",
            "\u001b[0;31mKeyError\u001b[0m                                  Traceback (most recent call last)",
            "\u001b[0;32m/opt/conda/envs/fastai/lib/python3.6/site-packages/pandas/core/indexes/base.py\u001b[0m in \u001b[0;36mget_loc\u001b[0;34m(self, key, method, tolerance)\u001b[0m\n\u001b[1;32m   3077\u001b[0m             \u001b[0;32mtry\u001b[0m\u001b[0;34m:\u001b[0m\u001b[0;34m\u001b[0m\u001b[0;34m\u001b[0m\u001b[0m\n\u001b[0;32m-> 3078\u001b[0;31m                 \u001b[0;32mreturn\u001b[0m \u001b[0mself\u001b[0m\u001b[0;34m.\u001b[0m\u001b[0m_engine\u001b[0m\u001b[0;34m.\u001b[0m\u001b[0mget_loc\u001b[0m\u001b[0;34m(\u001b[0m\u001b[0mkey\u001b[0m\u001b[0;34m)\u001b[0m\u001b[0;34m\u001b[0m\u001b[0;34m\u001b[0m\u001b[0m\n\u001b[0m\u001b[1;32m   3079\u001b[0m             \u001b[0;32mexcept\u001b[0m \u001b[0mKeyError\u001b[0m\u001b[0;34m:\u001b[0m\u001b[0;34m\u001b[0m\u001b[0;34m\u001b[0m\u001b[0m\n",
            "\u001b[0;32mpandas/_libs/index.pyx\u001b[0m in \u001b[0;36mpandas._libs.index.IndexEngine.get_loc\u001b[0;34m()\u001b[0m\n",
            "\u001b[0;32mpandas/_libs/index.pyx\u001b[0m in \u001b[0;36mpandas._libs.index.IndexEngine.get_loc\u001b[0;34m()\u001b[0m\n",
            "\u001b[0;32mpandas/_libs/hashtable_class_helper.pxi\u001b[0m in \u001b[0;36mpandas._libs.hashtable.PyObjectHashTable.get_item\u001b[0;34m()\u001b[0m\n",
            "\u001b[0;32mpandas/_libs/hashtable_class_helper.pxi\u001b[0m in \u001b[0;36mpandas._libs.hashtable.PyObjectHashTable.get_item\u001b[0;34m()\u001b[0m\n",
            "\u001b[0;31mKeyError\u001b[0m: 'sin_day_na'",
            "\nDuring handling of the above exception, another exception occurred:\n",
            "\u001b[0;31mKeyError\u001b[0m                                  Traceback (most recent call last)",
            "\u001b[0;32m<ipython-input-35-049812081ca6>\u001b[0m in \u001b[0;36m<module>\u001b[0;34m\u001b[0m\n\u001b[1;32m      1\u001b[0m \u001b[0;32mfor\u001b[0m \u001b[0mc\u001b[0m \u001b[0;32min\u001b[0m \u001b[0mcat_names\u001b[0m\u001b[0;34m:\u001b[0m\u001b[0;34m\u001b[0m\u001b[0;34m\u001b[0m\u001b[0m\n\u001b[0;32m----> 2\u001b[0;31m     \u001b[0mX_train\u001b[0m\u001b[0;34m[\u001b[0m\u001b[0mc\u001b[0m\u001b[0;34m]\u001b[0m\u001b[0;34m=\u001b[0m\u001b[0mX_train\u001b[0m\u001b[0;34m[\u001b[0m\u001b[0mc\u001b[0m\u001b[0;34m]\u001b[0m\u001b[0;34m.\u001b[0m\u001b[0mastype\u001b[0m\u001b[0;34m(\u001b[0m\u001b[0;34m'category'\u001b[0m\u001b[0;34m,\u001b[0m \u001b[0minplace\u001b[0m\u001b[0;34m=\u001b[0m \u001b[0;32mTrue\u001b[0m\u001b[0;34m)\u001b[0m\u001b[0;34m\u001b[0m\u001b[0;34m\u001b[0m\u001b[0m\n\u001b[0m\u001b[1;32m      3\u001b[0m     \u001b[0mprint\u001b[0m\u001b[0;34m(\u001b[0m\u001b[0mX_train\u001b[0m\u001b[0;34m[\u001b[0m\u001b[0mc\u001b[0m\u001b[0;34m]\u001b[0m\u001b[0;34m.\u001b[0m\u001b[0mcat\u001b[0m\u001b[0;34m.\u001b[0m\u001b[0mcategories\u001b[0m\u001b[0;34m)\u001b[0m\u001b[0;34m\u001b[0m\u001b[0;34m\u001b[0m\u001b[0m\n\u001b[1;32m      4\u001b[0m \u001b[0;34m\u001b[0m\u001b[0m\n\u001b[1;32m      5\u001b[0m cat_sz = [(c, len(X_train[c].cat.categories)+1) \n",
            "\u001b[0;32m/opt/conda/envs/fastai/lib/python3.6/site-packages/pandas/core/frame.py\u001b[0m in \u001b[0;36m__getitem__\u001b[0;34m(self, key)\u001b[0m\n\u001b[1;32m   2686\u001b[0m             \u001b[0;32mreturn\u001b[0m \u001b[0mself\u001b[0m\u001b[0;34m.\u001b[0m\u001b[0m_getitem_multilevel\u001b[0m\u001b[0;34m(\u001b[0m\u001b[0mkey\u001b[0m\u001b[0;34m)\u001b[0m\u001b[0;34m\u001b[0m\u001b[0;34m\u001b[0m\u001b[0m\n\u001b[1;32m   2687\u001b[0m         \u001b[0;32melse\u001b[0m\u001b[0;34m:\u001b[0m\u001b[0;34m\u001b[0m\u001b[0;34m\u001b[0m\u001b[0m\n\u001b[0;32m-> 2688\u001b[0;31m             \u001b[0;32mreturn\u001b[0m \u001b[0mself\u001b[0m\u001b[0;34m.\u001b[0m\u001b[0m_getitem_column\u001b[0m\u001b[0;34m(\u001b[0m\u001b[0mkey\u001b[0m\u001b[0;34m)\u001b[0m\u001b[0;34m\u001b[0m\u001b[0;34m\u001b[0m\u001b[0m\n\u001b[0m\u001b[1;32m   2689\u001b[0m \u001b[0;34m\u001b[0m\u001b[0m\n\u001b[1;32m   2690\u001b[0m     \u001b[0;32mdef\u001b[0m \u001b[0m_getitem_column\u001b[0m\u001b[0;34m(\u001b[0m\u001b[0mself\u001b[0m\u001b[0;34m,\u001b[0m \u001b[0mkey\u001b[0m\u001b[0;34m)\u001b[0m\u001b[0;34m:\u001b[0m\u001b[0;34m\u001b[0m\u001b[0;34m\u001b[0m\u001b[0m\n",
            "\u001b[0;32m/opt/conda/envs/fastai/lib/python3.6/site-packages/pandas/core/frame.py\u001b[0m in \u001b[0;36m_getitem_column\u001b[0;34m(self, key)\u001b[0m\n\u001b[1;32m   2693\u001b[0m         \u001b[0;31m# get column\u001b[0m\u001b[0;34m\u001b[0m\u001b[0;34m\u001b[0m\u001b[0;34m\u001b[0m\u001b[0m\n\u001b[1;32m   2694\u001b[0m         \u001b[0;32mif\u001b[0m \u001b[0mself\u001b[0m\u001b[0;34m.\u001b[0m\u001b[0mcolumns\u001b[0m\u001b[0;34m.\u001b[0m\u001b[0mis_unique\u001b[0m\u001b[0;34m:\u001b[0m\u001b[0;34m\u001b[0m\u001b[0;34m\u001b[0m\u001b[0m\n\u001b[0;32m-> 2695\u001b[0;31m             \u001b[0;32mreturn\u001b[0m \u001b[0mself\u001b[0m\u001b[0;34m.\u001b[0m\u001b[0m_get_item_cache\u001b[0m\u001b[0;34m(\u001b[0m\u001b[0mkey\u001b[0m\u001b[0;34m)\u001b[0m\u001b[0;34m\u001b[0m\u001b[0;34m\u001b[0m\u001b[0m\n\u001b[0m\u001b[1;32m   2696\u001b[0m \u001b[0;34m\u001b[0m\u001b[0m\n\u001b[1;32m   2697\u001b[0m         \u001b[0;31m# duplicate columns & possible reduce dimensionality\u001b[0m\u001b[0;34m\u001b[0m\u001b[0;34m\u001b[0m\u001b[0;34m\u001b[0m\u001b[0m\n",
            "\u001b[0;32m/opt/conda/envs/fastai/lib/python3.6/site-packages/pandas/core/generic.py\u001b[0m in \u001b[0;36m_get_item_cache\u001b[0;34m(self, item)\u001b[0m\n\u001b[1;32m   2487\u001b[0m         \u001b[0mres\u001b[0m \u001b[0;34m=\u001b[0m \u001b[0mcache\u001b[0m\u001b[0;34m.\u001b[0m\u001b[0mget\u001b[0m\u001b[0;34m(\u001b[0m\u001b[0mitem\u001b[0m\u001b[0;34m)\u001b[0m\u001b[0;34m\u001b[0m\u001b[0;34m\u001b[0m\u001b[0m\n\u001b[1;32m   2488\u001b[0m         \u001b[0;32mif\u001b[0m \u001b[0mres\u001b[0m \u001b[0;32mis\u001b[0m \u001b[0;32mNone\u001b[0m\u001b[0;34m:\u001b[0m\u001b[0;34m\u001b[0m\u001b[0;34m\u001b[0m\u001b[0m\n\u001b[0;32m-> 2489\u001b[0;31m             \u001b[0mvalues\u001b[0m \u001b[0;34m=\u001b[0m \u001b[0mself\u001b[0m\u001b[0;34m.\u001b[0m\u001b[0m_data\u001b[0m\u001b[0;34m.\u001b[0m\u001b[0mget\u001b[0m\u001b[0;34m(\u001b[0m\u001b[0mitem\u001b[0m\u001b[0;34m)\u001b[0m\u001b[0;34m\u001b[0m\u001b[0;34m\u001b[0m\u001b[0m\n\u001b[0m\u001b[1;32m   2490\u001b[0m             \u001b[0mres\u001b[0m \u001b[0;34m=\u001b[0m \u001b[0mself\u001b[0m\u001b[0;34m.\u001b[0m\u001b[0m_box_item_values\u001b[0m\u001b[0;34m(\u001b[0m\u001b[0mitem\u001b[0m\u001b[0;34m,\u001b[0m \u001b[0mvalues\u001b[0m\u001b[0;34m)\u001b[0m\u001b[0;34m\u001b[0m\u001b[0;34m\u001b[0m\u001b[0m\n\u001b[1;32m   2491\u001b[0m             \u001b[0mcache\u001b[0m\u001b[0;34m[\u001b[0m\u001b[0mitem\u001b[0m\u001b[0;34m]\u001b[0m \u001b[0;34m=\u001b[0m \u001b[0mres\u001b[0m\u001b[0;34m\u001b[0m\u001b[0;34m\u001b[0m\u001b[0m\n",
            "\u001b[0;32m/opt/conda/envs/fastai/lib/python3.6/site-packages/pandas/core/internals.py\u001b[0m in \u001b[0;36mget\u001b[0;34m(self, item, fastpath)\u001b[0m\n\u001b[1;32m   4113\u001b[0m \u001b[0;34m\u001b[0m\u001b[0m\n\u001b[1;32m   4114\u001b[0m             \u001b[0;32mif\u001b[0m \u001b[0;32mnot\u001b[0m \u001b[0misna\u001b[0m\u001b[0;34m(\u001b[0m\u001b[0mitem\u001b[0m\u001b[0;34m)\u001b[0m\u001b[0;34m:\u001b[0m\u001b[0;34m\u001b[0m\u001b[0;34m\u001b[0m\u001b[0m\n\u001b[0;32m-> 4115\u001b[0;31m                 \u001b[0mloc\u001b[0m \u001b[0;34m=\u001b[0m \u001b[0mself\u001b[0m\u001b[0;34m.\u001b[0m\u001b[0mitems\u001b[0m\u001b[0;34m.\u001b[0m\u001b[0mget_loc\u001b[0m\u001b[0;34m(\u001b[0m\u001b[0mitem\u001b[0m\u001b[0;34m)\u001b[0m\u001b[0;34m\u001b[0m\u001b[0;34m\u001b[0m\u001b[0m\n\u001b[0m\u001b[1;32m   4116\u001b[0m             \u001b[0;32melse\u001b[0m\u001b[0;34m:\u001b[0m\u001b[0;34m\u001b[0m\u001b[0;34m\u001b[0m\u001b[0m\n\u001b[1;32m   4117\u001b[0m                 \u001b[0mindexer\u001b[0m \u001b[0;34m=\u001b[0m \u001b[0mnp\u001b[0m\u001b[0;34m.\u001b[0m\u001b[0marange\u001b[0m\u001b[0;34m(\u001b[0m\u001b[0mlen\u001b[0m\u001b[0;34m(\u001b[0m\u001b[0mself\u001b[0m\u001b[0;34m.\u001b[0m\u001b[0mitems\u001b[0m\u001b[0;34m)\u001b[0m\u001b[0;34m)\u001b[0m\u001b[0;34m[\u001b[0m\u001b[0misna\u001b[0m\u001b[0;34m(\u001b[0m\u001b[0mself\u001b[0m\u001b[0;34m.\u001b[0m\u001b[0mitems\u001b[0m\u001b[0;34m)\u001b[0m\u001b[0;34m]\u001b[0m\u001b[0;34m\u001b[0m\u001b[0;34m\u001b[0m\u001b[0m\n",
            "\u001b[0;32m/opt/conda/envs/fastai/lib/python3.6/site-packages/pandas/core/indexes/base.py\u001b[0m in \u001b[0;36mget_loc\u001b[0;34m(self, key, method, tolerance)\u001b[0m\n\u001b[1;32m   3078\u001b[0m                 \u001b[0;32mreturn\u001b[0m \u001b[0mself\u001b[0m\u001b[0;34m.\u001b[0m\u001b[0m_engine\u001b[0m\u001b[0;34m.\u001b[0m\u001b[0mget_loc\u001b[0m\u001b[0;34m(\u001b[0m\u001b[0mkey\u001b[0m\u001b[0;34m)\u001b[0m\u001b[0;34m\u001b[0m\u001b[0;34m\u001b[0m\u001b[0m\n\u001b[1;32m   3079\u001b[0m             \u001b[0;32mexcept\u001b[0m \u001b[0mKeyError\u001b[0m\u001b[0;34m:\u001b[0m\u001b[0;34m\u001b[0m\u001b[0;34m\u001b[0m\u001b[0m\n\u001b[0;32m-> 3080\u001b[0;31m                 \u001b[0;32mreturn\u001b[0m \u001b[0mself\u001b[0m\u001b[0;34m.\u001b[0m\u001b[0m_engine\u001b[0m\u001b[0;34m.\u001b[0m\u001b[0mget_loc\u001b[0m\u001b[0;34m(\u001b[0m\u001b[0mself\u001b[0m\u001b[0;34m.\u001b[0m\u001b[0m_maybe_cast_indexer\u001b[0m\u001b[0;34m(\u001b[0m\u001b[0mkey\u001b[0m\u001b[0;34m)\u001b[0m\u001b[0;34m)\u001b[0m\u001b[0;34m\u001b[0m\u001b[0;34m\u001b[0m\u001b[0m\n\u001b[0m\u001b[1;32m   3081\u001b[0m \u001b[0;34m\u001b[0m\u001b[0m\n\u001b[1;32m   3082\u001b[0m         \u001b[0mindexer\u001b[0m \u001b[0;34m=\u001b[0m \u001b[0mself\u001b[0m\u001b[0;34m.\u001b[0m\u001b[0mget_indexer\u001b[0m\u001b[0;34m(\u001b[0m\u001b[0;34m[\u001b[0m\u001b[0mkey\u001b[0m\u001b[0;34m]\u001b[0m\u001b[0;34m,\u001b[0m \u001b[0mmethod\u001b[0m\u001b[0;34m=\u001b[0m\u001b[0mmethod\u001b[0m\u001b[0;34m,\u001b[0m \u001b[0mtolerance\u001b[0m\u001b[0;34m=\u001b[0m\u001b[0mtolerance\u001b[0m\u001b[0;34m)\u001b[0m\u001b[0;34m\u001b[0m\u001b[0;34m\u001b[0m\u001b[0m\n",
            "\u001b[0;32mpandas/_libs/index.pyx\u001b[0m in \u001b[0;36mpandas._libs.index.IndexEngine.get_loc\u001b[0;34m()\u001b[0m\n",
            "\u001b[0;32mpandas/_libs/index.pyx\u001b[0m in \u001b[0;36mpandas._libs.index.IndexEngine.get_loc\u001b[0;34m()\u001b[0m\n",
            "\u001b[0;32mpandas/_libs/hashtable_class_helper.pxi\u001b[0m in \u001b[0;36mpandas._libs.hashtable.PyObjectHashTable.get_item\u001b[0;34m()\u001b[0m\n",
            "\u001b[0;32mpandas/_libs/hashtable_class_helper.pxi\u001b[0m in \u001b[0;36mpandas._libs.hashtable.PyObjectHashTable.get_item\u001b[0;34m()\u001b[0m\n",
            "\u001b[0;31mKeyError\u001b[0m: 'sin_day_na'"
          ]
        }
      ]
    },
    {
      "cell_type": "code",
      "metadata": {
        "id": "uBR5ilCQjE73",
        "colab_type": "code",
        "colab": {}
      },
      "source": [
        "weights=[0.3,0.7]\n",
        "class_weights=torch.cuda.FloatTensor(weights)\n"
      ],
      "execution_count": 0,
      "outputs": []
    },
    {
      "cell_type": "code",
      "metadata": {
        "id": "gmC2I6jEjE76",
        "colab_type": "code",
        "colab": {}
      },
      "source": [
        "n_split = 5\n",
        "skf = StratifiedKFold(n_splits = n_split, shuffle = True, random_state= 17)\n",
        "dict_layers={'300-300': [300,300],'350-100':[350,100],'500-500':[500,500], '1000-500':[1000,500], '2000-1000':[2000,1000]}\n",
        "dict_wd= {'wd=0.001':0.001,'wd=0.01':0.01,'wd=0.1':0.1,'wd=0.2':0.2,'wd=0.3':0.3}\n"
      ],
      "execution_count": 0,
      "outputs": []
    },
    {
      "cell_type": "code",
      "metadata": {
        "id": "V8OxekvgjE78",
        "colab_type": "code",
        "outputId": "04053492-c48e-4fb8-f9c6-fab60f4f6f98",
        "colab": {}
      },
      "source": [
        "ev = pd.DataFrame()\n",
        "evaluation = np.zeros([len(dict_layers),n_split])\n",
        "best = 0\n",
        "i = 0\n",
        "for layers in dict_layers:\n",
        "    j = 0\n",
        "    best = 0\n",
        "    for id_tr, id_v in skf.split(X_train.drop(labels='target', axis=1), X_train['target'] ):\n",
        "        print(f'Evaluating model :{layers}iteration: {str(j)} of {str(n_split)}')\n",
        "        data = (TabularList.from_df(X_train, path=path, cat_names= cat_names, cont_names=cont_names, procs=procs)\n",
        "            .split_by_idxs(id_tr, id_v) #_idx(list(range(595000,600000)))#\n",
        "            .label_from_df(cols=dep_var)\n",
        "            .add_test(TabularList.from_df(X_test,cat_names= cat_names,path=path,procs=procs))\n",
        "           .databunch(bs=2048))\n",
        "        learn2 = (tabular_learner(data, layers=dict_layers[layers],\n",
        "                          emb_szs=dict_emb, metrics=[AUROC(),accuracy],ps=[0.001,0.01], emb_drop=0.04,\n",
        "         callback_fns=[partial(ReduceLROnPlateauCallback, monitor='auroc', min_delta=0.01, patience=1, min_lr=1e-06, factor=0.10, mode='max'),\n",
        "                       partial(EarlyStoppingCallback, monitor='auroc', min_delta=0.001, patience=2, mode='max')\n",
        "                      ]))\n",
        "        learn2.loss_func =nn.CrossEntropyLoss(weight=class_weights)\n",
        "        learn2.fit_one_cycle(10,1e-2,wd = 0.2,\n",
        "                     callbacks=[SaveModelCallback(learn2, every='improvement', monitor='auroc', name=layers)])\n",
        "        evaluation[i,j] = np.max(np.array(learn2.recorder.metrics)[:,0])\n",
        "        print(evaluation)\n",
        "        j += 1\n",
        "    i += 1\n",
        "        "
      ],
      "execution_count": 0,
      "outputs": [
        {
          "output_type": "stream",
          "text": [
            "Evaluating model :300-300iteration: 0 of 5\n"
          ],
          "name": "stdout"
        },
        {
          "output_type": "display_data",
          "data": {
            "text/html": [
              "\n",
              "    <div>\n",
              "        <style>\n",
              "            /* Turns off some styling */\n",
              "            progress {\n",
              "                /* gets rid of default border in Firefox and Opera. */\n",
              "                border: none;\n",
              "                /* Needs to be in here for Safari polyfill so background images work as expected. */\n",
              "                background-size: auto;\n",
              "            }\n",
              "            .progress-bar-interrupted, .progress-bar-interrupted::-webkit-progress-bar {\n",
              "                background: #F44336;\n",
              "            }\n",
              "        </style>\n",
              "      <progress value='5' class='' max='10', style='width:300px; height:20px; vertical-align: middle;'></progress>\n",
              "      50.00% [5/10 00:54<00:54]\n",
              "    </div>\n",
              "    \n",
              "<table border=\"1\" class=\"dataframe\">\n",
              "  <thead>\n",
              "    <tr style=\"text-align: left;\">\n",
              "      <th>epoch</th>\n",
              "      <th>train_loss</th>\n",
              "      <th>valid_loss</th>\n",
              "      <th>auroc</th>\n",
              "      <th>accuracy</th>\n",
              "      <th>time</th>\n",
              "    </tr>\n",
              "  </thead>\n",
              "  <tbody>\n",
              "    <tr>\n",
              "      <td>0</td>\n",
              "      <td>0.544383</td>\n",
              "      <td>0.536612</td>\n",
              "      <td>0.770953</td>\n",
              "      <td>0.774458</td>\n",
              "      <td>00:10</td>\n",
              "    </tr>\n",
              "    <tr>\n",
              "      <td>1</td>\n",
              "      <td>0.540535</td>\n",
              "      <td>0.538490</td>\n",
              "      <td>0.772556</td>\n",
              "      <td>0.763325</td>\n",
              "      <td>00:10</td>\n",
              "    </tr>\n",
              "    <tr>\n",
              "      <td>2</td>\n",
              "      <td>0.537587</td>\n",
              "      <td>0.538031</td>\n",
              "      <td>0.774150</td>\n",
              "      <td>0.762675</td>\n",
              "      <td>00:11</td>\n",
              "    </tr>\n",
              "    <tr>\n",
              "      <td>3</td>\n",
              "      <td>0.533341</td>\n",
              "      <td>0.532983</td>\n",
              "      <td>0.774905</td>\n",
              "      <td>0.787667</td>\n",
              "      <td>00:10</td>\n",
              "    </tr>\n",
              "    <tr>\n",
              "      <td>4</td>\n",
              "      <td>0.529074</td>\n",
              "      <td>0.532685</td>\n",
              "      <td>0.774869</td>\n",
              "      <td>0.782733</td>\n",
              "      <td>00:11</td>\n",
              "    </tr>\n",
              "  </tbody>\n",
              "</table><p>\n",
              "\n",
              "    <div>\n",
              "        <style>\n",
              "            /* Turns off some styling */\n",
              "            progress {\n",
              "                /* gets rid of default border in Firefox and Opera. */\n",
              "                border: none;\n",
              "                /* Needs to be in here for Safari polyfill so background images work as expected. */\n",
              "                background-size: auto;\n",
              "            }\n",
              "            .progress-bar-interrupted, .progress-bar-interrupted::-webkit-progress-bar {\n",
              "                background: #F44336;\n",
              "            }\n",
              "        </style>\n",
              "      <progress value='59' class='' max='59', style='width:300px; height:20px; vertical-align: middle;'></progress>\n",
              "      100.00% [59/59 00:02<00:00]\n",
              "    </div>\n",
              "    "
            ],
            "text/plain": [
              "<IPython.core.display.HTML object>"
            ]
          },
          "metadata": {
            "tags": []
          }
        },
        {
          "output_type": "stream",
          "text": [
            "Better model found at epoch 0 with auroc value: 0.7709530591964722.\n",
            "Better model found at epoch 1 with auroc value: 0.7725557684898376.\n",
            "Epoch 2: reducing lr to 0.001\n",
            "Better model found at epoch 2 with auroc value: 0.7741498947143555.\n",
            "Better model found at epoch 3 with auroc value: 0.7749052047729492.\n",
            "Epoch 4: reducing lr to 0.0008117456539497632\n",
            "Epoch 5: early stopping\n",
            "[[0.774905 0.       0.       0.       0.      ]\n",
            " [0.       0.       0.       0.       0.      ]\n",
            " [0.       0.       0.       0.       0.      ]\n",
            " [0.       0.       0.       0.       0.      ]\n",
            " [0.       0.       0.       0.       0.      ]]\n",
            "Evaluating model :300-300iteration: 1 of 5\n"
          ],
          "name": "stdout"
        },
        {
          "output_type": "display_data",
          "data": {
            "text/html": [
              "\n",
              "    <div>\n",
              "        <style>\n",
              "            /* Turns off some styling */\n",
              "            progress {\n",
              "                /* gets rid of default border in Firefox and Opera. */\n",
              "                border: none;\n",
              "                /* Needs to be in here for Safari polyfill so background images work as expected. */\n",
              "                background-size: auto;\n",
              "            }\n",
              "            .progress-bar-interrupted, .progress-bar-interrupted::-webkit-progress-bar {\n",
              "                background: #F44336;\n",
              "            }\n",
              "        </style>\n",
              "      <progress value='7' class='' max='10', style='width:300px; height:20px; vertical-align: middle;'></progress>\n",
              "      70.00% [7/10 01:13<00:31]\n",
              "    </div>\n",
              "    \n",
              "<table border=\"1\" class=\"dataframe\">\n",
              "  <thead>\n",
              "    <tr style=\"text-align: left;\">\n",
              "      <th>epoch</th>\n",
              "      <th>train_loss</th>\n",
              "      <th>valid_loss</th>\n",
              "      <th>auroc</th>\n",
              "      <th>accuracy</th>\n",
              "      <th>time</th>\n",
              "    </tr>\n",
              "  </thead>\n",
              "  <tbody>\n",
              "    <tr>\n",
              "      <td>0</td>\n",
              "      <td>0.539437</td>\n",
              "      <td>0.538433</td>\n",
              "      <td>0.769711</td>\n",
              "      <td>0.772250</td>\n",
              "      <td>00:10</td>\n",
              "    </tr>\n",
              "    <tr>\n",
              "      <td>1</td>\n",
              "      <td>0.536849</td>\n",
              "      <td>0.537733</td>\n",
              "      <td>0.770660</td>\n",
              "      <td>0.773850</td>\n",
              "      <td>00:10</td>\n",
              "    </tr>\n",
              "    <tr>\n",
              "      <td>2</td>\n",
              "      <td>0.535261</td>\n",
              "      <td>0.532434</td>\n",
              "      <td>0.775242</td>\n",
              "      <td>0.788175</td>\n",
              "      <td>00:10</td>\n",
              "    </tr>\n",
              "    <tr>\n",
              "      <td>3</td>\n",
              "      <td>0.528938</td>\n",
              "      <td>0.536048</td>\n",
              "      <td>0.777065</td>\n",
              "      <td>0.809533</td>\n",
              "      <td>00:10</td>\n",
              "    </tr>\n",
              "    <tr>\n",
              "      <td>4</td>\n",
              "      <td>0.525954</td>\n",
              "      <td>0.534176</td>\n",
              "      <td>0.778240</td>\n",
              "      <td>0.808458</td>\n",
              "      <td>00:10</td>\n",
              "    </tr>\n",
              "    <tr>\n",
              "      <td>5</td>\n",
              "      <td>0.516075</td>\n",
              "      <td>0.536013</td>\n",
              "      <td>0.773780</td>\n",
              "      <td>0.799000</td>\n",
              "      <td>00:10</td>\n",
              "    </tr>\n",
              "    <tr>\n",
              "      <td>6</td>\n",
              "      <td>0.501347</td>\n",
              "      <td>0.541925</td>\n",
              "      <td>0.768247</td>\n",
              "      <td>0.771600</td>\n",
              "      <td>00:10</td>\n",
              "    </tr>\n",
              "  </tbody>\n",
              "</table><p>\n",
              "\n",
              "    <div>\n",
              "        <style>\n",
              "            /* Turns off some styling */\n",
              "            progress {\n",
              "                /* gets rid of default border in Firefox and Opera. */\n",
              "                border: none;\n",
              "                /* Needs to be in here for Safari polyfill so background images work as expected. */\n",
              "                background-size: auto;\n",
              "            }\n",
              "            .progress-bar-interrupted, .progress-bar-interrupted::-webkit-progress-bar {\n",
              "                background: #F44336;\n",
              "            }\n",
              "        </style>\n",
              "      <progress value='59' class='' max='59', style='width:300px; height:20px; vertical-align: middle;'></progress>\n",
              "      100.00% [59/59 00:01<00:00]\n",
              "    </div>\n",
              "    "
            ],
            "text/plain": [
              "<IPython.core.display.HTML object>"
            ]
          },
          "metadata": {
            "tags": []
          }
        },
        {
          "output_type": "stream",
          "text": [
            "Better model found at epoch 0 with auroc value: 0.7697113752365112.\n",
            "Better model found at epoch 1 with auroc value: 0.770660400390625.\n",
            "Epoch 2: reducing lr to 0.001\n",
            "Better model found at epoch 2 with auroc value: 0.7752423286437988.\n",
            "Better model found at epoch 3 with auroc value: 0.7770646214485168.\n",
            "Epoch 4: reducing lr to 0.0008117456539497632\n",
            "Better model found at epoch 4 with auroc value: 0.7782396078109741.\n",
            "Epoch 6: reducing lr to 0.0003887419780637108\n",
            "Epoch 7: early stopping\n",
            "[[0.774905 0.77824  0.       0.       0.      ]\n",
            " [0.       0.       0.       0.       0.      ]\n",
            " [0.       0.       0.       0.       0.      ]\n",
            " [0.       0.       0.       0.       0.      ]\n",
            " [0.       0.       0.       0.       0.      ]]\n",
            "Evaluating model :300-300iteration: 2 of 5\n"
          ],
          "name": "stdout"
        },
        {
          "output_type": "display_data",
          "data": {
            "text/html": [
              "\n",
              "    <div>\n",
              "        <style>\n",
              "            /* Turns off some styling */\n",
              "            progress {\n",
              "                /* gets rid of default border in Firefox and Opera. */\n",
              "                border: none;\n",
              "                /* Needs to be in here for Safari polyfill so background images work as expected. */\n",
              "                background-size: auto;\n",
              "            }\n",
              "            .progress-bar-interrupted, .progress-bar-interrupted::-webkit-progress-bar {\n",
              "                background: #F44336;\n",
              "            }\n",
              "        </style>\n",
              "      <progress value='5' class='' max='10', style='width:300px; height:20px; vertical-align: middle;'></progress>\n",
              "      50.00% [5/10 00:52<00:52]\n",
              "    </div>\n",
              "    \n",
              "<table border=\"1\" class=\"dataframe\">\n",
              "  <thead>\n",
              "    <tr style=\"text-align: left;\">\n",
              "      <th>epoch</th>\n",
              "      <th>train_loss</th>\n",
              "      <th>valid_loss</th>\n",
              "      <th>auroc</th>\n",
              "      <th>accuracy</th>\n",
              "      <th>time</th>\n",
              "    </tr>\n",
              "  </thead>\n",
              "  <tbody>\n",
              "    <tr>\n",
              "      <td>0</td>\n",
              "      <td>0.542521</td>\n",
              "      <td>0.539680</td>\n",
              "      <td>0.768290</td>\n",
              "      <td>0.768383</td>\n",
              "      <td>00:10</td>\n",
              "    </tr>\n",
              "    <tr>\n",
              "      <td>1</td>\n",
              "      <td>0.536954</td>\n",
              "      <td>0.539367</td>\n",
              "      <td>0.768146</td>\n",
              "      <td>0.776983</td>\n",
              "      <td>00:10</td>\n",
              "    </tr>\n",
              "    <tr>\n",
              "      <td>2</td>\n",
              "      <td>0.535540</td>\n",
              "      <td>0.536574</td>\n",
              "      <td>0.770678</td>\n",
              "      <td>0.782808</td>\n",
              "      <td>00:10</td>\n",
              "    </tr>\n",
              "    <tr>\n",
              "      <td>3</td>\n",
              "      <td>0.529845</td>\n",
              "      <td>0.539574</td>\n",
              "      <td>0.771278</td>\n",
              "      <td>0.758258</td>\n",
              "      <td>00:10</td>\n",
              "    </tr>\n",
              "    <tr>\n",
              "      <td>4</td>\n",
              "      <td>0.526380</td>\n",
              "      <td>0.543729</td>\n",
              "      <td>0.770758</td>\n",
              "      <td>0.802525</td>\n",
              "      <td>00:10</td>\n",
              "    </tr>\n",
              "  </tbody>\n",
              "</table><p>\n",
              "\n",
              "    <div>\n",
              "        <style>\n",
              "            /* Turns off some styling */\n",
              "            progress {\n",
              "                /* gets rid of default border in Firefox and Opera. */\n",
              "                border: none;\n",
              "                /* Needs to be in here for Safari polyfill so background images work as expected. */\n",
              "                background-size: auto;\n",
              "            }\n",
              "            .progress-bar-interrupted, .progress-bar-interrupted::-webkit-progress-bar {\n",
              "                background: #F44336;\n",
              "            }\n",
              "        </style>\n",
              "      <progress value='59' class='' max='59', style='width:300px; height:20px; vertical-align: middle;'></progress>\n",
              "      100.00% [59/59 00:01<00:00]\n",
              "    </div>\n",
              "    "
            ],
            "text/plain": [
              "<IPython.core.display.HTML object>"
            ]
          },
          "metadata": {
            "tags": []
          }
        },
        {
          "output_type": "stream",
          "text": [
            "Better model found at epoch 0 with auroc value: 0.7682900428771973.\n",
            "Epoch 2: reducing lr to 0.001\n",
            "Better model found at epoch 2 with auroc value: 0.7706775069236755.\n",
            "Better model found at epoch 3 with auroc value: 0.7712779641151428.\n",
            "Epoch 4: reducing lr to 0.0008117456539497632\n",
            "Epoch 5: early stopping\n",
            "[[0.774905 0.77824  0.771278 0.       0.      ]\n",
            " [0.       0.       0.       0.       0.      ]\n",
            " [0.       0.       0.       0.       0.      ]\n",
            " [0.       0.       0.       0.       0.      ]\n",
            " [0.       0.       0.       0.       0.      ]]\n",
            "Evaluating model :300-300iteration: 3 of 5\n"
          ],
          "name": "stdout"
        },
        {
          "output_type": "display_data",
          "data": {
            "text/html": [
              "\n",
              "    <div>\n",
              "        <style>\n",
              "            /* Turns off some styling */\n",
              "            progress {\n",
              "                /* gets rid of default border in Firefox and Opera. */\n",
              "                border: none;\n",
              "                /* Needs to be in here for Safari polyfill so background images work as expected. */\n",
              "                background-size: auto;\n",
              "            }\n",
              "            .progress-bar-interrupted, .progress-bar-interrupted::-webkit-progress-bar {\n",
              "                background: #F44336;\n",
              "            }\n",
              "        </style>\n",
              "      <progress value='7' class='' max='10', style='width:300px; height:20px; vertical-align: middle;'></progress>\n",
              "      70.00% [7/10 01:13<00:31]\n",
              "    </div>\n",
              "    \n",
              "<table border=\"1\" class=\"dataframe\">\n",
              "  <thead>\n",
              "    <tr style=\"text-align: left;\">\n",
              "      <th>epoch</th>\n",
              "      <th>train_loss</th>\n",
              "      <th>valid_loss</th>\n",
              "      <th>auroc</th>\n",
              "      <th>accuracy</th>\n",
              "      <th>time</th>\n",
              "    </tr>\n",
              "  </thead>\n",
              "  <tbody>\n",
              "    <tr>\n",
              "      <td>0</td>\n",
              "      <td>0.542500</td>\n",
              "      <td>0.535490</td>\n",
              "      <td>0.772202</td>\n",
              "      <td>0.779033</td>\n",
              "      <td>00:10</td>\n",
              "    </tr>\n",
              "    <tr>\n",
              "      <td>1</td>\n",
              "      <td>0.538315</td>\n",
              "      <td>0.538177</td>\n",
              "      <td>0.770400</td>\n",
              "      <td>0.788025</td>\n",
              "      <td>00:10</td>\n",
              "    </tr>\n",
              "    <tr>\n",
              "      <td>2</td>\n",
              "      <td>0.533519</td>\n",
              "      <td>0.535823</td>\n",
              "      <td>0.774226</td>\n",
              "      <td>0.762375</td>\n",
              "      <td>00:10</td>\n",
              "    </tr>\n",
              "    <tr>\n",
              "      <td>3</td>\n",
              "      <td>0.529705</td>\n",
              "      <td>0.533573</td>\n",
              "      <td>0.775613</td>\n",
              "      <td>0.774117</td>\n",
              "      <td>00:10</td>\n",
              "    </tr>\n",
              "    <tr>\n",
              "      <td>4</td>\n",
              "      <td>0.524973</td>\n",
              "      <td>0.532301</td>\n",
              "      <td>0.777162</td>\n",
              "      <td>0.774658</td>\n",
              "      <td>00:10</td>\n",
              "    </tr>\n",
              "    <tr>\n",
              "      <td>5</td>\n",
              "      <td>0.516280</td>\n",
              "      <td>0.534617</td>\n",
              "      <td>0.774279</td>\n",
              "      <td>0.783992</td>\n",
              "      <td>00:10</td>\n",
              "    </tr>\n",
              "    <tr>\n",
              "      <td>6</td>\n",
              "      <td>0.501241</td>\n",
              "      <td>0.542092</td>\n",
              "      <td>0.768013</td>\n",
              "      <td>0.771533</td>\n",
              "      <td>00:10</td>\n",
              "    </tr>\n",
              "  </tbody>\n",
              "</table><p>\n",
              "\n",
              "    <div>\n",
              "        <style>\n",
              "            /* Turns off some styling */\n",
              "            progress {\n",
              "                /* gets rid of default border in Firefox and Opera. */\n",
              "                border: none;\n",
              "                /* Needs to be in here for Safari polyfill so background images work as expected. */\n",
              "                background-size: auto;\n",
              "            }\n",
              "            .progress-bar-interrupted, .progress-bar-interrupted::-webkit-progress-bar {\n",
              "                background: #F44336;\n",
              "            }\n",
              "        </style>\n",
              "      <progress value='59' class='' max='59', style='width:300px; height:20px; vertical-align: middle;'></progress>\n",
              "      100.00% [59/59 00:01<00:00]\n",
              "    </div>\n",
              "    "
            ],
            "text/plain": [
              "<IPython.core.display.HTML object>"
            ]
          },
          "metadata": {
            "tags": []
          }
        },
        {
          "output_type": "stream",
          "text": [
            "Better model found at epoch 0 with auroc value: 0.7722015380859375.\n",
            "Epoch 2: reducing lr to 0.001\n",
            "Better model found at epoch 2 with auroc value: 0.7742260098457336.\n",
            "Better model found at epoch 3 with auroc value: 0.7756134271621704.\n",
            "Epoch 4: reducing lr to 0.0008117456539497632\n",
            "Better model found at epoch 4 with auroc value: 0.7771623134613037.\n",
            "Epoch 6: reducing lr to 0.0003887419780637108\n",
            "Epoch 7: early stopping\n",
            "[[0.774905 0.77824  0.771278 0.777162 0.      ]\n",
            " [0.       0.       0.       0.       0.      ]\n",
            " [0.       0.       0.       0.       0.      ]\n",
            " [0.       0.       0.       0.       0.      ]\n",
            " [0.       0.       0.       0.       0.      ]]\n",
            "Evaluating model :300-300iteration: 4 of 5\n"
          ],
          "name": "stdout"
        },
        {
          "output_type": "display_data",
          "data": {
            "text/html": [
              "\n",
              "    <div>\n",
              "        <style>\n",
              "            /* Turns off some styling */\n",
              "            progress {\n",
              "                /* gets rid of default border in Firefox and Opera. */\n",
              "                border: none;\n",
              "                /* Needs to be in here for Safari polyfill so background images work as expected. */\n",
              "                background-size: auto;\n",
              "            }\n",
              "            .progress-bar-interrupted, .progress-bar-interrupted::-webkit-progress-bar {\n",
              "                background: #F44336;\n",
              "            }\n",
              "        </style>\n",
              "      <progress value='6' class='' max='10', style='width:300px; height:20px; vertical-align: middle;'></progress>\n",
              "      60.00% [6/10 01:04<00:42]\n",
              "    </div>\n",
              "    \n",
              "<table border=\"1\" class=\"dataframe\">\n",
              "  <thead>\n",
              "    <tr style=\"text-align: left;\">\n",
              "      <th>epoch</th>\n",
              "      <th>train_loss</th>\n",
              "      <th>valid_loss</th>\n",
              "      <th>auroc</th>\n",
              "      <th>accuracy</th>\n",
              "      <th>time</th>\n",
              "    </tr>\n",
              "  </thead>\n",
              "  <tbody>\n",
              "    <tr>\n",
              "      <td>0</td>\n",
              "      <td>0.540249</td>\n",
              "      <td>0.540163</td>\n",
              "      <td>0.767967</td>\n",
              "      <td>0.788383</td>\n",
              "      <td>00:10</td>\n",
              "    </tr>\n",
              "    <tr>\n",
              "      <td>1</td>\n",
              "      <td>0.539014</td>\n",
              "      <td>0.538644</td>\n",
              "      <td>0.769135</td>\n",
              "      <td>0.774767</td>\n",
              "      <td>00:10</td>\n",
              "    </tr>\n",
              "    <tr>\n",
              "      <td>2</td>\n",
              "      <td>0.533403</td>\n",
              "      <td>0.538498</td>\n",
              "      <td>0.771279</td>\n",
              "      <td>0.766958</td>\n",
              "      <td>00:10</td>\n",
              "    </tr>\n",
              "    <tr>\n",
              "      <td>3</td>\n",
              "      <td>0.530649</td>\n",
              "      <td>0.536315</td>\n",
              "      <td>0.772802</td>\n",
              "      <td>0.790267</td>\n",
              "      <td>00:10</td>\n",
              "    </tr>\n",
              "    <tr>\n",
              "      <td>4</td>\n",
              "      <td>0.525025</td>\n",
              "      <td>0.537226</td>\n",
              "      <td>0.773372</td>\n",
              "      <td>0.772175</td>\n",
              "      <td>00:10</td>\n",
              "    </tr>\n",
              "    <tr>\n",
              "      <td>5</td>\n",
              "      <td>0.516119</td>\n",
              "      <td>0.539180</td>\n",
              "      <td>0.772760</td>\n",
              "      <td>0.795258</td>\n",
              "      <td>00:10</td>\n",
              "    </tr>\n",
              "  </tbody>\n",
              "</table><p>\n",
              "\n",
              "    <div>\n",
              "        <style>\n",
              "            /* Turns off some styling */\n",
              "            progress {\n",
              "                /* gets rid of default border in Firefox and Opera. */\n",
              "                border: none;\n",
              "                /* Needs to be in here for Safari polyfill so background images work as expected. */\n",
              "                background-size: auto;\n",
              "            }\n",
              "            .progress-bar-interrupted, .progress-bar-interrupted::-webkit-progress-bar {\n",
              "                background: #F44336;\n",
              "            }\n",
              "        </style>\n",
              "      <progress value='59' class='' max='59', style='width:300px; height:20px; vertical-align: middle;'></progress>\n",
              "      100.00% [59/59 00:01<00:00]\n",
              "    </div>\n",
              "    "
            ],
            "text/plain": [
              "<IPython.core.display.HTML object>"
            ]
          },
          "metadata": {
            "tags": []
          }
        },
        {
          "output_type": "stream",
          "text": [
            "Better model found at epoch 0 with auroc value: 0.7679673433303833.\n",
            "Better model found at epoch 1 with auroc value: 0.7691349983215332.\n",
            "Epoch 2: reducing lr to 0.001\n",
            "Better model found at epoch 2 with auroc value: 0.7712785005569458.\n",
            "Better model found at epoch 3 with auroc value: 0.7728021740913391.\n",
            "Epoch 4: reducing lr to 0.0008117456539497632\n",
            "Better model found at epoch 4 with auroc value: 0.77337247133255.\n",
            "Epoch 6: reducing lr to 0.0003887419780637108\n",
            "Epoch 6: early stopping\n",
            "[[0.774905 0.77824  0.771278 0.777162 0.773372]\n",
            " [0.       0.       0.       0.       0.      ]\n",
            " [0.       0.       0.       0.       0.      ]\n",
            " [0.       0.       0.       0.       0.      ]\n",
            " [0.       0.       0.       0.       0.      ]]\n",
            "Evaluating model :350-100iteration: 0 of 5\n"
          ],
          "name": "stdout"
        },
        {
          "output_type": "display_data",
          "data": {
            "text/html": [
              "\n",
              "    <div>\n",
              "        <style>\n",
              "            /* Turns off some styling */\n",
              "            progress {\n",
              "                /* gets rid of default border in Firefox and Opera. */\n",
              "                border: none;\n",
              "                /* Needs to be in here for Safari polyfill so background images work as expected. */\n",
              "                background-size: auto;\n",
              "            }\n",
              "            .progress-bar-interrupted, .progress-bar-interrupted::-webkit-progress-bar {\n",
              "                background: #F44336;\n",
              "            }\n",
              "        </style>\n",
              "      <progress value='6' class='' max='10', style='width:300px; height:20px; vertical-align: middle;'></progress>\n",
              "      60.00% [6/10 01:03<00:42]\n",
              "    </div>\n",
              "    \n",
              "<table border=\"1\" class=\"dataframe\">\n",
              "  <thead>\n",
              "    <tr style=\"text-align: left;\">\n",
              "      <th>epoch</th>\n",
              "      <th>train_loss</th>\n",
              "      <th>valid_loss</th>\n",
              "      <th>auroc</th>\n",
              "      <th>accuracy</th>\n",
              "      <th>time</th>\n",
              "    </tr>\n",
              "  </thead>\n",
              "  <tbody>\n",
              "    <tr>\n",
              "      <td>0</td>\n",
              "      <td>0.541936</td>\n",
              "      <td>0.535509</td>\n",
              "      <td>0.773420</td>\n",
              "      <td>0.779183</td>\n",
              "      <td>00:10</td>\n",
              "    </tr>\n",
              "    <tr>\n",
              "      <td>1</td>\n",
              "      <td>0.537044</td>\n",
              "      <td>0.532610</td>\n",
              "      <td>0.775406</td>\n",
              "      <td>0.791767</td>\n",
              "      <td>00:10</td>\n",
              "    </tr>\n",
              "    <tr>\n",
              "      <td>2</td>\n",
              "      <td>0.533511</td>\n",
              "      <td>0.535972</td>\n",
              "      <td>0.771805</td>\n",
              "      <td>0.784808</td>\n",
              "      <td>00:10</td>\n",
              "    </tr>\n",
              "    <tr>\n",
              "      <td>3</td>\n",
              "      <td>0.531392</td>\n",
              "      <td>0.531046</td>\n",
              "      <td>0.777691</td>\n",
              "      <td>0.788808</td>\n",
              "      <td>00:10</td>\n",
              "    </tr>\n",
              "    <tr>\n",
              "      <td>4</td>\n",
              "      <td>0.526627</td>\n",
              "      <td>0.532737</td>\n",
              "      <td>0.776472</td>\n",
              "      <td>0.797933</td>\n",
              "      <td>00:10</td>\n",
              "    </tr>\n",
              "    <tr>\n",
              "      <td>5</td>\n",
              "      <td>0.518453</td>\n",
              "      <td>0.532902</td>\n",
              "      <td>0.775827</td>\n",
              "      <td>0.794242</td>\n",
              "      <td>00:10</td>\n",
              "    </tr>\n",
              "  </tbody>\n",
              "</table><p>\n",
              "\n",
              "    <div>\n",
              "        <style>\n",
              "            /* Turns off some styling */\n",
              "            progress {\n",
              "                /* gets rid of default border in Firefox and Opera. */\n",
              "                border: none;\n",
              "                /* Needs to be in here for Safari polyfill so background images work as expected. */\n",
              "                background-size: auto;\n",
              "            }\n",
              "            .progress-bar-interrupted, .progress-bar-interrupted::-webkit-progress-bar {\n",
              "                background: #F44336;\n",
              "            }\n",
              "        </style>\n",
              "      <progress value='59' class='' max='59', style='width:300px; height:20px; vertical-align: middle;'></progress>\n",
              "      100.00% [59/59 00:01<00:00]\n",
              "    </div>\n",
              "    "
            ],
            "text/plain": [
              "<IPython.core.display.HTML object>"
            ]
          },
          "metadata": {
            "tags": []
          }
        },
        {
          "output_type": "stream",
          "text": [
            "Better model found at epoch 0 with auroc value: 0.7734200954437256.\n",
            "Better model found at epoch 1 with auroc value: 0.7754058241844177.\n",
            "Epoch 2: reducing lr to 0.001\n",
            "Better model found at epoch 3 with auroc value: 0.7776914834976196.\n",
            "Epoch 4: reducing lr to 0.0008117456539497632\n",
            "Epoch 6: reducing lr to 0.0003887419780637108\n",
            "Epoch 6: early stopping\n",
            "[[0.774905 0.77824  0.771278 0.777162 0.773372]\n",
            " [0.777691 0.       0.       0.       0.      ]\n",
            " [0.       0.       0.       0.       0.      ]\n",
            " [0.       0.       0.       0.       0.      ]\n",
            " [0.       0.       0.       0.       0.      ]]\n",
            "Evaluating model :350-100iteration: 1 of 5\n"
          ],
          "name": "stdout"
        },
        {
          "output_type": "display_data",
          "data": {
            "text/html": [
              "\n",
              "    <div>\n",
              "        <style>\n",
              "            /* Turns off some styling */\n",
              "            progress {\n",
              "                /* gets rid of default border in Firefox and Opera. */\n",
              "                border: none;\n",
              "                /* Needs to be in here for Safari polyfill so background images work as expected. */\n",
              "                background-size: auto;\n",
              "            }\n",
              "            .progress-bar-interrupted, .progress-bar-interrupted::-webkit-progress-bar {\n",
              "                background: #F44336;\n",
              "            }\n",
              "        </style>\n",
              "      <progress value='6' class='' max='10', style='width:300px; height:20px; vertical-align: middle;'></progress>\n",
              "      60.00% [6/10 01:03<00:42]\n",
              "    </div>\n",
              "    \n",
              "<table border=\"1\" class=\"dataframe\">\n",
              "  <thead>\n",
              "    <tr style=\"text-align: left;\">\n",
              "      <th>epoch</th>\n",
              "      <th>train_loss</th>\n",
              "      <th>valid_loss</th>\n",
              "      <th>auroc</th>\n",
              "      <th>accuracy</th>\n",
              "      <th>time</th>\n",
              "    </tr>\n",
              "  </thead>\n",
              "  <tbody>\n",
              "    <tr>\n",
              "      <td>0</td>\n",
              "      <td>0.542600</td>\n",
              "      <td>0.539829</td>\n",
              "      <td>0.769601</td>\n",
              "      <td>0.763033</td>\n",
              "      <td>00:10</td>\n",
              "    </tr>\n",
              "    <tr>\n",
              "      <td>1</td>\n",
              "      <td>0.538760</td>\n",
              "      <td>0.535741</td>\n",
              "      <td>0.773936</td>\n",
              "      <td>0.767092</td>\n",
              "      <td>00:10</td>\n",
              "    </tr>\n",
              "    <tr>\n",
              "      <td>2</td>\n",
              "      <td>0.534865</td>\n",
              "      <td>0.536745</td>\n",
              "      <td>0.773493</td>\n",
              "      <td>0.760517</td>\n",
              "      <td>00:10</td>\n",
              "    </tr>\n",
              "    <tr>\n",
              "      <td>3</td>\n",
              "      <td>0.529655</td>\n",
              "      <td>0.533709</td>\n",
              "      <td>0.777677</td>\n",
              "      <td>0.804733</td>\n",
              "      <td>00:10</td>\n",
              "    </tr>\n",
              "    <tr>\n",
              "      <td>4</td>\n",
              "      <td>0.525520</td>\n",
              "      <td>0.530383</td>\n",
              "      <td>0.777909</td>\n",
              "      <td>0.780458</td>\n",
              "      <td>00:10</td>\n",
              "    </tr>\n",
              "    <tr>\n",
              "      <td>5</td>\n",
              "      <td>0.515650</td>\n",
              "      <td>0.533605</td>\n",
              "      <td>0.774812</td>\n",
              "      <td>0.788433</td>\n",
              "      <td>00:10</td>\n",
              "    </tr>\n",
              "  </tbody>\n",
              "</table><p>\n",
              "\n",
              "    <div>\n",
              "        <style>\n",
              "            /* Turns off some styling */\n",
              "            progress {\n",
              "                /* gets rid of default border in Firefox and Opera. */\n",
              "                border: none;\n",
              "                /* Needs to be in here for Safari polyfill so background images work as expected. */\n",
              "                background-size: auto;\n",
              "            }\n",
              "            .progress-bar-interrupted, .progress-bar-interrupted::-webkit-progress-bar {\n",
              "                background: #F44336;\n",
              "            }\n",
              "        </style>\n",
              "      <progress value='59' class='' max='59', style='width:300px; height:20px; vertical-align: middle;'></progress>\n",
              "      100.00% [59/59 00:01<00:00]\n",
              "    </div>\n",
              "    "
            ],
            "text/plain": [
              "<IPython.core.display.HTML object>"
            ]
          },
          "metadata": {
            "tags": []
          }
        },
        {
          "output_type": "stream",
          "text": [
            "Better model found at epoch 0 with auroc value: 0.7696011662483215.\n",
            "Better model found at epoch 1 with auroc value: 0.77393639087677.\n",
            "Epoch 2: reducing lr to 0.001\n",
            "Better model found at epoch 3 with auroc value: 0.7776769399642944.\n",
            "Epoch 4: reducing lr to 0.0008117456539497632\n",
            "Better model found at epoch 4 with auroc value: 0.7779094576835632.\n",
            "Epoch 6: reducing lr to 0.0003887419780637108\n",
            "Epoch 6: early stopping\n",
            "[[0.774905 0.77824  0.771278 0.777162 0.773372]\n",
            " [0.777691 0.777909 0.       0.       0.      ]\n",
            " [0.       0.       0.       0.       0.      ]\n",
            " [0.       0.       0.       0.       0.      ]\n",
            " [0.       0.       0.       0.       0.      ]]\n",
            "Evaluating model :350-100iteration: 2 of 5\n"
          ],
          "name": "stdout"
        },
        {
          "output_type": "display_data",
          "data": {
            "text/html": [
              "\n",
              "    <div>\n",
              "        <style>\n",
              "            /* Turns off some styling */\n",
              "            progress {\n",
              "                /* gets rid of default border in Firefox and Opera. */\n",
              "                border: none;\n",
              "                /* Needs to be in here for Safari polyfill so background images work as expected. */\n",
              "                background-size: auto;\n",
              "            }\n",
              "            .progress-bar-interrupted, .progress-bar-interrupted::-webkit-progress-bar {\n",
              "                background: #F44336;\n",
              "            }\n",
              "        </style>\n",
              "      <progress value='5' class='' max='10', style='width:300px; height:20px; vertical-align: middle;'></progress>\n",
              "      50.00% [5/10 00:53<00:53]\n",
              "    </div>\n",
              "    \n",
              "<table border=\"1\" class=\"dataframe\">\n",
              "  <thead>\n",
              "    <tr style=\"text-align: left;\">\n",
              "      <th>epoch</th>\n",
              "      <th>train_loss</th>\n",
              "      <th>valid_loss</th>\n",
              "      <th>auroc</th>\n",
              "      <th>accuracy</th>\n",
              "      <th>time</th>\n",
              "    </tr>\n",
              "  </thead>\n",
              "  <tbody>\n",
              "    <tr>\n",
              "      <td>0</td>\n",
              "      <td>0.540721</td>\n",
              "      <td>0.543288</td>\n",
              "      <td>0.765491</td>\n",
              "      <td>0.783400</td>\n",
              "      <td>00:10</td>\n",
              "    </tr>\n",
              "    <tr>\n",
              "      <td>1</td>\n",
              "      <td>0.535711</td>\n",
              "      <td>0.539565</td>\n",
              "      <td>0.767568</td>\n",
              "      <td>0.791400</td>\n",
              "      <td>00:10</td>\n",
              "    </tr>\n",
              "    <tr>\n",
              "      <td>2</td>\n",
              "      <td>0.537163</td>\n",
              "      <td>0.538095</td>\n",
              "      <td>0.769023</td>\n",
              "      <td>0.785933</td>\n",
              "      <td>00:10</td>\n",
              "    </tr>\n",
              "    <tr>\n",
              "      <td>3</td>\n",
              "      <td>0.531417</td>\n",
              "      <td>0.538819</td>\n",
              "      <td>0.767978</td>\n",
              "      <td>0.780817</td>\n",
              "      <td>00:10</td>\n",
              "    </tr>\n",
              "    <tr>\n",
              "      <td>4</td>\n",
              "      <td>0.527795</td>\n",
              "      <td>0.539547</td>\n",
              "      <td>0.768693</td>\n",
              "      <td>0.789442</td>\n",
              "      <td>00:10</td>\n",
              "    </tr>\n",
              "  </tbody>\n",
              "</table><p>\n",
              "\n",
              "    <div>\n",
              "        <style>\n",
              "            /* Turns off some styling */\n",
              "            progress {\n",
              "                /* gets rid of default border in Firefox and Opera. */\n",
              "                border: none;\n",
              "                /* Needs to be in here for Safari polyfill so background images work as expected. */\n",
              "                background-size: auto;\n",
              "            }\n",
              "            .progress-bar-interrupted, .progress-bar-interrupted::-webkit-progress-bar {\n",
              "                background: #F44336;\n",
              "            }\n",
              "        </style>\n",
              "      <progress value='59' class='' max='59', style='width:300px; height:20px; vertical-align: middle;'></progress>\n",
              "      100.00% [59/59 00:01<00:00]\n",
              "    </div>\n",
              "    "
            ],
            "text/plain": [
              "<IPython.core.display.HTML object>"
            ]
          },
          "metadata": {
            "tags": []
          }
        },
        {
          "output_type": "stream",
          "text": [
            "Better model found at epoch 0 with auroc value: 0.7654908895492554.\n",
            "Better model found at epoch 1 with auroc value: 0.7675679326057434.\n",
            "Epoch 2: reducing lr to 0.001\n",
            "Better model found at epoch 2 with auroc value: 0.7690230011940002.\n",
            "Epoch 4: reducing lr to 0.0008117456539497632\n",
            "Epoch 5: early stopping\n",
            "[[0.774905 0.77824  0.771278 0.777162 0.773372]\n",
            " [0.777691 0.777909 0.769023 0.       0.      ]\n",
            " [0.       0.       0.       0.       0.      ]\n",
            " [0.       0.       0.       0.       0.      ]\n",
            " [0.       0.       0.       0.       0.      ]]\n",
            "Evaluating model :350-100iteration: 3 of 5\n"
          ],
          "name": "stdout"
        },
        {
          "output_type": "display_data",
          "data": {
            "text/html": [
              "\n",
              "    <div>\n",
              "        <style>\n",
              "            /* Turns off some styling */\n",
              "            progress {\n",
              "                /* gets rid of default border in Firefox and Opera. */\n",
              "                border: none;\n",
              "                /* Needs to be in here for Safari polyfill so background images work as expected. */\n",
              "                background-size: auto;\n",
              "            }\n",
              "            .progress-bar-interrupted, .progress-bar-interrupted::-webkit-progress-bar {\n",
              "                background: #F44336;\n",
              "            }\n",
              "        </style>\n",
              "      <progress value='6' class='' max='10', style='width:300px; height:20px; vertical-align: middle;'></progress>\n",
              "      60.00% [6/10 01:03<00:42]\n",
              "    </div>\n",
              "    \n",
              "<table border=\"1\" class=\"dataframe\">\n",
              "  <thead>\n",
              "    <tr style=\"text-align: left;\">\n",
              "      <th>epoch</th>\n",
              "      <th>train_loss</th>\n",
              "      <th>valid_loss</th>\n",
              "      <th>auroc</th>\n",
              "      <th>accuracy</th>\n",
              "      <th>time</th>\n",
              "    </tr>\n",
              "  </thead>\n",
              "  <tbody>\n",
              "    <tr>\n",
              "      <td>0</td>\n",
              "      <td>0.538448</td>\n",
              "      <td>0.536758</td>\n",
              "      <td>0.772295</td>\n",
              "      <td>0.762208</td>\n",
              "      <td>00:10</td>\n",
              "    </tr>\n",
              "    <tr>\n",
              "      <td>1</td>\n",
              "      <td>0.536714</td>\n",
              "      <td>0.535080</td>\n",
              "      <td>0.772335</td>\n",
              "      <td>0.775317</td>\n",
              "      <td>00:10</td>\n",
              "    </tr>\n",
              "    <tr>\n",
              "      <td>2</td>\n",
              "      <td>0.533312</td>\n",
              "      <td>0.536531</td>\n",
              "      <td>0.771495</td>\n",
              "      <td>0.773858</td>\n",
              "      <td>00:10</td>\n",
              "    </tr>\n",
              "    <tr>\n",
              "      <td>3</td>\n",
              "      <td>0.530595</td>\n",
              "      <td>0.533246</td>\n",
              "      <td>0.774803</td>\n",
              "      <td>0.775050</td>\n",
              "      <td>00:10</td>\n",
              "    </tr>\n",
              "    <tr>\n",
              "      <td>4</td>\n",
              "      <td>0.525883</td>\n",
              "      <td>0.532163</td>\n",
              "      <td>0.775511</td>\n",
              "      <td>0.783683</td>\n",
              "      <td>00:10</td>\n",
              "    </tr>\n",
              "    <tr>\n",
              "      <td>5</td>\n",
              "      <td>0.515930</td>\n",
              "      <td>0.534276</td>\n",
              "      <td>0.773585</td>\n",
              "      <td>0.784017</td>\n",
              "      <td>00:10</td>\n",
              "    </tr>\n",
              "  </tbody>\n",
              "</table><p>\n",
              "\n",
              "    <div>\n",
              "        <style>\n",
              "            /* Turns off some styling */\n",
              "            progress {\n",
              "                /* gets rid of default border in Firefox and Opera. */\n",
              "                border: none;\n",
              "                /* Needs to be in here for Safari polyfill so background images work as expected. */\n",
              "                background-size: auto;\n",
              "            }\n",
              "            .progress-bar-interrupted, .progress-bar-interrupted::-webkit-progress-bar {\n",
              "                background: #F44336;\n",
              "            }\n",
              "        </style>\n",
              "      <progress value='59' class='' max='59', style='width:300px; height:20px; vertical-align: middle;'></progress>\n",
              "      100.00% [59/59 00:01<00:00]\n",
              "    </div>\n",
              "    "
            ],
            "text/plain": [
              "<IPython.core.display.HTML object>"
            ]
          },
          "metadata": {
            "tags": []
          }
        },
        {
          "output_type": "stream",
          "text": [
            "Better model found at epoch 0 with auroc value: 0.7722949385643005.\n",
            "Better model found at epoch 1 with auroc value: 0.7723350524902344.\n",
            "Epoch 2: reducing lr to 0.001\n",
            "Better model found at epoch 3 with auroc value: 0.7748027443885803.\n",
            "Epoch 4: reducing lr to 0.0008117456539497632\n",
            "Better model found at epoch 4 with auroc value: 0.7755114436149597.\n",
            "Epoch 6: reducing lr to 0.0003887419780637108\n",
            "Epoch 6: early stopping\n",
            "[[0.774905 0.77824  0.771278 0.777162 0.773372]\n",
            " [0.777691 0.777909 0.769023 0.775511 0.      ]\n",
            " [0.       0.       0.       0.       0.      ]\n",
            " [0.       0.       0.       0.       0.      ]\n",
            " [0.       0.       0.       0.       0.      ]]\n",
            "Evaluating model :350-100iteration: 4 of 5\n"
          ],
          "name": "stdout"
        },
        {
          "output_type": "display_data",
          "data": {
            "text/html": [
              "\n",
              "    <div>\n",
              "        <style>\n",
              "            /* Turns off some styling */\n",
              "            progress {\n",
              "                /* gets rid of default border in Firefox and Opera. */\n",
              "                border: none;\n",
              "                /* Needs to be in here for Safari polyfill so background images work as expected. */\n",
              "                background-size: auto;\n",
              "            }\n",
              "            .progress-bar-interrupted, .progress-bar-interrupted::-webkit-progress-bar {\n",
              "                background: #F44336;\n",
              "            }\n",
              "        </style>\n",
              "      <progress value='3' class='' max='10', style='width:300px; height:20px; vertical-align: middle;'></progress>\n",
              "      30.00% [3/10 00:31<01:12]\n",
              "    </div>\n",
              "    \n",
              "<table border=\"1\" class=\"dataframe\">\n",
              "  <thead>\n",
              "    <tr style=\"text-align: left;\">\n",
              "      <th>epoch</th>\n",
              "      <th>train_loss</th>\n",
              "      <th>valid_loss</th>\n",
              "      <th>auroc</th>\n",
              "      <th>accuracy</th>\n",
              "      <th>time</th>\n",
              "    </tr>\n",
              "  </thead>\n",
              "  <tbody>\n",
              "    <tr>\n",
              "      <td>0</td>\n",
              "      <td>0.539934</td>\n",
              "      <td>0.535352</td>\n",
              "      <td>0.773133</td>\n",
              "      <td>0.773892</td>\n",
              "      <td>00:10</td>\n",
              "    </tr>\n",
              "    <tr>\n",
              "      <td>1</td>\n",
              "      <td>0.534394</td>\n",
              "      <td>0.539043</td>\n",
              "      <td>0.768672</td>\n",
              "      <td>0.773492</td>\n",
              "      <td>00:10</td>\n",
              "    </tr>\n",
              "    <tr>\n",
              "      <td>2</td>\n",
              "      <td>0.532889</td>\n",
              "      <td>0.535582</td>\n",
              "      <td>0.773462</td>\n",
              "      <td>0.772467</td>\n",
              "      <td>00:10</td>\n",
              "    </tr>\n",
              "  </tbody>\n",
              "</table><p>\n",
              "\n",
              "    <div>\n",
              "        <style>\n",
              "            /* Turns off some styling */\n",
              "            progress {\n",
              "                /* gets rid of default border in Firefox and Opera. */\n",
              "                border: none;\n",
              "                /* Needs to be in here for Safari polyfill so background images work as expected. */\n",
              "                background-size: auto;\n",
              "            }\n",
              "            .progress-bar-interrupted, .progress-bar-interrupted::-webkit-progress-bar {\n",
              "                background: #F44336;\n",
              "            }\n",
              "        </style>\n",
              "      <progress value='59' class='' max='59', style='width:300px; height:20px; vertical-align: middle;'></progress>\n",
              "      100.00% [59/59 00:01<00:00]\n",
              "    </div>\n",
              "    "
            ],
            "text/plain": [
              "<IPython.core.display.HTML object>"
            ]
          },
          "metadata": {
            "tags": []
          }
        },
        {
          "output_type": "stream",
          "text": [
            "Better model found at epoch 0 with auroc value: 0.7731325030326843.\n",
            "Epoch 2: reducing lr to 0.001\n",
            "Better model found at epoch 2 with auroc value: 0.7734615802764893.\n",
            "Epoch 3: early stopping\n",
            "[[0.774905 0.77824  0.771278 0.777162 0.773372]\n",
            " [0.777691 0.777909 0.769023 0.775511 0.773462]\n",
            " [0.       0.       0.       0.       0.      ]\n",
            " [0.       0.       0.       0.       0.      ]\n",
            " [0.       0.       0.       0.       0.      ]]\n",
            "Evaluating model :500-500iteration: 0 of 5\n"
          ],
          "name": "stdout"
        },
        {
          "output_type": "display_data",
          "data": {
            "text/html": [
              "\n",
              "    <div>\n",
              "        <style>\n",
              "            /* Turns off some styling */\n",
              "            progress {\n",
              "                /* gets rid of default border in Firefox and Opera. */\n",
              "                border: none;\n",
              "                /* Needs to be in here for Safari polyfill so background images work as expected. */\n",
              "                background-size: auto;\n",
              "            }\n",
              "            .progress-bar-interrupted, .progress-bar-interrupted::-webkit-progress-bar {\n",
              "                background: #F44336;\n",
              "            }\n",
              "        </style>\n",
              "      <progress value='5' class='' max='10', style='width:300px; height:20px; vertical-align: middle;'></progress>\n",
              "      50.00% [5/10 00:53<00:53]\n",
              "    </div>\n",
              "    \n",
              "<table border=\"1\" class=\"dataframe\">\n",
              "  <thead>\n",
              "    <tr style=\"text-align: left;\">\n",
              "      <th>epoch</th>\n",
              "      <th>train_loss</th>\n",
              "      <th>valid_loss</th>\n",
              "      <th>auroc</th>\n",
              "      <th>accuracy</th>\n",
              "      <th>time</th>\n",
              "    </tr>\n",
              "  </thead>\n",
              "  <tbody>\n",
              "    <tr>\n",
              "      <td>0</td>\n",
              "      <td>0.543193</td>\n",
              "      <td>0.538827</td>\n",
              "      <td>0.771981</td>\n",
              "      <td>0.784033</td>\n",
              "      <td>00:10</td>\n",
              "    </tr>\n",
              "    <tr>\n",
              "      <td>1</td>\n",
              "      <td>0.539337</td>\n",
              "      <td>0.535883</td>\n",
              "      <td>0.771778</td>\n",
              "      <td>0.775275</td>\n",
              "      <td>00:10</td>\n",
              "    </tr>\n",
              "    <tr>\n",
              "      <td>2</td>\n",
              "      <td>0.539470</td>\n",
              "      <td>0.534820</td>\n",
              "      <td>0.774093</td>\n",
              "      <td>0.770000</td>\n",
              "      <td>00:10</td>\n",
              "    </tr>\n",
              "    <tr>\n",
              "      <td>3</td>\n",
              "      <td>0.534993</td>\n",
              "      <td>0.535511</td>\n",
              "      <td>0.774014</td>\n",
              "      <td>0.791408</td>\n",
              "      <td>00:10</td>\n",
              "    </tr>\n",
              "    <tr>\n",
              "      <td>4</td>\n",
              "      <td>0.529478</td>\n",
              "      <td>0.533612</td>\n",
              "      <td>0.774525</td>\n",
              "      <td>0.788500</td>\n",
              "      <td>00:10</td>\n",
              "    </tr>\n",
              "  </tbody>\n",
              "</table><p>\n",
              "\n",
              "    <div>\n",
              "        <style>\n",
              "            /* Turns off some styling */\n",
              "            progress {\n",
              "                /* gets rid of default border in Firefox and Opera. */\n",
              "                border: none;\n",
              "                /* Needs to be in here for Safari polyfill so background images work as expected. */\n",
              "                background-size: auto;\n",
              "            }\n",
              "            .progress-bar-interrupted, .progress-bar-interrupted::-webkit-progress-bar {\n",
              "                background: #F44336;\n",
              "            }\n",
              "        </style>\n",
              "      <progress value='59' class='' max='59', style='width:300px; height:20px; vertical-align: middle;'></progress>\n",
              "      100.00% [59/59 00:01<00:00]\n",
              "    </div>\n",
              "    "
            ],
            "text/plain": [
              "<IPython.core.display.HTML object>"
            ]
          },
          "metadata": {
            "tags": []
          }
        },
        {
          "output_type": "stream",
          "text": [
            "Better model found at epoch 0 with auroc value: 0.7719811797142029.\n",
            "Epoch 2: reducing lr to 0.001\n",
            "Better model found at epoch 2 with auroc value: 0.7740931510925293.\n",
            "Epoch 4: reducing lr to 0.0008117456539497632\n",
            "Better model found at epoch 4 with auroc value: 0.7745248675346375.\n",
            "Epoch 5: early stopping\n",
            "[[0.774905 0.77824  0.771278 0.777162 0.773372]\n",
            " [0.777691 0.777909 0.769023 0.775511 0.773462]\n",
            " [0.774525 0.       0.       0.       0.      ]\n",
            " [0.       0.       0.       0.       0.      ]\n",
            " [0.       0.       0.       0.       0.      ]]\n",
            "Evaluating model :500-500iteration: 1 of 5\n"
          ],
          "name": "stdout"
        },
        {
          "output_type": "display_data",
          "data": {
            "text/html": [
              "\n",
              "    <div>\n",
              "        <style>\n",
              "            /* Turns off some styling */\n",
              "            progress {\n",
              "                /* gets rid of default border in Firefox and Opera. */\n",
              "                border: none;\n",
              "                /* Needs to be in here for Safari polyfill so background images work as expected. */\n",
              "                background-size: auto;\n",
              "            }\n",
              "            .progress-bar-interrupted, .progress-bar-interrupted::-webkit-progress-bar {\n",
              "                background: #F44336;\n",
              "            }\n",
              "        </style>\n",
              "      <progress value='5' class='' max='10', style='width:300px; height:20px; vertical-align: middle;'></progress>\n",
              "      50.00% [5/10 00:53<00:53]\n",
              "    </div>\n",
              "    \n",
              "<table border=\"1\" class=\"dataframe\">\n",
              "  <thead>\n",
              "    <tr style=\"text-align: left;\">\n",
              "      <th>epoch</th>\n",
              "      <th>train_loss</th>\n",
              "      <th>valid_loss</th>\n",
              "      <th>auroc</th>\n",
              "      <th>accuracy</th>\n",
              "      <th>time</th>\n",
              "    </tr>\n",
              "  </thead>\n",
              "  <tbody>\n",
              "    <tr>\n",
              "      <td>0</td>\n",
              "      <td>0.540433</td>\n",
              "      <td>0.536640</td>\n",
              "      <td>0.771793</td>\n",
              "      <td>0.767408</td>\n",
              "      <td>00:10</td>\n",
              "    </tr>\n",
              "    <tr>\n",
              "      <td>1</td>\n",
              "      <td>0.539012</td>\n",
              "      <td>0.536171</td>\n",
              "      <td>0.773356</td>\n",
              "      <td>0.769300</td>\n",
              "      <td>00:10</td>\n",
              "    </tr>\n",
              "    <tr>\n",
              "      <td>2</td>\n",
              "      <td>0.537378</td>\n",
              "      <td>0.533890</td>\n",
              "      <td>0.775412</td>\n",
              "      <td>0.774400</td>\n",
              "      <td>00:10</td>\n",
              "    </tr>\n",
              "    <tr>\n",
              "      <td>3</td>\n",
              "      <td>0.532523</td>\n",
              "      <td>0.536785</td>\n",
              "      <td>0.775220</td>\n",
              "      <td>0.763692</td>\n",
              "      <td>00:10</td>\n",
              "    </tr>\n",
              "    <tr>\n",
              "      <td>4</td>\n",
              "      <td>0.524901</td>\n",
              "      <td>0.535435</td>\n",
              "      <td>0.772829</td>\n",
              "      <td>0.773750</td>\n",
              "      <td>00:10</td>\n",
              "    </tr>\n",
              "  </tbody>\n",
              "</table><p>\n",
              "\n",
              "    <div>\n",
              "        <style>\n",
              "            /* Turns off some styling */\n",
              "            progress {\n",
              "                /* gets rid of default border in Firefox and Opera. */\n",
              "                border: none;\n",
              "                /* Needs to be in here for Safari polyfill so background images work as expected. */\n",
              "                background-size: auto;\n",
              "            }\n",
              "            .progress-bar-interrupted, .progress-bar-interrupted::-webkit-progress-bar {\n",
              "                background: #F44336;\n",
              "            }\n",
              "        </style>\n",
              "      <progress value='59' class='' max='59', style='width:300px; height:20px; vertical-align: middle;'></progress>\n",
              "      100.00% [59/59 00:01<00:00]\n",
              "    </div>\n",
              "    "
            ],
            "text/plain": [
              "<IPython.core.display.HTML object>"
            ]
          },
          "metadata": {
            "tags": []
          }
        },
        {
          "output_type": "stream",
          "text": [
            "Better model found at epoch 0 with auroc value: 0.7717933058738708.\n",
            "Better model found at epoch 1 with auroc value: 0.7733558416366577.\n",
            "Epoch 2: reducing lr to 0.001\n",
            "Better model found at epoch 2 with auroc value: 0.77541184425354.\n",
            "Epoch 4: reducing lr to 0.0008117456539497632\n",
            "Epoch 5: early stopping\n",
            "[[0.774905 0.77824  0.771278 0.777162 0.773372]\n",
            " [0.777691 0.777909 0.769023 0.775511 0.773462]\n",
            " [0.774525 0.775412 0.       0.       0.      ]\n",
            " [0.       0.       0.       0.       0.      ]\n",
            " [0.       0.       0.       0.       0.      ]]\n",
            "Evaluating model :500-500iteration: 2 of 5\n"
          ],
          "name": "stdout"
        },
        {
          "output_type": "display_data",
          "data": {
            "text/html": [
              "\n",
              "    <div>\n",
              "        <style>\n",
              "            /* Turns off some styling */\n",
              "            progress {\n",
              "                /* gets rid of default border in Firefox and Opera. */\n",
              "                border: none;\n",
              "                /* Needs to be in here for Safari polyfill so background images work as expected. */\n",
              "                background-size: auto;\n",
              "            }\n",
              "            .progress-bar-interrupted, .progress-bar-interrupted::-webkit-progress-bar {\n",
              "                background: #F44336;\n",
              "            }\n",
              "        </style>\n",
              "      <progress value='4' class='' max='10', style='width:300px; height:20px; vertical-align: middle;'></progress>\n",
              "      40.00% [4/10 00:42<01:04]\n",
              "    </div>\n",
              "    \n",
              "<table border=\"1\" class=\"dataframe\">\n",
              "  <thead>\n",
              "    <tr style=\"text-align: left;\">\n",
              "      <th>epoch</th>\n",
              "      <th>train_loss</th>\n",
              "      <th>valid_loss</th>\n",
              "      <th>auroc</th>\n",
              "      <th>accuracy</th>\n",
              "      <th>time</th>\n",
              "    </tr>\n",
              "  </thead>\n",
              "  <tbody>\n",
              "    <tr>\n",
              "      <td>0</td>\n",
              "      <td>0.544123</td>\n",
              "      <td>0.542124</td>\n",
              "      <td>0.766268</td>\n",
              "      <td>0.763717</td>\n",
              "      <td>00:10</td>\n",
              "    </tr>\n",
              "    <tr>\n",
              "      <td>1</td>\n",
              "      <td>0.539621</td>\n",
              "      <td>0.540131</td>\n",
              "      <td>0.769348</td>\n",
              "      <td>0.776483</td>\n",
              "      <td>00:10</td>\n",
              "    </tr>\n",
              "    <tr>\n",
              "      <td>2</td>\n",
              "      <td>0.534835</td>\n",
              "      <td>0.537836</td>\n",
              "      <td>0.769430</td>\n",
              "      <td>0.785950</td>\n",
              "      <td>00:10</td>\n",
              "    </tr>\n",
              "    <tr>\n",
              "      <td>3</td>\n",
              "      <td>0.533222</td>\n",
              "      <td>0.537382</td>\n",
              "      <td>0.770339</td>\n",
              "      <td>0.775475</td>\n",
              "      <td>00:10</td>\n",
              "    </tr>\n",
              "  </tbody>\n",
              "</table><p>\n",
              "\n",
              "    <div>\n",
              "        <style>\n",
              "            /* Turns off some styling */\n",
              "            progress {\n",
              "                /* gets rid of default border in Firefox and Opera. */\n",
              "                border: none;\n",
              "                /* Needs to be in here for Safari polyfill so background images work as expected. */\n",
              "                background-size: auto;\n",
              "            }\n",
              "            .progress-bar-interrupted, .progress-bar-interrupted::-webkit-progress-bar {\n",
              "                background: #F44336;\n",
              "            }\n",
              "        </style>\n",
              "      <progress value='59' class='' max='59', style='width:300px; height:20px; vertical-align: middle;'></progress>\n",
              "      100.00% [59/59 00:01<00:00]\n",
              "    </div>\n",
              "    "
            ],
            "text/plain": [
              "<IPython.core.display.HTML object>"
            ]
          },
          "metadata": {
            "tags": []
          }
        },
        {
          "output_type": "stream",
          "text": [
            "Better model found at epoch 0 with auroc value: 0.7662684917449951.\n",
            "Better model found at epoch 1 with auroc value: 0.7693477869033813.\n",
            "Epoch 2: reducing lr to 0.001\n",
            "Better model found at epoch 2 with auroc value: 0.7694299817085266.\n",
            "Better model found at epoch 3 with auroc value: 0.7703387141227722.\n",
            "Epoch 4: reducing lr to 0.0008117456539497632\n",
            "Epoch 4: early stopping\n",
            "[[0.774905 0.77824  0.771278 0.777162 0.773372]\n",
            " [0.777691 0.777909 0.769023 0.775511 0.773462]\n",
            " [0.774525 0.775412 0.770339 0.       0.      ]\n",
            " [0.       0.       0.       0.       0.      ]\n",
            " [0.       0.       0.       0.       0.      ]]\n",
            "Evaluating model :500-500iteration: 3 of 5\n"
          ],
          "name": "stdout"
        },
        {
          "output_type": "display_data",
          "data": {
            "text/html": [
              "\n",
              "    <div>\n",
              "        <style>\n",
              "            /* Turns off some styling */\n",
              "            progress {\n",
              "                /* gets rid of default border in Firefox and Opera. */\n",
              "                border: none;\n",
              "                /* Needs to be in here for Safari polyfill so background images work as expected. */\n",
              "                background-size: auto;\n",
              "            }\n",
              "            .progress-bar-interrupted, .progress-bar-interrupted::-webkit-progress-bar {\n",
              "                background: #F44336;\n",
              "            }\n",
              "        </style>\n",
              "      <progress value='6' class='' max='10', style='width:300px; height:20px; vertical-align: middle;'></progress>\n",
              "      60.00% [6/10 01:04<00:42]\n",
              "    </div>\n",
              "    \n",
              "<table border=\"1\" class=\"dataframe\">\n",
              "  <thead>\n",
              "    <tr style=\"text-align: left;\">\n",
              "      <th>epoch</th>\n",
              "      <th>train_loss</th>\n",
              "      <th>valid_loss</th>\n",
              "      <th>auroc</th>\n",
              "      <th>accuracy</th>\n",
              "      <th>time</th>\n",
              "    </tr>\n",
              "  </thead>\n",
              "  <tbody>\n",
              "    <tr>\n",
              "      <td>0</td>\n",
              "      <td>0.541640</td>\n",
              "      <td>0.537556</td>\n",
              "      <td>0.769956</td>\n",
              "      <td>0.786000</td>\n",
              "      <td>00:10</td>\n",
              "    </tr>\n",
              "    <tr>\n",
              "      <td>1</td>\n",
              "      <td>0.538575</td>\n",
              "      <td>0.543151</td>\n",
              "      <td>0.770408</td>\n",
              "      <td>0.762850</td>\n",
              "      <td>00:10</td>\n",
              "    </tr>\n",
              "    <tr>\n",
              "      <td>2</td>\n",
              "      <td>0.537308</td>\n",
              "      <td>0.536953</td>\n",
              "      <td>0.770152</td>\n",
              "      <td>0.781258</td>\n",
              "      <td>00:10</td>\n",
              "    </tr>\n",
              "    <tr>\n",
              "      <td>3</td>\n",
              "      <td>0.533386</td>\n",
              "      <td>0.535316</td>\n",
              "      <td>0.772820</td>\n",
              "      <td>0.790733</td>\n",
              "      <td>00:10</td>\n",
              "    </tr>\n",
              "    <tr>\n",
              "      <td>4</td>\n",
              "      <td>0.530477</td>\n",
              "      <td>0.535600</td>\n",
              "      <td>0.772815</td>\n",
              "      <td>0.777108</td>\n",
              "      <td>00:10</td>\n",
              "    </tr>\n",
              "    <tr>\n",
              "      <td>5</td>\n",
              "      <td>0.523018</td>\n",
              "      <td>0.537556</td>\n",
              "      <td>0.773336</td>\n",
              "      <td>0.765808</td>\n",
              "      <td>00:10</td>\n",
              "    </tr>\n",
              "  </tbody>\n",
              "</table><p>\n",
              "\n",
              "    <div>\n",
              "        <style>\n",
              "            /* Turns off some styling */\n",
              "            progress {\n",
              "                /* gets rid of default border in Firefox and Opera. */\n",
              "                border: none;\n",
              "                /* Needs to be in here for Safari polyfill so background images work as expected. */\n",
              "                background-size: auto;\n",
              "            }\n",
              "            .progress-bar-interrupted, .progress-bar-interrupted::-webkit-progress-bar {\n",
              "                background: #F44336;\n",
              "            }\n",
              "        </style>\n",
              "      <progress value='59' class='' max='59', style='width:300px; height:20px; vertical-align: middle;'></progress>\n",
              "      100.00% [59/59 00:01<00:00]\n",
              "    </div>\n",
              "    "
            ],
            "text/plain": [
              "<IPython.core.display.HTML object>"
            ]
          },
          "metadata": {
            "tags": []
          }
        },
        {
          "output_type": "stream",
          "text": [
            "Better model found at epoch 0 with auroc value: 0.7699559330940247.\n",
            "Better model found at epoch 1 with auroc value: 0.7704079151153564.\n",
            "Epoch 2: reducing lr to 0.001\n",
            "Better model found at epoch 3 with auroc value: 0.772819995880127.\n",
            "Epoch 4: reducing lr to 0.0008117456539497632\n",
            "Better model found at epoch 5 with auroc value: 0.7733361721038818.\n",
            "Epoch 6: reducing lr to 0.0003887419780637108\n",
            "Epoch 6: early stopping\n",
            "[[0.774905 0.77824  0.771278 0.777162 0.773372]\n",
            " [0.777691 0.777909 0.769023 0.775511 0.773462]\n",
            " [0.774525 0.775412 0.770339 0.773336 0.      ]\n",
            " [0.       0.       0.       0.       0.      ]\n",
            " [0.       0.       0.       0.       0.      ]]\n",
            "Evaluating model :500-500iteration: 4 of 5\n"
          ],
          "name": "stdout"
        },
        {
          "output_type": "display_data",
          "data": {
            "text/html": [
              "\n",
              "    <div>\n",
              "        <style>\n",
              "            /* Turns off some styling */\n",
              "            progress {\n",
              "                /* gets rid of default border in Firefox and Opera. */\n",
              "                border: none;\n",
              "                /* Needs to be in here for Safari polyfill so background images work as expected. */\n",
              "                background-size: auto;\n",
              "            }\n",
              "            .progress-bar-interrupted, .progress-bar-interrupted::-webkit-progress-bar {\n",
              "                background: #F44336;\n",
              "            }\n",
              "        </style>\n",
              "      <progress value='6' class='' max='10', style='width:300px; height:20px; vertical-align: middle;'></progress>\n",
              "      60.00% [6/10 01:04<00:42]\n",
              "    </div>\n",
              "    \n",
              "<table border=\"1\" class=\"dataframe\">\n",
              "  <thead>\n",
              "    <tr style=\"text-align: left;\">\n",
              "      <th>epoch</th>\n",
              "      <th>train_loss</th>\n",
              "      <th>valid_loss</th>\n",
              "      <th>auroc</th>\n",
              "      <th>accuracy</th>\n",
              "      <th>time</th>\n",
              "    </tr>\n",
              "  </thead>\n",
              "  <tbody>\n",
              "    <tr>\n",
              "      <td>0</td>\n",
              "      <td>0.539852</td>\n",
              "      <td>0.543964</td>\n",
              "      <td>0.768337</td>\n",
              "      <td>0.770225</td>\n",
              "      <td>00:10</td>\n",
              "    </tr>\n",
              "    <tr>\n",
              "      <td>1</td>\n",
              "      <td>0.537500</td>\n",
              "      <td>0.540806</td>\n",
              "      <td>0.767364</td>\n",
              "      <td>0.784858</td>\n",
              "      <td>00:10</td>\n",
              "    </tr>\n",
              "    <tr>\n",
              "      <td>2</td>\n",
              "      <td>0.533552</td>\n",
              "      <td>0.536238</td>\n",
              "      <td>0.771921</td>\n",
              "      <td>0.792942</td>\n",
              "      <td>00:11</td>\n",
              "    </tr>\n",
              "    <tr>\n",
              "      <td>3</td>\n",
              "      <td>0.528716</td>\n",
              "      <td>0.536174</td>\n",
              "      <td>0.775490</td>\n",
              "      <td>0.771742</td>\n",
              "      <td>00:10</td>\n",
              "    </tr>\n",
              "    <tr>\n",
              "      <td>4</td>\n",
              "      <td>0.523909</td>\n",
              "      <td>0.534806</td>\n",
              "      <td>0.774215</td>\n",
              "      <td>0.784675</td>\n",
              "      <td>00:10</td>\n",
              "    </tr>\n",
              "    <tr>\n",
              "      <td>5</td>\n",
              "      <td>0.516189</td>\n",
              "      <td>0.537186</td>\n",
              "      <td>0.771275</td>\n",
              "      <td>0.780883</td>\n",
              "      <td>00:10</td>\n",
              "    </tr>\n",
              "  </tbody>\n",
              "</table><p>\n",
              "\n",
              "    <div>\n",
              "        <style>\n",
              "            /* Turns off some styling */\n",
              "            progress {\n",
              "                /* gets rid of default border in Firefox and Opera. */\n",
              "                border: none;\n",
              "                /* Needs to be in here for Safari polyfill so background images work as expected. */\n",
              "                background-size: auto;\n",
              "            }\n",
              "            .progress-bar-interrupted, .progress-bar-interrupted::-webkit-progress-bar {\n",
              "                background: #F44336;\n",
              "            }\n",
              "        </style>\n",
              "      <progress value='59' class='' max='59', style='width:300px; height:20px; vertical-align: middle;'></progress>\n",
              "      100.00% [59/59 00:01<00:00]\n",
              "    </div>\n",
              "    "
            ],
            "text/plain": [
              "<IPython.core.display.HTML object>"
            ]
          },
          "metadata": {
            "tags": []
          }
        },
        {
          "output_type": "stream",
          "text": [
            "Better model found at epoch 0 with auroc value: 0.7683366537094116.\n",
            "Epoch 2: reducing lr to 0.001\n",
            "Better model found at epoch 2 with auroc value: 0.7719212174415588.\n",
            "Better model found at epoch 3 with auroc value: 0.7754899263381958.\n",
            "Epoch 4: reducing lr to 0.0008117456539497632\n",
            "Epoch 6: reducing lr to 0.0003887419780637108\n",
            "Epoch 6: early stopping\n",
            "[[0.774905 0.77824  0.771278 0.777162 0.773372]\n",
            " [0.777691 0.777909 0.769023 0.775511 0.773462]\n",
            " [0.774525 0.775412 0.770339 0.773336 0.77549 ]\n",
            " [0.       0.       0.       0.       0.      ]\n",
            " [0.       0.       0.       0.       0.      ]]\n",
            "Evaluating model :1000-500iteration: 0 of 5\n"
          ],
          "name": "stdout"
        },
        {
          "output_type": "display_data",
          "data": {
            "text/html": [
              "\n",
              "    <div>\n",
              "        <style>\n",
              "            /* Turns off some styling */\n",
              "            progress {\n",
              "                /* gets rid of default border in Firefox and Opera. */\n",
              "                border: none;\n",
              "                /* Needs to be in here for Safari polyfill so background images work as expected. */\n",
              "                background-size: auto;\n",
              "            }\n",
              "            .progress-bar-interrupted, .progress-bar-interrupted::-webkit-progress-bar {\n",
              "                background: #F44336;\n",
              "            }\n",
              "        </style>\n",
              "      <progress value='6' class='' max='10', style='width:300px; height:20px; vertical-align: middle;'></progress>\n",
              "      60.00% [6/10 01:04<00:42]\n",
              "    </div>\n",
              "    \n",
              "<table border=\"1\" class=\"dataframe\">\n",
              "  <thead>\n",
              "    <tr style=\"text-align: left;\">\n",
              "      <th>epoch</th>\n",
              "      <th>train_loss</th>\n",
              "      <th>valid_loss</th>\n",
              "      <th>auroc</th>\n",
              "      <th>accuracy</th>\n",
              "      <th>time</th>\n",
              "    </tr>\n",
              "  </thead>\n",
              "  <tbody>\n",
              "    <tr>\n",
              "      <td>0</td>\n",
              "      <td>0.540935</td>\n",
              "      <td>0.540490</td>\n",
              "      <td>0.768564</td>\n",
              "      <td>0.787217</td>\n",
              "      <td>00:10</td>\n",
              "    </tr>\n",
              "    <tr>\n",
              "      <td>1</td>\n",
              "      <td>0.540464</td>\n",
              "      <td>0.537624</td>\n",
              "      <td>0.770480</td>\n",
              "      <td>0.771600</td>\n",
              "      <td>00:10</td>\n",
              "    </tr>\n",
              "    <tr>\n",
              "      <td>2</td>\n",
              "      <td>0.535741</td>\n",
              "      <td>0.536396</td>\n",
              "      <td>0.772386</td>\n",
              "      <td>0.776475</td>\n",
              "      <td>00:10</td>\n",
              "    </tr>\n",
              "    <tr>\n",
              "      <td>3</td>\n",
              "      <td>0.534433</td>\n",
              "      <td>0.534576</td>\n",
              "      <td>0.773476</td>\n",
              "      <td>0.783292</td>\n",
              "      <td>00:10</td>\n",
              "    </tr>\n",
              "    <tr>\n",
              "      <td>4</td>\n",
              "      <td>0.529338</td>\n",
              "      <td>0.536173</td>\n",
              "      <td>0.773136</td>\n",
              "      <td>0.789650</td>\n",
              "      <td>00:11</td>\n",
              "    </tr>\n",
              "    <tr>\n",
              "      <td>5</td>\n",
              "      <td>0.519930</td>\n",
              "      <td>0.537717</td>\n",
              "      <td>0.771772</td>\n",
              "      <td>0.795958</td>\n",
              "      <td>00:10</td>\n",
              "    </tr>\n",
              "  </tbody>\n",
              "</table><p>\n",
              "\n",
              "    <div>\n",
              "        <style>\n",
              "            /* Turns off some styling */\n",
              "            progress {\n",
              "                /* gets rid of default border in Firefox and Opera. */\n",
              "                border: none;\n",
              "                /* Needs to be in here for Safari polyfill so background images work as expected. */\n",
              "                background-size: auto;\n",
              "            }\n",
              "            .progress-bar-interrupted, .progress-bar-interrupted::-webkit-progress-bar {\n",
              "                background: #F44336;\n",
              "            }\n",
              "        </style>\n",
              "      <progress value='59' class='' max='59', style='width:300px; height:20px; vertical-align: middle;'></progress>\n",
              "      100.00% [59/59 00:01<00:00]\n",
              "    </div>\n",
              "    "
            ],
            "text/plain": [
              "<IPython.core.display.HTML object>"
            ]
          },
          "metadata": {
            "tags": []
          }
        },
        {
          "output_type": "stream",
          "text": [
            "Better model found at epoch 0 with auroc value: 0.7685636281967163.\n",
            "Better model found at epoch 1 with auroc value: 0.7704799771308899.\n",
            "Epoch 2: reducing lr to 0.001\n",
            "Better model found at epoch 2 with auroc value: 0.7723857760429382.\n",
            "Better model found at epoch 3 with auroc value: 0.7734757661819458.\n",
            "Epoch 4: reducing lr to 0.0008117456539497632\n",
            "Epoch 6: reducing lr to 0.0003887419780637108\n",
            "Epoch 6: early stopping\n",
            "[[0.774905 0.77824  0.771278 0.777162 0.773372]\n",
            " [0.777691 0.777909 0.769023 0.775511 0.773462]\n",
            " [0.774525 0.775412 0.770339 0.773336 0.77549 ]\n",
            " [0.773476 0.       0.       0.       0.      ]\n",
            " [0.       0.       0.       0.       0.      ]]\n",
            "Evaluating model :1000-500iteration: 1 of 5\n"
          ],
          "name": "stdout"
        },
        {
          "output_type": "display_data",
          "data": {
            "text/html": [
              "\n",
              "    <div>\n",
              "        <style>\n",
              "            /* Turns off some styling */\n",
              "            progress {\n",
              "                /* gets rid of default border in Firefox and Opera. */\n",
              "                border: none;\n",
              "                /* Needs to be in here for Safari polyfill so background images work as expected. */\n",
              "                background-size: auto;\n",
              "            }\n",
              "            .progress-bar-interrupted, .progress-bar-interrupted::-webkit-progress-bar {\n",
              "                background: #F44336;\n",
              "            }\n",
              "        </style>\n",
              "      <progress value='7' class='' max='10', style='width:300px; height:20px; vertical-align: middle;'></progress>\n",
              "      70.00% [7/10 01:16<00:32]\n",
              "    </div>\n",
              "    \n",
              "<table border=\"1\" class=\"dataframe\">\n",
              "  <thead>\n",
              "    <tr style=\"text-align: left;\">\n",
              "      <th>epoch</th>\n",
              "      <th>train_loss</th>\n",
              "      <th>valid_loss</th>\n",
              "      <th>auroc</th>\n",
              "      <th>accuracy</th>\n",
              "      <th>time</th>\n",
              "    </tr>\n",
              "  </thead>\n",
              "  <tbody>\n",
              "    <tr>\n",
              "      <td>0</td>\n",
              "      <td>0.541345</td>\n",
              "      <td>0.538558</td>\n",
              "      <td>0.770938</td>\n",
              "      <td>0.764242</td>\n",
              "      <td>00:11</td>\n",
              "    </tr>\n",
              "    <tr>\n",
              "      <td>1</td>\n",
              "      <td>0.539541</td>\n",
              "      <td>0.537848</td>\n",
              "      <td>0.770068</td>\n",
              "      <td>0.788675</td>\n",
              "      <td>00:10</td>\n",
              "    </tr>\n",
              "    <tr>\n",
              "      <td>2</td>\n",
              "      <td>0.535267</td>\n",
              "      <td>0.536123</td>\n",
              "      <td>0.771513</td>\n",
              "      <td>0.777458</td>\n",
              "      <td>00:11</td>\n",
              "    </tr>\n",
              "    <tr>\n",
              "      <td>3</td>\n",
              "      <td>0.531549</td>\n",
              "      <td>0.534034</td>\n",
              "      <td>0.775691</td>\n",
              "      <td>0.767825</td>\n",
              "      <td>00:10</td>\n",
              "    </tr>\n",
              "    <tr>\n",
              "      <td>4</td>\n",
              "      <td>0.526009</td>\n",
              "      <td>0.532700</td>\n",
              "      <td>0.777906</td>\n",
              "      <td>0.776817</td>\n",
              "      <td>00:10</td>\n",
              "    </tr>\n",
              "    <tr>\n",
              "      <td>5</td>\n",
              "      <td>0.516921</td>\n",
              "      <td>0.531547</td>\n",
              "      <td>0.776701</td>\n",
              "      <td>0.785208</td>\n",
              "      <td>00:10</td>\n",
              "    </tr>\n",
              "    <tr>\n",
              "      <td>6</td>\n",
              "      <td>0.499672</td>\n",
              "      <td>0.546326</td>\n",
              "      <td>0.767795</td>\n",
              "      <td>0.783033</td>\n",
              "      <td>00:10</td>\n",
              "    </tr>\n",
              "  </tbody>\n",
              "</table><p>\n",
              "\n",
              "    <div>\n",
              "        <style>\n",
              "            /* Turns off some styling */\n",
              "            progress {\n",
              "                /* gets rid of default border in Firefox and Opera. */\n",
              "                border: none;\n",
              "                /* Needs to be in here for Safari polyfill so background images work as expected. */\n",
              "                background-size: auto;\n",
              "            }\n",
              "            .progress-bar-interrupted, .progress-bar-interrupted::-webkit-progress-bar {\n",
              "                background: #F44336;\n",
              "            }\n",
              "        </style>\n",
              "      <progress value='59' class='' max='59', style='width:300px; height:20px; vertical-align: middle;'></progress>\n",
              "      100.00% [59/59 00:01<00:00]\n",
              "    </div>\n",
              "    "
            ],
            "text/plain": [
              "<IPython.core.display.HTML object>"
            ]
          },
          "metadata": {
            "tags": []
          }
        },
        {
          "output_type": "stream",
          "text": [
            "Better model found at epoch 0 with auroc value: 0.7709379196166992.\n",
            "Epoch 2: reducing lr to 0.001\n",
            "Better model found at epoch 2 with auroc value: 0.7715134024620056.\n",
            "Better model found at epoch 3 with auroc value: 0.7756906151771545.\n",
            "Epoch 4: reducing lr to 0.0008117456539497632\n",
            "Better model found at epoch 4 with auroc value: 0.7779056429862976.\n",
            "Epoch 6: reducing lr to 0.0003887419780637108\n",
            "Epoch 7: early stopping\n",
            "[[0.774905 0.77824  0.771278 0.777162 0.773372]\n",
            " [0.777691 0.777909 0.769023 0.775511 0.773462]\n",
            " [0.774525 0.775412 0.770339 0.773336 0.77549 ]\n",
            " [0.773476 0.777906 0.       0.       0.      ]\n",
            " [0.       0.       0.       0.       0.      ]]\n",
            "Evaluating model :1000-500iteration: 2 of 5\n"
          ],
          "name": "stdout"
        },
        {
          "output_type": "display_data",
          "data": {
            "text/html": [
              "\n",
              "    <div>\n",
              "        <style>\n",
              "            /* Turns off some styling */\n",
              "            progress {\n",
              "                /* gets rid of default border in Firefox and Opera. */\n",
              "                border: none;\n",
              "                /* Needs to be in here for Safari polyfill so background images work as expected. */\n",
              "                background-size: auto;\n",
              "            }\n",
              "            .progress-bar-interrupted, .progress-bar-interrupted::-webkit-progress-bar {\n",
              "                background: #F44336;\n",
              "            }\n",
              "        </style>\n",
              "      <progress value='3' class='' max='10', style='width:300px; height:20px; vertical-align: middle;'></progress>\n",
              "      30.00% [3/10 00:32<01:15]\n",
              "    </div>\n",
              "    \n",
              "<table border=\"1\" class=\"dataframe\">\n",
              "  <thead>\n",
              "    <tr style=\"text-align: left;\">\n",
              "      <th>epoch</th>\n",
              "      <th>train_loss</th>\n",
              "      <th>valid_loss</th>\n",
              "      <th>auroc</th>\n",
              "      <th>accuracy</th>\n",
              "      <th>time</th>\n",
              "    </tr>\n",
              "  </thead>\n",
              "  <tbody>\n",
              "    <tr>\n",
              "      <td>0</td>\n",
              "      <td>0.540246</td>\n",
              "      <td>0.537228</td>\n",
              "      <td>0.770011</td>\n",
              "      <td>0.784858</td>\n",
              "      <td>00:11</td>\n",
              "    </tr>\n",
              "    <tr>\n",
              "      <td>1</td>\n",
              "      <td>0.537369</td>\n",
              "      <td>0.540346</td>\n",
              "      <td>0.769659</td>\n",
              "      <td>0.794858</td>\n",
              "      <td>00:10</td>\n",
              "    </tr>\n",
              "    <tr>\n",
              "      <td>2</td>\n",
              "      <td>0.533494</td>\n",
              "      <td>0.540194</td>\n",
              "      <td>0.767429</td>\n",
              "      <td>0.780458</td>\n",
              "      <td>00:10</td>\n",
              "    </tr>\n",
              "  </tbody>\n",
              "</table><p>\n",
              "\n",
              "    <div>\n",
              "        <style>\n",
              "            /* Turns off some styling */\n",
              "            progress {\n",
              "                /* gets rid of default border in Firefox and Opera. */\n",
              "                border: none;\n",
              "                /* Needs to be in here for Safari polyfill so background images work as expected. */\n",
              "                background-size: auto;\n",
              "            }\n",
              "            .progress-bar-interrupted, .progress-bar-interrupted::-webkit-progress-bar {\n",
              "                background: #F44336;\n",
              "            }\n",
              "        </style>\n",
              "      <progress value='59' class='' max='59', style='width:300px; height:20px; vertical-align: middle;'></progress>\n",
              "      100.00% [59/59 00:01<00:00]\n",
              "    </div>\n",
              "    "
            ],
            "text/plain": [
              "<IPython.core.display.HTML object>"
            ]
          },
          "metadata": {
            "tags": []
          }
        },
        {
          "output_type": "stream",
          "text": [
            "Better model found at epoch 0 with auroc value: 0.7700111865997314.\n",
            "Epoch 2: reducing lr to 0.001\n",
            "Epoch 3: early stopping\n",
            "Better model found at epoch 3 with auroc value: 0.7701525092124939.\n",
            "[[0.774905 0.77824  0.771278 0.777162 0.773372]\n",
            " [0.777691 0.777909 0.769023 0.775511 0.773462]\n",
            " [0.774525 0.775412 0.770339 0.773336 0.77549 ]\n",
            " [0.773476 0.777906 0.770153 0.       0.      ]\n",
            " [0.       0.       0.       0.       0.      ]]\n",
            "Evaluating model :1000-500iteration: 3 of 5\n"
          ],
          "name": "stdout"
        },
        {
          "output_type": "display_data",
          "data": {
            "text/html": [
              "\n",
              "    <div>\n",
              "        <style>\n",
              "            /* Turns off some styling */\n",
              "            progress {\n",
              "                /* gets rid of default border in Firefox and Opera. */\n",
              "                border: none;\n",
              "                /* Needs to be in here for Safari polyfill so background images work as expected. */\n",
              "                background-size: auto;\n",
              "            }\n",
              "            .progress-bar-interrupted, .progress-bar-interrupted::-webkit-progress-bar {\n",
              "                background: #F44336;\n",
              "            }\n",
              "        </style>\n",
              "      <progress value='6' class='' max='10', style='width:300px; height:20px; vertical-align: middle;'></progress>\n",
              "      60.00% [6/10 01:04<00:42]\n",
              "    </div>\n",
              "    \n",
              "<table border=\"1\" class=\"dataframe\">\n",
              "  <thead>\n",
              "    <tr style=\"text-align: left;\">\n",
              "      <th>epoch</th>\n",
              "      <th>train_loss</th>\n",
              "      <th>valid_loss</th>\n",
              "      <th>auroc</th>\n",
              "      <th>accuracy</th>\n",
              "      <th>time</th>\n",
              "    </tr>\n",
              "  </thead>\n",
              "  <tbody>\n",
              "    <tr>\n",
              "      <td>0</td>\n",
              "      <td>0.542053</td>\n",
              "      <td>0.544321</td>\n",
              "      <td>0.763133</td>\n",
              "      <td>0.774067</td>\n",
              "      <td>00:10</td>\n",
              "    </tr>\n",
              "    <tr>\n",
              "      <td>1</td>\n",
              "      <td>0.538097</td>\n",
              "      <td>0.537906</td>\n",
              "      <td>0.769532</td>\n",
              "      <td>0.778692</td>\n",
              "      <td>00:10</td>\n",
              "    </tr>\n",
              "    <tr>\n",
              "      <td>2</td>\n",
              "      <td>0.536375</td>\n",
              "      <td>0.538179</td>\n",
              "      <td>0.772319</td>\n",
              "      <td>0.763692</td>\n",
              "      <td>00:10</td>\n",
              "    </tr>\n",
              "    <tr>\n",
              "      <td>3</td>\n",
              "      <td>0.532026</td>\n",
              "      <td>0.536815</td>\n",
              "      <td>0.774610</td>\n",
              "      <td>0.768667</td>\n",
              "      <td>00:10</td>\n",
              "    </tr>\n",
              "    <tr>\n",
              "      <td>4</td>\n",
              "      <td>0.526735</td>\n",
              "      <td>0.534680</td>\n",
              "      <td>0.774425</td>\n",
              "      <td>0.774025</td>\n",
              "      <td>00:10</td>\n",
              "    </tr>\n",
              "    <tr>\n",
              "      <td>5</td>\n",
              "      <td>0.518830</td>\n",
              "      <td>0.540786</td>\n",
              "      <td>0.768201</td>\n",
              "      <td>0.788717</td>\n",
              "      <td>00:10</td>\n",
              "    </tr>\n",
              "  </tbody>\n",
              "</table><p>\n",
              "\n",
              "    <div>\n",
              "        <style>\n",
              "            /* Turns off some styling */\n",
              "            progress {\n",
              "                /* gets rid of default border in Firefox and Opera. */\n",
              "                border: none;\n",
              "                /* Needs to be in here for Safari polyfill so background images work as expected. */\n",
              "                background-size: auto;\n",
              "            }\n",
              "            .progress-bar-interrupted, .progress-bar-interrupted::-webkit-progress-bar {\n",
              "                background: #F44336;\n",
              "            }\n",
              "        </style>\n",
              "      <progress value='59' class='' max='59', style='width:300px; height:20px; vertical-align: middle;'></progress>\n",
              "      100.00% [59/59 00:01<00:00]\n",
              "    </div>\n",
              "    "
            ],
            "text/plain": [
              "<IPython.core.display.HTML object>"
            ]
          },
          "metadata": {
            "tags": []
          }
        },
        {
          "output_type": "stream",
          "text": [
            "Better model found at epoch 0 with auroc value: 0.7631334662437439.\n",
            "Better model found at epoch 1 with auroc value: 0.7695317268371582.\n",
            "Epoch 2: reducing lr to 0.001\n",
            "Better model found at epoch 2 with auroc value: 0.7723188400268555.\n",
            "Better model found at epoch 3 with auroc value: 0.774610161781311.\n",
            "Epoch 5: reducing lr to 0.0006112620219362893\n",
            "Epoch 6: early stopping\n",
            "[[0.774905 0.77824  0.771278 0.777162 0.773372]\n",
            " [0.777691 0.777909 0.769023 0.775511 0.773462]\n",
            " [0.774525 0.775412 0.770339 0.773336 0.77549 ]\n",
            " [0.773476 0.777906 0.770153 0.77461  0.      ]\n",
            " [0.       0.       0.       0.       0.      ]]\n",
            "Evaluating model :1000-500iteration: 4 of 5\n"
          ],
          "name": "stdout"
        },
        {
          "output_type": "display_data",
          "data": {
            "text/html": [
              "\n",
              "    <div>\n",
              "        <style>\n",
              "            /* Turns off some styling */\n",
              "            progress {\n",
              "                /* gets rid of default border in Firefox and Opera. */\n",
              "                border: none;\n",
              "                /* Needs to be in here for Safari polyfill so background images work as expected. */\n",
              "                background-size: auto;\n",
              "            }\n",
              "            .progress-bar-interrupted, .progress-bar-interrupted::-webkit-progress-bar {\n",
              "                background: #F44336;\n",
              "            }\n",
              "        </style>\n",
              "      <progress value='6' class='' max='10', style='width:300px; height:20px; vertical-align: middle;'></progress>\n",
              "      60.00% [6/10 01:04<00:43]\n",
              "    </div>\n",
              "    \n",
              "<table border=\"1\" class=\"dataframe\">\n",
              "  <thead>\n",
              "    <tr style=\"text-align: left;\">\n",
              "      <th>epoch</th>\n",
              "      <th>train_loss</th>\n",
              "      <th>valid_loss</th>\n",
              "      <th>auroc</th>\n",
              "      <th>accuracy</th>\n",
              "      <th>time</th>\n",
              "    </tr>\n",
              "  </thead>\n",
              "  <tbody>\n",
              "    <tr>\n",
              "      <td>0</td>\n",
              "      <td>0.541277</td>\n",
              "      <td>0.541400</td>\n",
              "      <td>0.766088</td>\n",
              "      <td>0.781692</td>\n",
              "      <td>00:11</td>\n",
              "    </tr>\n",
              "    <tr>\n",
              "      <td>1</td>\n",
              "      <td>0.539019</td>\n",
              "      <td>0.542730</td>\n",
              "      <td>0.768830</td>\n",
              "      <td>0.761192</td>\n",
              "      <td>00:10</td>\n",
              "    </tr>\n",
              "    <tr>\n",
              "      <td>2</td>\n",
              "      <td>0.534882</td>\n",
              "      <td>0.540886</td>\n",
              "      <td>0.767473</td>\n",
              "      <td>0.775667</td>\n",
              "      <td>00:10</td>\n",
              "    </tr>\n",
              "    <tr>\n",
              "      <td>3</td>\n",
              "      <td>0.532116</td>\n",
              "      <td>0.538793</td>\n",
              "      <td>0.770131</td>\n",
              "      <td>0.768692</td>\n",
              "      <td>00:10</td>\n",
              "    </tr>\n",
              "    <tr>\n",
              "      <td>4</td>\n",
              "      <td>0.524077</td>\n",
              "      <td>0.537725</td>\n",
              "      <td>0.770424</td>\n",
              "      <td>0.786900</td>\n",
              "      <td>00:10</td>\n",
              "    </tr>\n",
              "    <tr>\n",
              "      <td>5</td>\n",
              "      <td>0.516042</td>\n",
              "      <td>0.541237</td>\n",
              "      <td>0.768185</td>\n",
              "      <td>0.775058</td>\n",
              "      <td>00:10</td>\n",
              "    </tr>\n",
              "  </tbody>\n",
              "</table><p>\n",
              "\n",
              "    <div>\n",
              "        <style>\n",
              "            /* Turns off some styling */\n",
              "            progress {\n",
              "                /* gets rid of default border in Firefox and Opera. */\n",
              "                border: none;\n",
              "                /* Needs to be in here for Safari polyfill so background images work as expected. */\n",
              "                background-size: auto;\n",
              "            }\n",
              "            .progress-bar-interrupted, .progress-bar-interrupted::-webkit-progress-bar {\n",
              "                background: #F44336;\n",
              "            }\n",
              "        </style>\n",
              "      <progress value='59' class='' max='59', style='width:300px; height:20px; vertical-align: middle;'></progress>\n",
              "      100.00% [59/59 00:01<00:00]\n",
              "    </div>\n",
              "    "
            ],
            "text/plain": [
              "<IPython.core.display.HTML object>"
            ]
          },
          "metadata": {
            "tags": []
          }
        },
        {
          "output_type": "stream",
          "text": [
            "Better model found at epoch 0 with auroc value: 0.7660882472991943.\n",
            "Better model found at epoch 1 with auroc value: 0.7688299417495728.\n",
            "Epoch 2: reducing lr to 0.001\n",
            "Better model found at epoch 3 with auroc value: 0.7701310515403748.\n",
            "Epoch 4: reducing lr to 0.0008117456539497632\n",
            "Better model found at epoch 4 with auroc value: 0.7704244256019592.\n",
            "Epoch 6: reducing lr to 0.0003887419780637108\n",
            "Epoch 6: early stopping\n",
            "[[0.774905 0.77824  0.771278 0.777162 0.773372]\n",
            " [0.777691 0.777909 0.769023 0.775511 0.773462]\n",
            " [0.774525 0.775412 0.770339 0.773336 0.77549 ]\n",
            " [0.773476 0.777906 0.770153 0.77461  0.770424]\n",
            " [0.       0.       0.       0.       0.      ]]\n",
            "Evaluating model :2000-1000iteration: 0 of 5\n"
          ],
          "name": "stdout"
        },
        {
          "output_type": "display_data",
          "data": {
            "text/html": [
              "\n",
              "    <div>\n",
              "        <style>\n",
              "            /* Turns off some styling */\n",
              "            progress {\n",
              "                /* gets rid of default border in Firefox and Opera. */\n",
              "                border: none;\n",
              "                /* Needs to be in here for Safari polyfill so background images work as expected. */\n",
              "                background-size: auto;\n",
              "            }\n",
              "            .progress-bar-interrupted, .progress-bar-interrupted::-webkit-progress-bar {\n",
              "                background: #F44336;\n",
              "            }\n",
              "        </style>\n",
              "      <progress value='5' class='' max='10', style='width:300px; height:20px; vertical-align: middle;'></progress>\n",
              "      50.00% [5/10 00:57<00:57]\n",
              "    </div>\n",
              "    \n",
              "<table border=\"1\" class=\"dataframe\">\n",
              "  <thead>\n",
              "    <tr style=\"text-align: left;\">\n",
              "      <th>epoch</th>\n",
              "      <th>train_loss</th>\n",
              "      <th>valid_loss</th>\n",
              "      <th>auroc</th>\n",
              "      <th>accuracy</th>\n",
              "      <th>time</th>\n",
              "    </tr>\n",
              "  </thead>\n",
              "  <tbody>\n",
              "    <tr>\n",
              "      <td>0</td>\n",
              "      <td>0.542764</td>\n",
              "      <td>0.534874</td>\n",
              "      <td>0.772661</td>\n",
              "      <td>0.781525</td>\n",
              "      <td>00:11</td>\n",
              "    </tr>\n",
              "    <tr>\n",
              "      <td>1</td>\n",
              "      <td>0.539798</td>\n",
              "      <td>0.539661</td>\n",
              "      <td>0.772870</td>\n",
              "      <td>0.757092</td>\n",
              "      <td>00:11</td>\n",
              "    </tr>\n",
              "    <tr>\n",
              "      <td>2</td>\n",
              "      <td>0.538416</td>\n",
              "      <td>0.535924</td>\n",
              "      <td>0.775037</td>\n",
              "      <td>0.759075</td>\n",
              "      <td>00:11</td>\n",
              "    </tr>\n",
              "    <tr>\n",
              "      <td>3</td>\n",
              "      <td>0.532162</td>\n",
              "      <td>0.533764</td>\n",
              "      <td>0.775846</td>\n",
              "      <td>0.800417</td>\n",
              "      <td>00:11</td>\n",
              "    </tr>\n",
              "    <tr>\n",
              "      <td>4</td>\n",
              "      <td>0.529840</td>\n",
              "      <td>0.535881</td>\n",
              "      <td>0.774626</td>\n",
              "      <td>0.763042</td>\n",
              "      <td>00:11</td>\n",
              "    </tr>\n",
              "  </tbody>\n",
              "</table><p>\n",
              "\n",
              "    <div>\n",
              "        <style>\n",
              "            /* Turns off some styling */\n",
              "            progress {\n",
              "                /* gets rid of default border in Firefox and Opera. */\n",
              "                border: none;\n",
              "                /* Needs to be in here for Safari polyfill so background images work as expected. */\n",
              "                background-size: auto;\n",
              "            }\n",
              "            .progress-bar-interrupted, .progress-bar-interrupted::-webkit-progress-bar {\n",
              "                background: #F44336;\n",
              "            }\n",
              "        </style>\n",
              "      <progress value='59' class='' max='59', style='width:300px; height:20px; vertical-align: middle;'></progress>\n",
              "      100.00% [59/59 00:01<00:00]\n",
              "    </div>\n",
              "    "
            ],
            "text/plain": [
              "<IPython.core.display.HTML object>"
            ]
          },
          "metadata": {
            "tags": []
          }
        },
        {
          "output_type": "stream",
          "text": [
            "Better model found at epoch 0 with auroc value: 0.7726611495018005.\n",
            "Better model found at epoch 1 with auroc value: 0.7728699445724487.\n",
            "Epoch 2: reducing lr to 0.001\n",
            "Better model found at epoch 2 with auroc value: 0.7750367522239685.\n",
            "Better model found at epoch 3 with auroc value: 0.7758455872535706.\n",
            "Epoch 4: reducing lr to 0.0008117456539497632\n",
            "Epoch 5: early stopping\n",
            "[[0.774905 0.77824  0.771278 0.777162 0.773372]\n",
            " [0.777691 0.777909 0.769023 0.775511 0.773462]\n",
            " [0.774525 0.775412 0.770339 0.773336 0.77549 ]\n",
            " [0.773476 0.777906 0.770153 0.77461  0.770424]\n",
            " [0.775846 0.       0.       0.       0.      ]]\n",
            "Evaluating model :2000-1000iteration: 1 of 5\n"
          ],
          "name": "stdout"
        },
        {
          "output_type": "display_data",
          "data": {
            "text/html": [
              "\n",
              "    <div>\n",
              "        <style>\n",
              "            /* Turns off some styling */\n",
              "            progress {\n",
              "                /* gets rid of default border in Firefox and Opera. */\n",
              "                border: none;\n",
              "                /* Needs to be in here for Safari polyfill so background images work as expected. */\n",
              "                background-size: auto;\n",
              "            }\n",
              "            .progress-bar-interrupted, .progress-bar-interrupted::-webkit-progress-bar {\n",
              "                background: #F44336;\n",
              "            }\n",
              "        </style>\n",
              "      <progress value='5' class='' max='10', style='width:300px; height:20px; vertical-align: middle;'></progress>\n",
              "      50.00% [5/10 00:58<00:58]\n",
              "    </div>\n",
              "    \n",
              "<table border=\"1\" class=\"dataframe\">\n",
              "  <thead>\n",
              "    <tr style=\"text-align: left;\">\n",
              "      <th>epoch</th>\n",
              "      <th>train_loss</th>\n",
              "      <th>valid_loss</th>\n",
              "      <th>auroc</th>\n",
              "      <th>accuracy</th>\n",
              "      <th>time</th>\n",
              "    </tr>\n",
              "  </thead>\n",
              "  <tbody>\n",
              "    <tr>\n",
              "      <td>0</td>\n",
              "      <td>0.543853</td>\n",
              "      <td>0.543754</td>\n",
              "      <td>0.764256</td>\n",
              "      <td>0.783083</td>\n",
              "      <td>00:11</td>\n",
              "    </tr>\n",
              "    <tr>\n",
              "      <td>1</td>\n",
              "      <td>0.538180</td>\n",
              "      <td>0.546677</td>\n",
              "      <td>0.771136</td>\n",
              "      <td>0.750600</td>\n",
              "      <td>00:11</td>\n",
              "    </tr>\n",
              "    <tr>\n",
              "      <td>2</td>\n",
              "      <td>0.537226</td>\n",
              "      <td>0.536157</td>\n",
              "      <td>0.772537</td>\n",
              "      <td>0.771642</td>\n",
              "      <td>00:11</td>\n",
              "    </tr>\n",
              "    <tr>\n",
              "      <td>3</td>\n",
              "      <td>0.535651</td>\n",
              "      <td>0.535490</td>\n",
              "      <td>0.772620</td>\n",
              "      <td>0.786917</td>\n",
              "      <td>00:11</td>\n",
              "    </tr>\n",
              "    <tr>\n",
              "      <td>4</td>\n",
              "      <td>0.528496</td>\n",
              "      <td>0.536713</td>\n",
              "      <td>0.771976</td>\n",
              "      <td>0.777400</td>\n",
              "      <td>00:11</td>\n",
              "    </tr>\n",
              "  </tbody>\n",
              "</table><p>\n",
              "\n",
              "    <div>\n",
              "        <style>\n",
              "            /* Turns off some styling */\n",
              "            progress {\n",
              "                /* gets rid of default border in Firefox and Opera. */\n",
              "                border: none;\n",
              "                /* Needs to be in here for Safari polyfill so background images work as expected. */\n",
              "                background-size: auto;\n",
              "            }\n",
              "            .progress-bar-interrupted, .progress-bar-interrupted::-webkit-progress-bar {\n",
              "                background: #F44336;\n",
              "            }\n",
              "        </style>\n",
              "      <progress value='59' class='' max='59', style='width:300px; height:20px; vertical-align: middle;'></progress>\n",
              "      100.00% [59/59 00:01<00:00]\n",
              "    </div>\n",
              "    "
            ],
            "text/plain": [
              "<IPython.core.display.HTML object>"
            ]
          },
          "metadata": {
            "tags": []
          }
        },
        {
          "output_type": "stream",
          "text": [
            "Better model found at epoch 0 with auroc value: 0.7642561197280884.\n",
            "Better model found at epoch 1 with auroc value: 0.7711362242698669.\n",
            "Epoch 2: reducing lr to 0.001\n",
            "Better model found at epoch 2 with auroc value: 0.7725368142127991.\n",
            "Better model found at epoch 3 with auroc value: 0.7726203799247742.\n",
            "Epoch 4: reducing lr to 0.0008117456539497632\n",
            "Epoch 5: early stopping\n",
            "[[0.774905 0.77824  0.771278 0.777162 0.773372]\n",
            " [0.777691 0.777909 0.769023 0.775511 0.773462]\n",
            " [0.774525 0.775412 0.770339 0.773336 0.77549 ]\n",
            " [0.773476 0.777906 0.770153 0.77461  0.770424]\n",
            " [0.775846 0.77262  0.       0.       0.      ]]\n",
            "Evaluating model :2000-1000iteration: 2 of 5\n"
          ],
          "name": "stdout"
        },
        {
          "output_type": "display_data",
          "data": {
            "text/html": [
              "\n",
              "    <div>\n",
              "        <style>\n",
              "            /* Turns off some styling */\n",
              "            progress {\n",
              "                /* gets rid of default border in Firefox and Opera. */\n",
              "                border: none;\n",
              "                /* Needs to be in here for Safari polyfill so background images work as expected. */\n",
              "                background-size: auto;\n",
              "            }\n",
              "            .progress-bar-interrupted, .progress-bar-interrupted::-webkit-progress-bar {\n",
              "                background: #F44336;\n",
              "            }\n",
              "        </style>\n",
              "      <progress value='4' class='' max='10', style='width:300px; height:20px; vertical-align: middle;'></progress>\n",
              "      40.00% [4/10 00:46<01:09]\n",
              "    </div>\n",
              "    \n",
              "<table border=\"1\" class=\"dataframe\">\n",
              "  <thead>\n",
              "    <tr style=\"text-align: left;\">\n",
              "      <th>epoch</th>\n",
              "      <th>train_loss</th>\n",
              "      <th>valid_loss</th>\n",
              "      <th>auroc</th>\n",
              "      <th>accuracy</th>\n",
              "      <th>time</th>\n",
              "    </tr>\n",
              "  </thead>\n",
              "  <tbody>\n",
              "    <tr>\n",
              "      <td>0</td>\n",
              "      <td>0.544762</td>\n",
              "      <td>0.544759</td>\n",
              "      <td>0.763890</td>\n",
              "      <td>0.763550</td>\n",
              "      <td>00:11</td>\n",
              "    </tr>\n",
              "    <tr>\n",
              "      <td>1</td>\n",
              "      <td>0.538024</td>\n",
              "      <td>0.542953</td>\n",
              "      <td>0.768890</td>\n",
              "      <td>0.752575</td>\n",
              "      <td>00:11</td>\n",
              "    </tr>\n",
              "    <tr>\n",
              "      <td>2</td>\n",
              "      <td>0.537198</td>\n",
              "      <td>0.540464</td>\n",
              "      <td>0.766731</td>\n",
              "      <td>0.775558</td>\n",
              "      <td>00:11</td>\n",
              "    </tr>\n",
              "    <tr>\n",
              "      <td>3</td>\n",
              "      <td>0.534049</td>\n",
              "      <td>0.539131</td>\n",
              "      <td>0.767907</td>\n",
              "      <td>0.779117</td>\n",
              "      <td>00:11</td>\n",
              "    </tr>\n",
              "  </tbody>\n",
              "</table><p>\n",
              "\n",
              "    <div>\n",
              "        <style>\n",
              "            /* Turns off some styling */\n",
              "            progress {\n",
              "                /* gets rid of default border in Firefox and Opera. */\n",
              "                border: none;\n",
              "                /* Needs to be in here for Safari polyfill so background images work as expected. */\n",
              "                background-size: auto;\n",
              "            }\n",
              "            .progress-bar-interrupted, .progress-bar-interrupted::-webkit-progress-bar {\n",
              "                background: #F44336;\n",
              "            }\n",
              "        </style>\n",
              "      <progress value='59' class='' max='59', style='width:300px; height:20px; vertical-align: middle;'></progress>\n",
              "      100.00% [59/59 00:01<00:00]\n",
              "    </div>\n",
              "    "
            ],
            "text/plain": [
              "<IPython.core.display.HTML object>"
            ]
          },
          "metadata": {
            "tags": []
          }
        },
        {
          "output_type": "stream",
          "text": [
            "Better model found at epoch 0 with auroc value: 0.7638900279998779.\n",
            "Better model found at epoch 1 with auroc value: 0.768890380859375.\n",
            "Epoch 2: reducing lr to 0.001\n",
            "Epoch 4: reducing lr to 0.0008117456539497632\n",
            "Epoch 4: early stopping\n",
            "[[0.774905 0.77824  0.771278 0.777162 0.773372]\n",
            " [0.777691 0.777909 0.769023 0.775511 0.773462]\n",
            " [0.774525 0.775412 0.770339 0.773336 0.77549 ]\n",
            " [0.773476 0.777906 0.770153 0.77461  0.770424]\n",
            " [0.775846 0.77262  0.76889  0.       0.      ]]\n",
            "Evaluating model :2000-1000iteration: 3 of 5\n"
          ],
          "name": "stdout"
        },
        {
          "output_type": "display_data",
          "data": {
            "text/html": [
              "\n",
              "    <div>\n",
              "        <style>\n",
              "            /* Turns off some styling */\n",
              "            progress {\n",
              "                /* gets rid of default border in Firefox and Opera. */\n",
              "                border: none;\n",
              "                /* Needs to be in here for Safari polyfill so background images work as expected. */\n",
              "                background-size: auto;\n",
              "            }\n",
              "            .progress-bar-interrupted, .progress-bar-interrupted::-webkit-progress-bar {\n",
              "                background: #F44336;\n",
              "            }\n",
              "        </style>\n",
              "      <progress value='6' class='' max='10', style='width:300px; height:20px; vertical-align: middle;'></progress>\n",
              "      60.00% [6/10 01:09<00:46]\n",
              "    </div>\n",
              "    \n",
              "<table border=\"1\" class=\"dataframe\">\n",
              "  <thead>\n",
              "    <tr style=\"text-align: left;\">\n",
              "      <th>epoch</th>\n",
              "      <th>train_loss</th>\n",
              "      <th>valid_loss</th>\n",
              "      <th>auroc</th>\n",
              "      <th>accuracy</th>\n",
              "      <th>time</th>\n",
              "    </tr>\n",
              "  </thead>\n",
              "  <tbody>\n",
              "    <tr>\n",
              "      <td>0</td>\n",
              "      <td>0.542819</td>\n",
              "      <td>0.546328</td>\n",
              "      <td>0.765968</td>\n",
              "      <td>0.770417</td>\n",
              "      <td>00:11</td>\n",
              "    </tr>\n",
              "    <tr>\n",
              "      <td>1</td>\n",
              "      <td>0.537501</td>\n",
              "      <td>0.537958</td>\n",
              "      <td>0.769926</td>\n",
              "      <td>0.784308</td>\n",
              "      <td>00:11</td>\n",
              "    </tr>\n",
              "    <tr>\n",
              "      <td>2</td>\n",
              "      <td>0.536682</td>\n",
              "      <td>0.541979</td>\n",
              "      <td>0.772258</td>\n",
              "      <td>0.756925</td>\n",
              "      <td>00:11</td>\n",
              "    </tr>\n",
              "    <tr>\n",
              "      <td>3</td>\n",
              "      <td>0.533326</td>\n",
              "      <td>0.535899</td>\n",
              "      <td>0.773419</td>\n",
              "      <td>0.789383</td>\n",
              "      <td>00:11</td>\n",
              "    </tr>\n",
              "    <tr>\n",
              "      <td>4</td>\n",
              "      <td>0.526936</td>\n",
              "      <td>0.537485</td>\n",
              "      <td>0.771163</td>\n",
              "      <td>0.781392</td>\n",
              "      <td>00:11</td>\n",
              "    </tr>\n",
              "    <tr>\n",
              "      <td>5</td>\n",
              "      <td>0.519189</td>\n",
              "      <td>0.543610</td>\n",
              "      <td>0.768073</td>\n",
              "      <td>0.794992</td>\n",
              "      <td>00:11</td>\n",
              "    </tr>\n",
              "  </tbody>\n",
              "</table><p>\n",
              "\n",
              "    <div>\n",
              "        <style>\n",
              "            /* Turns off some styling */\n",
              "            progress {\n",
              "                /* gets rid of default border in Firefox and Opera. */\n",
              "                border: none;\n",
              "                /* Needs to be in here for Safari polyfill so background images work as expected. */\n",
              "                background-size: auto;\n",
              "            }\n",
              "            .progress-bar-interrupted, .progress-bar-interrupted::-webkit-progress-bar {\n",
              "                background: #F44336;\n",
              "            }\n",
              "        </style>\n",
              "      <progress value='59' class='' max='59', style='width:300px; height:20px; vertical-align: middle;'></progress>\n",
              "      100.00% [59/59 00:01<00:00]\n",
              "    </div>\n",
              "    "
            ],
            "text/plain": [
              "<IPython.core.display.HTML object>"
            ]
          },
          "metadata": {
            "tags": []
          }
        },
        {
          "output_type": "stream",
          "text": [
            "Better model found at epoch 0 with auroc value: 0.7659677863121033.\n",
            "Better model found at epoch 1 with auroc value: 0.7699263095855713.\n",
            "Epoch 2: reducing lr to 0.001\n",
            "Better model found at epoch 2 with auroc value: 0.7722581028938293.\n",
            "Better model found at epoch 3 with auroc value: 0.773418664932251.\n",
            "Epoch 4: reducing lr to 0.0008117456539497632\n",
            "Epoch 6: reducing lr to 0.0003887419780637108\n",
            "Epoch 6: early stopping\n",
            "[[0.774905 0.77824  0.771278 0.777162 0.773372]\n",
            " [0.777691 0.777909 0.769023 0.775511 0.773462]\n",
            " [0.774525 0.775412 0.770339 0.773336 0.77549 ]\n",
            " [0.773476 0.777906 0.770153 0.77461  0.770424]\n",
            " [0.775846 0.77262  0.76889  0.773419 0.      ]]\n",
            "Evaluating model :2000-1000iteration: 4 of 5\n"
          ],
          "name": "stdout"
        },
        {
          "output_type": "display_data",
          "data": {
            "text/html": [
              "\n",
              "    <div>\n",
              "        <style>\n",
              "            /* Turns off some styling */\n",
              "            progress {\n",
              "                /* gets rid of default border in Firefox and Opera. */\n",
              "                border: none;\n",
              "                /* Needs to be in here for Safari polyfill so background images work as expected. */\n",
              "                background-size: auto;\n",
              "            }\n",
              "            .progress-bar-interrupted, .progress-bar-interrupted::-webkit-progress-bar {\n",
              "                background: #F44336;\n",
              "            }\n",
              "        </style>\n",
              "      <progress value='6' class='' max='10', style='width:300px; height:20px; vertical-align: middle;'></progress>\n",
              "      60.00% [6/10 01:09<00:46]\n",
              "    </div>\n",
              "    \n",
              "<table border=\"1\" class=\"dataframe\">\n",
              "  <thead>\n",
              "    <tr style=\"text-align: left;\">\n",
              "      <th>epoch</th>\n",
              "      <th>train_loss</th>\n",
              "      <th>valid_loss</th>\n",
              "      <th>auroc</th>\n",
              "      <th>accuracy</th>\n",
              "      <th>time</th>\n",
              "    </tr>\n",
              "  </thead>\n",
              "  <tbody>\n",
              "    <tr>\n",
              "      <td>0</td>\n",
              "      <td>0.542038</td>\n",
              "      <td>0.543708</td>\n",
              "      <td>0.765041</td>\n",
              "      <td>0.775317</td>\n",
              "      <td>00:11</td>\n",
              "    </tr>\n",
              "    <tr>\n",
              "      <td>1</td>\n",
              "      <td>0.537977</td>\n",
              "      <td>0.539841</td>\n",
              "      <td>0.768900</td>\n",
              "      <td>0.772617</td>\n",
              "      <td>00:11</td>\n",
              "    </tr>\n",
              "    <tr>\n",
              "      <td>2</td>\n",
              "      <td>0.534946</td>\n",
              "      <td>0.542563</td>\n",
              "      <td>0.770947</td>\n",
              "      <td>0.787333</td>\n",
              "      <td>00:11</td>\n",
              "    </tr>\n",
              "    <tr>\n",
              "      <td>3</td>\n",
              "      <td>0.528820</td>\n",
              "      <td>0.537072</td>\n",
              "      <td>0.772559</td>\n",
              "      <td>0.769592</td>\n",
              "      <td>00:11</td>\n",
              "    </tr>\n",
              "    <tr>\n",
              "      <td>4</td>\n",
              "      <td>0.522063</td>\n",
              "      <td>0.537631</td>\n",
              "      <td>0.771403</td>\n",
              "      <td>0.782425</td>\n",
              "      <td>00:11</td>\n",
              "    </tr>\n",
              "    <tr>\n",
              "      <td>5</td>\n",
              "      <td>0.511765</td>\n",
              "      <td>0.542172</td>\n",
              "      <td>0.766431</td>\n",
              "      <td>0.781325</td>\n",
              "      <td>00:11</td>\n",
              "    </tr>\n",
              "  </tbody>\n",
              "</table><p>\n",
              "\n",
              "    <div>\n",
              "        <style>\n",
              "            /* Turns off some styling */\n",
              "            progress {\n",
              "                /* gets rid of default border in Firefox and Opera. */\n",
              "                border: none;\n",
              "                /* Needs to be in here for Safari polyfill so background images work as expected. */\n",
              "                background-size: auto;\n",
              "            }\n",
              "            .progress-bar-interrupted, .progress-bar-interrupted::-webkit-progress-bar {\n",
              "                background: #F44336;\n",
              "            }\n",
              "        </style>\n",
              "      <progress value='59' class='' max='59', style='width:300px; height:20px; vertical-align: middle;'></progress>\n",
              "      100.00% [59/59 00:01<00:00]\n",
              "    </div>\n",
              "    "
            ],
            "text/plain": [
              "<IPython.core.display.HTML object>"
            ]
          },
          "metadata": {
            "tags": []
          }
        },
        {
          "output_type": "stream",
          "text": [
            "Better model found at epoch 0 with auroc value: 0.7650413513183594.\n",
            "Better model found at epoch 1 with auroc value: 0.7689002156257629.\n",
            "Epoch 2: reducing lr to 0.001\n",
            "Better model found at epoch 2 with auroc value: 0.7709469199180603.\n",
            "Better model found at epoch 3 with auroc value: 0.7725589275360107.\n",
            "Epoch 4: reducing lr to 0.0008117456539497632\n",
            "Epoch 6: reducing lr to 0.0003887419780637108\n",
            "Epoch 6: early stopping\n",
            "[[0.774905 0.77824  0.771278 0.777162 0.773372]\n",
            " [0.777691 0.777909 0.769023 0.775511 0.773462]\n",
            " [0.774525 0.775412 0.770339 0.773336 0.77549 ]\n",
            " [0.773476 0.777906 0.770153 0.77461  0.770424]\n",
            " [0.775846 0.77262  0.76889  0.773419 0.772559]]\n"
          ],
          "name": "stdout"
        }
      ]
    },
    {
      "cell_type": "code",
      "metadata": {
        "id": "ogyii9eVjE8A",
        "colab_type": "code",
        "outputId": "e1da719c-1b99-4903-80f8-2e0532e2a2f4",
        "colab": {}
      },
      "source": [
        "evaluation"
      ],
      "execution_count": 0,
      "outputs": [
        {
          "output_type": "execute_result",
          "data": {
            "text/plain": [
              "array([[0.774905, 0.77824 , 0.771278, 0.777162, 0.773372],\n",
              "       [0.777691, 0.777909, 0.769023, 0.775511, 0.773462],\n",
              "       [0.774525, 0.775412, 0.770339, 0.773336, 0.77549 ],\n",
              "       [0.773476, 0.777906, 0.770153, 0.77461 , 0.770424],\n",
              "       [0.775846, 0.77262 , 0.76889 , 0.773419, 0.772559]])"
            ]
          },
          "metadata": {
            "tags": []
          },
          "execution_count": 67
        }
      ]
    },
    {
      "cell_type": "code",
      "metadata": {
        "scrolled": true,
        "id": "4awh1aOhjE8D",
        "colab_type": "code",
        "colab": {}
      },
      "source": [
        "a = np.max(evaluation,axis =1 , keepdims=True)"
      ],
      "execution_count": 0,
      "outputs": []
    },
    {
      "cell_type": "code",
      "metadata": {
        "id": "xFi4eOEqjE8G",
        "colab_type": "code",
        "colab": {}
      },
      "source": [
        "a =[np.max(evaluation,axis =1 , keepdims=True), dict_layers.keys()]"
      ],
      "execution_count": 0,
      "outputs": []
    },
    {
      "cell_type": "code",
      "metadata": {
        "id": "H_JHsZgwjE8I",
        "colab_type": "code",
        "outputId": "2cb41262-4db7-4a05-b1d9-8ba890707c95",
        "colab": {}
      },
      "source": [
        "dict_eval = dict(zip(dict_layers.keys(),np.max(evaluation,axis =1 , keepdims=True)))\n",
        "dict_eval"
      ],
      "execution_count": 0,
      "outputs": [
        {
          "output_type": "execute_result",
          "data": {
            "text/plain": [
              "{'300-300': array([0.77824]),\n",
              " '350-100': array([0.777909]),\n",
              " '500-500': array([0.77549]),\n",
              " '1000-500': array([0.777906]),\n",
              " '2000-1000': array([0.775846])}"
            ]
          },
          "metadata": {
            "tags": []
          },
          "execution_count": 86
        }
      ]
    },
    {
      "cell_type": "code",
      "metadata": {
        "id": "-tIJOJ9djE8L",
        "colab_type": "code",
        "outputId": "0c07f365-c9d2-4d8a-deb2-5c469cbbc09e",
        "colab": {}
      },
      "source": [
        ""
      ],
      "execution_count": 0,
      "outputs": [
        {
          "output_type": "error",
          "ename": "RuntimeError",
          "evalue": "Error(s) in loading state_dict for TabularModel:\n\tsize mismatch for layers.0.weight: copying a param with shape torch.Size([300, 374]) from checkpoint, the shape in current model is torch.Size([2000, 374]).\n\tsize mismatch for layers.0.bias: copying a param with shape torch.Size([300]) from checkpoint, the shape in current model is torch.Size([2000]).\n\tsize mismatch for layers.2.weight: copying a param with shape torch.Size([300]) from checkpoint, the shape in current model is torch.Size([2000]).\n\tsize mismatch for layers.2.bias: copying a param with shape torch.Size([300]) from checkpoint, the shape in current model is torch.Size([2000]).\n\tsize mismatch for layers.2.running_mean: copying a param with shape torch.Size([300]) from checkpoint, the shape in current model is torch.Size([2000]).\n\tsize mismatch for layers.2.running_var: copying a param with shape torch.Size([300]) from checkpoint, the shape in current model is torch.Size([2000]).\n\tsize mismatch for layers.4.weight: copying a param with shape torch.Size([300, 300]) from checkpoint, the shape in current model is torch.Size([1000, 2000]).\n\tsize mismatch for layers.4.bias: copying a param with shape torch.Size([300]) from checkpoint, the shape in current model is torch.Size([1000]).\n\tsize mismatch for layers.6.weight: copying a param with shape torch.Size([300]) from checkpoint, the shape in current model is torch.Size([1000]).\n\tsize mismatch for layers.6.bias: copying a param with shape torch.Size([300]) from checkpoint, the shape in current model is torch.Size([1000]).\n\tsize mismatch for layers.6.running_mean: copying a param with shape torch.Size([300]) from checkpoint, the shape in current model is torch.Size([1000]).\n\tsize mismatch for layers.6.running_var: copying a param with shape torch.Size([300]) from checkpoint, the shape in current model is torch.Size([1000]).\n\tsize mismatch for layers.8.weight: copying a param with shape torch.Size([2, 300]) from checkpoint, the shape in current model is torch.Size([2, 1000]).",
          "traceback": [
            "\u001b[0;31m---------------------------------------------------------------------------\u001b[0m",
            "\u001b[0;31mRuntimeError\u001b[0m                              Traceback (most recent call last)",
            "\u001b[0;32m<ipython-input-89-74ba815de510>\u001b[0m in \u001b[0;36m<module>\u001b[0;34m\u001b[0m\n\u001b[0;32m----> 1\u001b[0;31m \u001b[0mlearn2\u001b[0m\u001b[0;34m.\u001b[0m\u001b[0mload\u001b[0m\u001b[0;34m(\u001b[0m\u001b[0;34m\"300-300\"\u001b[0m\u001b[0;34m)\u001b[0m\u001b[0;34m\u001b[0m\u001b[0;34m\u001b[0m\u001b[0m\n\u001b[0m",
            "\u001b[0;32m/opt/conda/envs/fastai/lib/python3.6/site-packages/fastai/basic_train.py\u001b[0m in \u001b[0;36mload\u001b[0;34m(self, file, device, strict, with_opt, purge, remove_module)\u001b[0m\n\u001b[1;32m    271\u001b[0m             \u001b[0mmodel_state\u001b[0m \u001b[0;34m=\u001b[0m \u001b[0mstate\u001b[0m\u001b[0;34m[\u001b[0m\u001b[0;34m'model'\u001b[0m\u001b[0;34m]\u001b[0m\u001b[0;34m\u001b[0m\u001b[0;34m\u001b[0m\u001b[0m\n\u001b[1;32m    272\u001b[0m             \u001b[0;32mif\u001b[0m \u001b[0mremove_module\u001b[0m\u001b[0;34m:\u001b[0m \u001b[0mmodel_state\u001b[0m \u001b[0;34m=\u001b[0m \u001b[0mremove_module_load\u001b[0m\u001b[0;34m(\u001b[0m\u001b[0mmodel_state\u001b[0m\u001b[0;34m)\u001b[0m\u001b[0;34m\u001b[0m\u001b[0;34m\u001b[0m\u001b[0m\n\u001b[0;32m--> 273\u001b[0;31m             \u001b[0mget_model\u001b[0m\u001b[0;34m(\u001b[0m\u001b[0mself\u001b[0m\u001b[0;34m.\u001b[0m\u001b[0mmodel\u001b[0m\u001b[0;34m)\u001b[0m\u001b[0;34m.\u001b[0m\u001b[0mload_state_dict\u001b[0m\u001b[0;34m(\u001b[0m\u001b[0mmodel_state\u001b[0m\u001b[0;34m,\u001b[0m \u001b[0mstrict\u001b[0m\u001b[0;34m=\u001b[0m\u001b[0mstrict\u001b[0m\u001b[0;34m)\u001b[0m\u001b[0;34m\u001b[0m\u001b[0;34m\u001b[0m\u001b[0m\n\u001b[0m\u001b[1;32m    274\u001b[0m             \u001b[0;32mif\u001b[0m \u001b[0mifnone\u001b[0m\u001b[0;34m(\u001b[0m\u001b[0mwith_opt\u001b[0m\u001b[0;34m,\u001b[0m\u001b[0;32mTrue\u001b[0m\u001b[0;34m)\u001b[0m\u001b[0;34m:\u001b[0m\u001b[0;34m\u001b[0m\u001b[0;34m\u001b[0m\u001b[0m\n\u001b[1;32m    275\u001b[0m                 \u001b[0;32mif\u001b[0m \u001b[0;32mnot\u001b[0m \u001b[0mhasattr\u001b[0m\u001b[0;34m(\u001b[0m\u001b[0mself\u001b[0m\u001b[0;34m,\u001b[0m \u001b[0;34m'opt'\u001b[0m\u001b[0;34m)\u001b[0m\u001b[0;34m:\u001b[0m \u001b[0mself\u001b[0m\u001b[0;34m.\u001b[0m\u001b[0mcreate_opt\u001b[0m\u001b[0;34m(\u001b[0m\u001b[0mdefaults\u001b[0m\u001b[0;34m.\u001b[0m\u001b[0mlr\u001b[0m\u001b[0;34m,\u001b[0m \u001b[0mself\u001b[0m\u001b[0;34m.\u001b[0m\u001b[0mwd\u001b[0m\u001b[0;34m)\u001b[0m\u001b[0;34m\u001b[0m\u001b[0;34m\u001b[0m\u001b[0m\n",
            "\u001b[0;32m/opt/conda/envs/fastai/lib/python3.6/site-packages/torch/nn/modules/module.py\u001b[0m in \u001b[0;36mload_state_dict\u001b[0;34m(self, state_dict, strict)\u001b[0m\n\u001b[1;32m    767\u001b[0m         \u001b[0;32mif\u001b[0m \u001b[0mlen\u001b[0m\u001b[0;34m(\u001b[0m\u001b[0merror_msgs\u001b[0m\u001b[0;34m)\u001b[0m \u001b[0;34m>\u001b[0m \u001b[0;36m0\u001b[0m\u001b[0;34m:\u001b[0m\u001b[0;34m\u001b[0m\u001b[0;34m\u001b[0m\u001b[0m\n\u001b[1;32m    768\u001b[0m             raise RuntimeError('Error(s) in loading state_dict for {}:\\n\\t{}'.format(\n\u001b[0;32m--> 769\u001b[0;31m                                self.__class__.__name__, \"\\n\\t\".join(error_msgs)))\n\u001b[0m\u001b[1;32m    770\u001b[0m \u001b[0;34m\u001b[0m\u001b[0m\n\u001b[1;32m    771\u001b[0m     \u001b[0;32mdef\u001b[0m \u001b[0m_named_members\u001b[0m\u001b[0;34m(\u001b[0m\u001b[0mself\u001b[0m\u001b[0;34m,\u001b[0m \u001b[0mget_members_fn\u001b[0m\u001b[0;34m,\u001b[0m \u001b[0mprefix\u001b[0m\u001b[0;34m=\u001b[0m\u001b[0;34m''\u001b[0m\u001b[0;34m,\u001b[0m \u001b[0mrecurse\u001b[0m\u001b[0;34m=\u001b[0m\u001b[0;32mTrue\u001b[0m\u001b[0;34m)\u001b[0m\u001b[0;34m:\u001b[0m\u001b[0;34m\u001b[0m\u001b[0;34m\u001b[0m\u001b[0m\n",
            "\u001b[0;31mRuntimeError\u001b[0m: Error(s) in loading state_dict for TabularModel:\n\tsize mismatch for layers.0.weight: copying a param with shape torch.Size([300, 374]) from checkpoint, the shape in current model is torch.Size([2000, 374]).\n\tsize mismatch for layers.0.bias: copying a param with shape torch.Size([300]) from checkpoint, the shape in current model is torch.Size([2000]).\n\tsize mismatch for layers.2.weight: copying a param with shape torch.Size([300]) from checkpoint, the shape in current model is torch.Size([2000]).\n\tsize mismatch for layers.2.bias: copying a param with shape torch.Size([300]) from checkpoint, the shape in current model is torch.Size([2000]).\n\tsize mismatch for layers.2.running_mean: copying a param with shape torch.Size([300]) from checkpoint, the shape in current model is torch.Size([2000]).\n\tsize mismatch for layers.2.running_var: copying a param with shape torch.Size([300]) from checkpoint, the shape in current model is torch.Size([2000]).\n\tsize mismatch for layers.4.weight: copying a param with shape torch.Size([300, 300]) from checkpoint, the shape in current model is torch.Size([1000, 2000]).\n\tsize mismatch for layers.4.bias: copying a param with shape torch.Size([300]) from checkpoint, the shape in current model is torch.Size([1000]).\n\tsize mismatch for layers.6.weight: copying a param with shape torch.Size([300]) from checkpoint, the shape in current model is torch.Size([1000]).\n\tsize mismatch for layers.6.bias: copying a param with shape torch.Size([300]) from checkpoint, the shape in current model is torch.Size([1000]).\n\tsize mismatch for layers.6.running_mean: copying a param with shape torch.Size([300]) from checkpoint, the shape in current model is torch.Size([1000]).\n\tsize mismatch for layers.6.running_var: copying a param with shape torch.Size([300]) from checkpoint, the shape in current model is torch.Size([1000]).\n\tsize mismatch for layers.8.weight: copying a param with shape torch.Size([2, 300]) from checkpoint, the shape in current model is torch.Size([2, 1000])."
          ]
        }
      ]
    },
    {
      "cell_type": "code",
      "metadata": {
        "id": "bYNIsOC3jE8N",
        "colab_type": "code",
        "colab": {}
      },
      "source": [
        "learn2 = (tabular_learner(data, layers=[300,300],\n",
        "                          emb_szs=dict_emb, metrics=[AUROC(),accuracy],ps=[0.001,0.01], emb_drop=0.04,\n",
        "         callback_fns=[partial(ReduceLROnPlateauCallback, monitor='auroc', min_delta=0.01, patience=1, min_lr=1e-06, factor=0.10, mode='max'),\n",
        "                       partial(EarlyStoppingCallback, monitor='auroc', min_delta=0.001, patience=2, mode='max')]))"
      ],
      "execution_count": 0,
      "outputs": []
    },
    {
      "cell_type": "code",
      "metadata": {
        "id": "538TyiMajE8P",
        "colab_type": "code",
        "outputId": "59a20aca-7ab9-4cfe-9274-81470b261e66",
        "colab": {}
      },
      "source": [
        "learn_submission.load('300-300')"
      ],
      "execution_count": 0,
      "outputs": [
        {
          "output_type": "execute_result",
          "data": {
            "text/plain": [
              "Learner(data=TabularDataBunch;\n",
              "\n",
              "Train: LabelList (480000 items)\n",
              "x: TabularList\n",
              "bin_0 0.0; bin_1 0.0; bin_2 0.0; bin_3 F; bin_4 N; nom_0 Red; nom_1 Trapezoid; nom_2 Hamster; nom_3 Russia; nom_4 Bassoon; nom_5 de4c57ee2; nom_6 a64bc7ddf; nom_7 598080a91; nom_8 0256c7a4b; nom_9 02e7c8990; ord_0 3.0; ord_1 Contributor; ord_2 Hot; ord_3 c; ord_4 U; ord_5 Pw; sin_day_na False; cos_day_na False; sin_month_na False; cos_month_na False; sin_day 0.5601; cos_day 1.0042; sin_month 1.0651; cos_month -0.4217; ,bin_0 1.0; bin_1 1.0; bin_2 0.0; bin_3 F; bin_4 Y; nom_0 Red; nom_1 Star; nom_2 Axolotl; nom_3 #na#; nom_4 Theremin; nom_5 2bb3c3e5c; nom_6 3a3a936e8; nom_7 1dddb8473; nom_8 52ead350c; nom_9 f37df64af; ord_0 3.0; ord_1 Grandmaster; ord_2 Warm; ord_3 e; ord_4 X; ord_5 pE; sin_day_na False; cos_day_na False; sin_month_na False; cos_month_na False; sin_day 1.0592; cos_day -0.4880; sin_month 0.4931; cos_month -1.1370; ,bin_0 0.0; bin_1 1.0; bin_2 0.0; bin_3 F; bin_4 N; nom_0 Red; nom_1 #na#; nom_2 Hamster; nom_3 Canada; nom_4 Bassoon; nom_5 b574c9841; nom_6 708248125; nom_7 5ddc9a726; nom_8 745b909d1; nom_9 #na#; ord_0 3.0; ord_1 #na#; ord_2 Freezing; ord_3 n; ord_4 P; ord_5 eN; sin_day_na False; cos_day_na False; sin_month_na False; cos_month_na False; sin_day -1.1518; cos_day 1.1813; sin_month -0.3708; cos_month 1.9294; ,bin_0 #na#; bin_1 0.0; bin_2 0.0; bin_3 F; bin_4 N; nom_0 Red; nom_1 Circle; nom_2 Hamster; nom_3 Finland; nom_4 Theremin; nom_5 673bdf1f6; nom_6 23edb8da3; nom_7 3a33ef960; nom_8 bdaa56dd1; nom_9 f9d456e57; ord_0 1.0; ord_1 Novice; ord_2 Lava Hot; ord_3 a; ord_4 C; ord_5 #na#; sin_day_na False; cos_day_na False; sin_month_na False; cos_month_na False; sin_day -0.9790; cos_day -1.4197; sin_month 1.0651; cos_month -0.4217; ,bin_0 0.0; bin_1 #na#; bin_2 0.0; bin_3 T; bin_4 N; nom_0 Red; nom_1 Triangle; nom_2 Hamster; nom_3 Costa Rica; nom_4 #na#; nom_5 777d1ac2c; nom_6 3a7975e46; nom_7 bc9cc2a94; nom_8 #na#; nom_9 c5361037c; ord_0 3.0; ord_1 Grandmaster; ord_2 Cold; ord_3 h; ord_4 C; ord_5 OZ; sin_day_na False; cos_day_na False; sin_month_na False; cos_month_na False; sin_day -1.1518; cos_day 1.1813; sin_month 1.1523; cos_month -0.1519; \n",
              "y: CategoryList\n",
              "0,0,0,0,0\n",
              "Path: input;\n",
              "\n",
              "Valid: LabelList (120000 items)\n",
              "x: TabularList\n",
              "bin_0 0.0; bin_1 0.0; bin_2 0.0; bin_3 #na#; bin_4 Y; nom_0 Blue; nom_1 Circle; nom_2 Dog; nom_3 Canada; nom_4 Oboe; nom_5 598980bbb; nom_6 6cfbc4722; nom_7 6b1d5295a; nom_8 23dc2e63d; nom_9 85334bf6e; ord_0 1.0; ord_1 Expert; ord_2 Warm; ord_3 c; ord_4 H; ord_5 AW; sin_day_na False; cos_day_na False; sin_month_na False; cos_month_na False; sin_day -0.9790; cos_day -1.4197; sin_month 1.0651; cos_month -0.4217; ,bin_0 0.0; bin_1 0.0; bin_2 0.0; bin_3 F; bin_4 Y; nom_0 Red; nom_1 Polygon; nom_2 Hamster; nom_3 India; nom_4 Theremin; nom_5 27d98ee89; nom_6 6ff0a560c; nom_7 fdebf0648; nom_8 5e348d538; nom_9 46bd8c521; ord_0 3.0; ord_1 Contributor; ord_2 Warm; ord_3 b; ord_4 Q; ord_5 DN; sin_day_na False; cos_day_na False; sin_month_na False; cos_month_na False; sin_day 1.0592; cos_day -0.4880; sin_month 1.0651; cos_month -0.4217; ,bin_0 0.0; bin_1 0.0; bin_2 0.0; bin_3 T; bin_4 Y; nom_0 Green; nom_1 Triangle; nom_2 Axolotl; nom_3 #na#; nom_4 Theremin; nom_5 72a04486d; nom_6 dfc5f60b8; nom_7 4ae48e857; nom_8 7c77c52f3; nom_9 d8230a1f7; ord_0 3.0; ord_1 Contributor; ord_2 Freezing; ord_3 k; ord_4 #na#; ord_5 mi; sin_day_na False; cos_day_na False; sin_month_na False; cos_month_na False; sin_day 0.9951; cos_day 0.4772; sin_month 1.1342; cos_month 0.8484; ,bin_0 0.0; bin_1 0.0; bin_2 1.0; bin_3 F; bin_4 N; nom_0 Red; nom_1 Triangle; nom_2 Axolotl; nom_3 India; nom_4 Theremin; nom_5 98f6f35a4; nom_6 b0963199a; nom_7 c79d2197d; nom_8 8ce034bb6; nom_9 9d8b16243; ord_0 2.0; ord_1 Master; ord_2 Freezing; ord_3 n; ord_4 I; ord_5 SS; sin_day_na False; cos_day_na False; sin_month_na False; cos_month_na False; sin_day 0.9951; cos_day 0.4772; sin_month 0.4931; cos_month -1.1370; ,bin_0 0.0; bin_1 0.0; bin_2 0.0; bin_3 F; bin_4 Y; nom_0 Red; nom_1 Polygon; nom_2 Lion; nom_3 Costa Rica; nom_4 Oboe; nom_5 4d7780407; nom_6 328b0cf4e; nom_7 c3ad85934; nom_8 60c7c84ee; nom_9 2f6b55a55; ord_0 1.0; ord_1 Novice; ord_2 Boiling Hot; ord_3 a; ord_4 F; ord_5 Pw; sin_day_na False; cos_day_na False; sin_month_na False; cos_month_na False; sin_day 1.0592; cos_day -0.4880; sin_month 1.1342; cos_month 0.8484; \n",
              "y: CategoryList\n",
              "0,0,0,1,0\n",
              "Path: input;\n",
              "\n",
              "Test: LabelList (400000 items)\n",
              "x: TabularList\n",
              "bin_0 0.0; bin_1 0.0; bin_2 0.0; bin_3 F; bin_4 Y; nom_0 Blue; nom_1 Polygon; nom_2 Axolotl; nom_3 Finland; nom_4 Piano; nom_5 52f6dd16c; nom_6 147d704e4; nom_7 8d857a0a1; nom_8 ca9ad1d4b; nom_9 fced9e114; ord_0 3.0; ord_1 Novice; ord_2 Boiling Hot; ord_3 f; ord_4 U; ord_5 oU; sin_day_na False; cos_day_na False; sin_month_na False; cos_month_na False; sin_day -0.9790; cos_day -1.4197; sin_month -0.3708; cos_month 1.9294; ,bin_0 0.0; bin_1 0.0; bin_2 0.0; bin_3 F; bin_4 Y; nom_0 Red; nom_1 Circle; nom_2 Lion; nom_3 Russia; nom_4 Bassoon; nom_5 691ebeae8; nom_6 8653dcc2e; nom_7 67a8d4ebb; nom_8 060a21580; nom_9 7ca8775da; ord_0 1.0; ord_1 Novice; ord_2 Cold; ord_3 n; ord_4 N; ord_5 #na#; sin_day_na False; cos_day_na False; sin_month_na False; cos_month_na False; sin_day 0.6971; cos_day -1.0584; sin_month 1.1342; cos_month 0.8484; ,bin_0 0.0; bin_1 0.0; bin_2 0.0; bin_3 F; bin_4 Y; nom_0 Blue; nom_1 Circle; nom_2 Axolotl; nom_3 Russia; nom_4 Theremin; nom_5 81f792c16; nom_6 6cdda499e; nom_7 69403e18c; nom_8 165e81a00; nom_9 5940334c9; ord_0 1.0; ord_1 Expert; ord_2 Warm; ord_3 i; ord_4 N; ord_5 DN; sin_day_na False; cos_day_na False; sin_month_na False; cos_month_na False; sin_day 0.6971; cos_day -1.0584; sin_month -1.2096; cos_month -0.6686; ,bin_0 1.0; bin_1 0.0; bin_2 0.0; bin_3 F; bin_4 N; nom_0 Red; nom_1 Polygon; nom_2 Axolotl; nom_3 Costa Rica; nom_4 Bassoon; nom_5 c9134205b; nom_6 acbca4827; nom_7 cb681246b; nom_8 77d41330d; nom_9 6fbdeefc8; ord_0 1.0; ord_1 Expert; ord_2 Hot; ord_3 m; ord_4 B; ord_5 AG; sin_day_na False; cos_day_na False; sin_month_na False; cos_month_na False; sin_day 0.9951; cos_day 0.4772; sin_month -1.2096; cos_month -0.6686; ,bin_0 0.0; bin_1 0.0; bin_2 1.0; bin_3 F; bin_4 Y; nom_0 Red; nom_1 Circle; nom_2 #na#; nom_3 Finland; nom_4 Theremin; nom_5 f0f100f57; nom_6 6f800b9af; nom_7 cd9feb5c6; nom_8 2218d9dfe; nom_9 2a27c8fde; ord_0 1.0; ord_1 Contributor; ord_2 Lava Hot; ord_3 o; ord_4 J; ord_5 DT; sin_day_na False; cos_day_na False; sin_month_na False; cos_month_na False; sin_day -0.9790; cos_day -1.4197; sin_month 1.0651; cos_month -0.4217; \n",
              "y: EmptyLabelList\n",
              ",,,,\n",
              "Path: input, model=TabularModel(\n",
              "  (embeds): ModuleList(\n",
              "    (0): Embedding(3, 2)\n",
              "    (1): Embedding(3, 2)\n",
              "    (2): Embedding(3, 2)\n",
              "    (3): Embedding(3, 2)\n",
              "    (4): Embedding(3, 2)\n",
              "    (5): Embedding(4, 2)\n",
              "    (6): Embedding(7, 4)\n",
              "    (7): Embedding(7, 4)\n",
              "    (8): Embedding(7, 4)\n",
              "    (9): Embedding(5, 3)\n",
              "    (10): Embedding(1221, 50)\n",
              "    (11): Embedding(1520, 50)\n",
              "    (12): Embedding(223, 50)\n",
              "    (13): Embedding(223, 50)\n",
              "    (14): Embedding(2219, 50)\n",
              "    (15): Embedding(4, 2)\n",
              "    (16): Embedding(6, 3)\n",
              "    (17): Embedding(7, 4)\n",
              "    (18): Embedding(16, 8)\n",
              "    (19): Embedding(27, 14)\n",
              "    (20): Embedding(191, 50)\n",
              "    (21): Embedding(3, 3)\n",
              "    (22): Embedding(3, 3)\n",
              "    (23): Embedding(3, 3)\n",
              "    (24): Embedding(3, 3)\n",
              "  )\n",
              "  (emb_drop): Dropout(p=0.04)\n",
              "  (bn_cont): BatchNorm1d(4, eps=1e-05, momentum=0.1, affine=True, track_running_stats=True)\n",
              "  (layers): Sequential(\n",
              "    (0): Linear(in_features=374, out_features=300, bias=True)\n",
              "    (1): ReLU(inplace)\n",
              "    (2): BatchNorm1d(300, eps=1e-05, momentum=0.1, affine=True, track_running_stats=True)\n",
              "    (3): Dropout(p=0.001)\n",
              "    (4): Linear(in_features=300, out_features=300, bias=True)\n",
              "    (5): ReLU(inplace)\n",
              "    (6): BatchNorm1d(300, eps=1e-05, momentum=0.1, affine=True, track_running_stats=True)\n",
              "    (7): Dropout(p=0.01)\n",
              "    (8): Linear(in_features=300, out_features=2, bias=True)\n",
              "  )\n",
              "), opt_func=functools.partial(<class 'torch.optim.adam.Adam'>, betas=(0.9, 0.99)), loss_func=CrossEntropyLoss(), metrics=[AUROC(), <function accuracy at 0x7fbd3f4458c8>], true_wd=True, bn_wd=True, wd=0.01, train_bn=True, path=PosixPath('input'), model_dir='models', callback_fns=[], callbacks=[], layer_groups=[Sequential(\n",
              "  (0): Embedding(3, 2)\n",
              "  (1): Embedding(3, 2)\n",
              "  (2): Embedding(3, 2)\n",
              "  (3): Embedding(3, 2)\n",
              "  (4): Embedding(3, 2)\n",
              "  (5): Embedding(4, 2)\n",
              "  (6): Embedding(7, 4)\n",
              "  (7): Embedding(7, 4)\n",
              "  (8): Embedding(7, 4)\n",
              "  (9): Embedding(5, 3)\n",
              "  (10): Embedding(1221, 50)\n",
              "  (11): Embedding(1520, 50)\n",
              "  (12): Embedding(223, 50)\n",
              "  (13): Embedding(223, 50)\n",
              "  (14): Embedding(2219, 50)\n",
              "  (15): Embedding(4, 2)\n",
              "  (16): Embedding(6, 3)\n",
              "  (17): Embedding(7, 4)\n",
              "  (18): Embedding(16, 8)\n",
              "  (19): Embedding(27, 14)\n",
              "  (20): Embedding(191, 50)\n",
              "  (21): Embedding(3, 3)\n",
              "  (22): Embedding(3, 3)\n",
              "  (23): Embedding(3, 3)\n",
              "  (24): Embedding(3, 3)\n",
              "  (25): Dropout(p=0.04)\n",
              "  (26): BatchNorm1d(4, eps=1e-05, momentum=0.1, affine=True, track_running_stats=True)\n",
              "  (27): Linear(in_features=374, out_features=300, bias=True)\n",
              "  (28): ReLU(inplace)\n",
              "  (29): BatchNorm1d(300, eps=1e-05, momentum=0.1, affine=True, track_running_stats=True)\n",
              "  (30): Dropout(p=0.001)\n",
              "  (31): Linear(in_features=300, out_features=300, bias=True)\n",
              "  (32): ReLU(inplace)\n",
              "  (33): BatchNorm1d(300, eps=1e-05, momentum=0.1, affine=True, track_running_stats=True)\n",
              "  (34): Dropout(p=0.01)\n",
              "  (35): Linear(in_features=300, out_features=2, bias=True)\n",
              ")], add_time=True, silent=False)"
            ]
          },
          "metadata": {
            "tags": []
          },
          "execution_count": 122
        }
      ]
    },
    {
      "cell_type": "code",
      "metadata": {
        "id": "Oybjcbj8jE8S",
        "colab_type": "code",
        "outputId": "7258348a-a9dc-4d88-ae54-95db9a0bc84b",
        "colab": {}
      },
      "source": [
        "weights=[0.5,0.5]\n",
        "class_weights=torch.cuda.FloatTensor(weights)\n",
        "learn_submission.loss_func =nn.CrossEntropyLoss(weight=class_weights);learn2.loss_func"
      ],
      "execution_count": 0,
      "outputs": [
        {
          "output_type": "execute_result",
          "data": {
            "text/plain": [
              "FlattenedLoss of CrossEntropyLoss()"
            ]
          },
          "metadata": {
            "tags": []
          },
          "execution_count": 123
        }
      ]
    },
    {
      "cell_type": "code",
      "metadata": {
        "id": "Ux7-ad_cjE8T",
        "colab_type": "code",
        "outputId": "19b6db52-b4b4-4335-d56b-d4cd2b51aa02",
        "colab": {}
      },
      "source": [
        "learn2.fit_one_cycle(10,1e-2,wd = 0.2)"
      ],
      "execution_count": 0,
      "outputs": [
        {
          "output_type": "display_data",
          "data": {
            "text/html": [
              "\n",
              "    <div>\n",
              "        <style>\n",
              "            /* Turns off some styling */\n",
              "            progress {\n",
              "                /* gets rid of default border in Firefox and Opera. */\n",
              "                border: none;\n",
              "                /* Needs to be in here for Safari polyfill so background images work as expected. */\n",
              "                background-size: auto;\n",
              "            }\n",
              "            .progress-bar-interrupted, .progress-bar-interrupted::-webkit-progress-bar {\n",
              "                background: #F44336;\n",
              "            }\n",
              "        </style>\n",
              "      <progress value='5' class='' max='10', style='width:300px; height:20px; vertical-align: middle;'></progress>\n",
              "      50.00% [5/10 00:52<00:52]\n",
              "    </div>\n",
              "    \n",
              "<table border=\"1\" class=\"dataframe\">\n",
              "  <thead>\n",
              "    <tr style=\"text-align: left;\">\n",
              "      <th>epoch</th>\n",
              "      <th>train_loss</th>\n",
              "      <th>valid_loss</th>\n",
              "      <th>auroc</th>\n",
              "      <th>accuracy</th>\n",
              "      <th>time</th>\n",
              "    </tr>\n",
              "  </thead>\n",
              "  <tbody>\n",
              "    <tr>\n",
              "      <td>0</td>\n",
              "      <td>0.416306</td>\n",
              "      <td>0.410558</td>\n",
              "      <td>0.765860</td>\n",
              "      <td>0.821158</td>\n",
              "      <td>00:10</td>\n",
              "    </tr>\n",
              "    <tr>\n",
              "      <td>1</td>\n",
              "      <td>0.409341</td>\n",
              "      <td>0.412430</td>\n",
              "      <td>0.763364</td>\n",
              "      <td>0.819867</td>\n",
              "      <td>00:10</td>\n",
              "    </tr>\n",
              "    <tr>\n",
              "      <td>2</td>\n",
              "      <td>0.407207</td>\n",
              "      <td>0.408569</td>\n",
              "      <td>0.770451</td>\n",
              "      <td>0.820733</td>\n",
              "      <td>00:10</td>\n",
              "    </tr>\n",
              "    <tr>\n",
              "      <td>3</td>\n",
              "      <td>0.404254</td>\n",
              "      <td>0.410717</td>\n",
              "      <td>0.770745</td>\n",
              "      <td>0.821858</td>\n",
              "      <td>00:10</td>\n",
              "    </tr>\n",
              "    <tr>\n",
              "      <td>4</td>\n",
              "      <td>0.399768</td>\n",
              "      <td>0.406979</td>\n",
              "      <td>0.771411</td>\n",
              "      <td>0.822017</td>\n",
              "      <td>00:10</td>\n",
              "    </tr>\n",
              "  </tbody>\n",
              "</table><p>\n",
              "\n",
              "    <div>\n",
              "        <style>\n",
              "            /* Turns off some styling */\n",
              "            progress {\n",
              "                /* gets rid of default border in Firefox and Opera. */\n",
              "                border: none;\n",
              "                /* Needs to be in here for Safari polyfill so background images work as expected. */\n",
              "                background-size: auto;\n",
              "            }\n",
              "            .progress-bar-interrupted, .progress-bar-interrupted::-webkit-progress-bar {\n",
              "                background: #F44336;\n",
              "            }\n",
              "        </style>\n",
              "      <progress value='59' class='' max='59', style='width:300px; height:20px; vertical-align: middle;'></progress>\n",
              "      100.00% [59/59 00:01<00:00]\n",
              "    </div>\n",
              "    "
            ],
            "text/plain": [
              "<IPython.core.display.HTML object>"
            ]
          },
          "metadata": {
            "tags": []
          }
        },
        {
          "output_type": "stream",
          "text": [
            "Epoch 2: reducing lr to 0.001\n",
            "Epoch 4: reducing lr to 0.0008117456539497632\n",
            "Epoch 5: early stopping\n"
          ],
          "name": "stdout"
        }
      ]
    },
    {
      "cell_type": "code",
      "metadata": {
        "id": "a6iFqDwIjE8Z",
        "colab_type": "code",
        "outputId": "e9c9428b-2e94-419a-dc00-d83ad27a48fc",
        "colab": {}
      },
      "source": [
        "learn2.lr_find()\n",
        "learn2.recorder.plot()"
      ],
      "execution_count": 0,
      "outputs": [
        {
          "output_type": "display_data",
          "data": {
            "text/html": [
              "\n",
              "    <div>\n",
              "        <style>\n",
              "            /* Turns off some styling */\n",
              "            progress {\n",
              "                /* gets rid of default border in Firefox and Opera. */\n",
              "                border: none;\n",
              "                /* Needs to be in here for Safari polyfill so background images work as expected. */\n",
              "                background-size: auto;\n",
              "            }\n",
              "            .progress-bar-interrupted, .progress-bar-interrupted::-webkit-progress-bar {\n",
              "                background: #F44336;\n",
              "            }\n",
              "        </style>\n",
              "      <progress value='0' class='' max='1', style='width:300px; height:20px; vertical-align: middle;'></progress>\n",
              "      0.00% [0/1 00:00<00:00]\n",
              "    </div>\n",
              "    \n",
              "<table border=\"1\" class=\"dataframe\">\n",
              "  <thead>\n",
              "    <tr style=\"text-align: left;\">\n",
              "      <th>epoch</th>\n",
              "      <th>train_loss</th>\n",
              "      <th>valid_loss</th>\n",
              "      <th>auroc</th>\n",
              "      <th>accuracy</th>\n",
              "      <th>time</th>\n",
              "    </tr>\n",
              "  </thead>\n",
              "  <tbody>\n",
              "  </tbody>\n",
              "</table><p>\n",
              "\n",
              "    <div>\n",
              "        <style>\n",
              "            /* Turns off some styling */\n",
              "            progress {\n",
              "                /* gets rid of default border in Firefox and Opera. */\n",
              "                border: none;\n",
              "                /* Needs to be in here for Safari polyfill so background images work as expected. */\n",
              "                background-size: auto;\n",
              "            }\n",
              "            .progress-bar-interrupted, .progress-bar-interrupted::-webkit-progress-bar {\n",
              "                background: #F44336;\n",
              "            }\n",
              "        </style>\n",
              "      <progress value='82' class='' max='234', style='width:300px; height:20px; vertical-align: middle;'></progress>\n",
              "      35.04% [82/234 00:03<00:05 0.6072]\n",
              "    </div>\n",
              "    "
            ],
            "text/plain": [
              "<IPython.core.display.HTML object>"
            ]
          },
          "metadata": {
            "tags": []
          }
        },
        {
          "output_type": "stream",
          "text": [
            "LR Finder is complete, type {learner_name}.recorder.plot() to see the graph.\n"
          ],
          "name": "stdout"
        },
        {
          "output_type": "display_data",
          "data": {
            "image/png": "[encoded data removed]",
            "text/plain": [
              "<Figure size 432x288 with 1 Axes>"
            ]
          },
          "metadata": {
            "tags": [],
            "needs_background": "light"
          }
        }
      ]
    },
    {
      "cell_type": "code",
      "metadata": {
        "scrolled": true,
        "id": "PDTwEhAwjE8c",
        "colab_type": "code",
        "colab": {}
      },
      "source": [
        "learn_submission.callback_fns = []"
      ],
      "execution_count": 0,
      "outputs": []
    },
    {
      "cell_type": "code",
      "metadata": {
        "id": "W0TJ3-z4jE8g",
        "colab_type": "code",
        "outputId": "1aef4189-a0cd-45a3-a09c-75770da012b6",
        "colab": {}
      },
      "source": [
        "y =learn_submission.get_preds();y"
      ],
      "execution_count": 0,
      "outputs": [
        {
          "output_type": "display_data",
          "data": {
            "text/html": [
              ""
            ],
            "text/plain": [
              "<IPython.core.display.HTML object>"
            ]
          },
          "metadata": {
            "tags": []
          }
        },
        {
          "output_type": "execute_result",
          "data": {
            "text/plain": [
              "[tensor([[0.7493, 0.2507],\n",
              "         [0.9568, 0.0432],\n",
              "         [0.5571, 0.4429],\n",
              "         ...,\n",
              "         [0.8552, 0.1448],\n",
              "         [0.7912, 0.2088],\n",
              "         [0.7638, 0.2362]]), tensor([0, 0, 0,  ..., 0, 0, 0])]"
            ]
          },
          "metadata": {
            "tags": []
          },
          "execution_count": 104
        }
      ]
    },
    {
      "cell_type": "code",
      "metadata": {
        "id": "zlWKae9kjE8i",
        "colab_type": "code",
        "outputId": "4ba9ce52-62d5-450d-8591-7d03e2b7dfa1",
        "colab": {}
      },
      "source": [
        "interp = ClassificationInterpretation.from_learner(learn2)"
      ],
      "execution_count": 0,
      "outputs": [
        {
          "output_type": "display_data",
          "data": {
            "text/html": [
              ""
            ],
            "text/plain": [
              "<IPython.core.display.HTML object>"
            ]
          },
          "metadata": {
            "tags": []
          }
        }
      ]
    },
    {
      "cell_type": "code",
      "metadata": {
        "id": "lOF4XAKRjE8l",
        "colab_type": "code",
        "outputId": "bdceec51-468a-4ecb-b94a-c3ed73a0171e",
        "colab": {}
      },
      "source": [
        "interp.plot_confusion_matrix()"
      ],
      "execution_count": 0,
      "outputs": [
        {
          "output_type": "display_data",
          "data": {
            "image/png": "[encoded data removed]",
            "text/plain": [
              "<Figure size 432x288 with 1 Axes>"
            ]
          },
          "metadata": {
            "tags": [],
            "needs_background": "light"
          }
        }
      ]
    },
    {
      "cell_type": "code",
      "metadata": {
        "id": "F_Vc2qiWjE8o",
        "colab_type": "code",
        "outputId": "b4ed6830-0311-44d3-93c9-209c53c0e41c",
        "colab": {}
      },
      "source": [
        "preds = learn_submission.validate();preds"
      ],
      "execution_count": 0,
      "outputs": [
        {
          "output_type": "display_data",
          "data": {
            "text/html": [
              ""
            ],
            "text/plain": [
              "<IPython.core.display.HTML object>"
            ]
          },
          "metadata": {
            "tags": []
          }
        },
        {
          "output_type": "execute_result",
          "data": {
            "text/plain": [
              "[0.5372261, tensor(0.7734), tensor(0.7722)]"
            ]
          },
          "metadata": {
            "tags": []
          },
          "execution_count": 113
        }
      ]
    },
    {
      "cell_type": "code",
      "metadata": {
        "id": "09itG4d7jE8y",
        "colab_type": "code",
        "outputId": "f8128e78-7f21-4559-9fa5-61332f05d264",
        "colab": {}
      },
      "source": [
        "preds = learn_submission.get_preds(ds_type=DatasetType.Test)\n",
        "y = to_np(y[0])[:,1]\n",
        "output = pd.read_csv('./input/sample_submission.csv')\n",
        "output['target']= y\n",
        "output.to_csv('submission.csv',index=False)"
      ],
      "execution_count": 0,
      "outputs": [
        {
          "output_type": "display_data",
          "data": {
            "text/html": [
              ""
            ],
            "text/plain": [
              "<IPython.core.display.HTML object>"
            ]
          },
          "metadata": {
            "tags": []
          }
        }
      ]
    },
    {
      "cell_type": "code",
      "metadata": {
        "id": "kiCs9DeujE81",
        "colab_type": "code",
        "colab": {}
      },
      "source": [
        ""
      ],
      "execution_count": 0,
      "outputs": []
    },
    {
      "cell_type": "code",
      "metadata": {
        "id": "0F5-p_H6jE82",
        "colab_type": "code",
        "colab": {}
      },
      "source": [
        ""
      ],
      "execution_count": 0,
      "outputs": []
    },
    {
      "cell_type": "code",
      "metadata": {
        "id": "YFBWw5xPjE84",
        "colab_type": "code",
        "colab": {}
      },
      "source": [
        ""
      ],
      "execution_count": 0,
      "outputs": []
    },
    {
      "cell_type": "code",
      "metadata": {
        "id": "gUwYlrc4jE85",
        "colab_type": "code",
        "colab": {}
      },
      "source": [
        ""
      ],
      "execution_count": 0,
      "outputs": []
    },
    {
      "cell_type": "code",
      "metadata": {
        "id": "7oOE3UHvjE88",
        "colab_type": "code",
        "colab": {}
      },
      "source": [
        ""
      ],
      "execution_count": 0,
      "outputs": []
    },
    {
      "cell_type": "code",
      "metadata": {
        "id": "p833uDYnjE9A",
        "colab_type": "code",
        "colab": {}
      },
      "source": [
        ""
      ],
      "execution_count": 0,
      "outputs": []
    }
  ]
}